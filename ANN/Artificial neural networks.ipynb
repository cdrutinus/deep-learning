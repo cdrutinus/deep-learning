{
 "cells": [
  {
   "cell_type": "markdown",
   "metadata": {
    "slideshow": {
     "slide_type": "-"
    }
   },
   "source": [
    "This notebook is part of the [Machine Learning class](https://github.com/erachelson/MLclass) by [Emmanuel Rachelson](https://personnel.isae-supaero.fr/emmanuel-rachelson?lang=en).\n",
    "\n",
    "License: CC-BY-SA-NC."
   ]
  },
  {
   "cell_type": "markdown",
   "metadata": {
    "slideshow": {
     "slide_type": "-"
    }
   },
   "source": [
    "<div style=\"font-size:22pt; line-height:25pt; font-weight:bold; text-align:center;\">Artificial Neural Networks</div>\n",
    "\n",
    "1. [Biological neural networks](#sec1)\n",
    "2. [Why invent artificial neural networks?](#sec2)\n",
    "2. [Artificial neural networks](#sec3)\n",
    "3. [Propagating values through a network](#sec4)\n",
    "3. [Learning the weights of a neural network (regression case)](#sec5)\n",
    "4. [Neural networks for classification](#sec6)"
   ]
  },
  {
   "cell_type": "markdown",
   "metadata": {},
   "source": [
    "# 1. <a id=\"sec1\"></a> Biological neural networks\n",
    "\n",
    "In 1839, *Cell theory* introduces the idea that living bodies are made of cells.<br>\n",
    "**Mikroskopische Untersuchungen über die Uebereinstimmung in der Struktur und dem Wachsthum der Thiere und Pflanzen.**<br>\n",
    "Schwann, Theodor. Berlin: Sander. (1839).\n",
    "\n",
    "But due to limitations in microsopy in the XIXth century, no one had observed the basic constituents of nerve tissue and the nervous system stood as an exception to cell theory.\n",
    "\n",
    "In the first issue of the Revista Trimestral de Histología Normal y Patológica (May, 1888), Santiago Ramón y Cajal shows a physical separation between individual cells at the axon/dendrite connection (in chickens). This lays the basis of the **neuron doctrine** which lead to his 1906 Nobel prize for Physiology or Medecine.<br>\n",
    "**Neuron theory, the cornerstone of neuroscience, on the centenary of the Nobel Prize award to Santiago Ramón y Cajal**.<br>\n",
    "López-Muñoz, F., Boya, J., & Alamo, C. Brain research bulletin, 70(4-6), 391-405. (2006).\n",
    "\n",
    "Neuron doctrine:\n",
    "- neurons are the basis constituent of the nervous system\n",
    "- dendrites $\\rightarrow$ nucleus $\\rightarrow$ axon $\\rightarrow$ synapses (Law of Dynamic Polarization).\n",
    "- electrical impulses.\n",
    "- chemical neuro-transmitters.\n",
    "\n",
    "<img src=\"img/neuron_bio.png\" width=\"600px\"></img>"
   ]
  },
  {
   "cell_type": "markdown",
   "metadata": {},
   "source": [
    "# 2. <a id=\"sec2\"></a> Why invent \"artificial neural networks\"?\n",
    "\n",
    "Our rationale goes as follows.<br>\n",
    "The human brain processes information efficiently, can we design an artificial computing method that mimics it?<br>\n",
    "But computers process bits, so our artificial neurons should take logical values as inputs.\n",
    "\n",
    "Let's take inspiration from the biological neuron for that and make a simplified model of a neuron. Suppose an input signal in the form of a binary vector $x$. The elements of $x$ can indicate binary statements which are true or false, such as \"it's raining\" or \"I have an umbrella\". We will model the *activation* of a neuron as:\n",
    "$$f(x)=\\left\\{\\begin{array}{ll} 0 & \\textrm{if }w^T x+b\\leq 0 \\\\ 1 & \\textrm{otherwise}\\end{array}\\right.=step\\left(w^Tx + b\\right),$$\n",
    "where $step$ is Heaviside's step function.\n",
    "\n",
    "We will call such a function *Rosenblatt's Perceptron*.\n",
    "Basically, a perceptron is a linear separation rule.\n",
    "Intuitively, it is a machine that weights evidence $x$ and compares it to threshold $b$ in order to make a decision $f(x)$.\n",
    "\n",
    "Although perceptrons were invented in the 50's and are not really representative of modern artificial neural networks, manipulating them conveys some of the important intuitions about artificial networks, so we will go into a \"back to the future\" mode for the next paragraphs before going any further."
   ]
  },
  {
   "cell_type": "markdown",
   "metadata": {},
   "source": [
    "<div class=\"alert alert-warning\">\n",
    "    \n",
    "**Exercice: Back to the future, logical gates.** <br>\n",
    "Take Rosenblatt's perceptron and find input weights that correspond to AND, OR and NAND gates (for two binary inputs).</div>"
   ]
  },
  {
   "cell_type": "markdown",
   "metadata": {},
   "source": [
    "<div class=\"alert alert-danger\"><a href=\"#answer1\" data-toggle=\"collapse\"><b>Ready to see the answer? (click to expand)</b></a><br>\n",
    "<div id=\"answer1\" class=\"collapse\">\n",
    "\n",
    "Rosenblatt's perceptron is the function $step(w_1 x_1 + w_2 x_2 +b)$. \n",
    "\n",
    "With $(w_1, w_2, b) = (2,2,-1)$ we get an OR gate. \n",
    "\n",
    "With $(w_1, w_2, b) = (2,2, -3)$ we get an AND gate. \n",
    "\n",
    "With $(w_1, w_2, b) = (-2,-2,3)$ we get a NAND gate.\n",
    "</div>\n",
    "</div>"
   ]
  },
  {
   "cell_type": "code",
   "execution_count": 1,
   "metadata": {},
   "outputs": [
    {
     "name": "stdout",
     "output_type": "stream",
     "text": [
      "The history saving thread hit an unexpected error (DatabaseError('database disk image is malformed')).History will not be written to the database.\n",
      "input values:\n",
      " [[0. 0.]\n",
      " [1. 0.]\n",
      " [0. 1.]\n",
      " [1. 1.]]\n",
      "testing OR gate: [0. 1. 1. 1.]\n",
      "testing AND gate: [0. 0. 0. 1.]\n",
      "testing NAND gate: [1. 1. 1. 0.]\n"
     ]
    }
   ],
   "source": [
    "import numpy as np\n",
    "\n",
    "def perceptron(w,b,x):\n",
    "    return np.heaviside(np.dot(x,w)+b,0)\n",
    "\n",
    "x = np.zeros((4,2))\n",
    "x[1,0] = 1.\n",
    "x[2,1] = 1.\n",
    "x[3,0] = 1.\n",
    "x[3,1] = 1.\n",
    "\n",
    "print(\"input values:\\n\", x)\n",
    "\n",
    "def OR(x):\n",
    "    w = np.array([2.,2.])\n",
    "    b = -1.\n",
    "    return perceptron(w,b,x)\n",
    "print(\"testing OR gate:\", OR(x))\n",
    "\n",
    "def AND(x):\n",
    "    w = np.array([2.,2.])\n",
    "    b = -3.\n",
    "    return perceptron(w,b,x)\n",
    "print(\"testing AND gate:\", AND(x))\n",
    "\n",
    "def NAND(x):\n",
    "    w = np.array([-2.,-2.])\n",
    "    b = 3.\n",
    "    return perceptron(w,b,x)\n",
    "print(\"testing NAND gate:\", NAND(x))"
   ]
  },
  {
   "cell_type": "markdown",
   "metadata": {},
   "source": [
    "<div class=\"alert alert-warning\">\n",
    "    \n",
    "**Exercice: Back to the future, the XOR affair.** <br> \n",
    "Does it seem possible to describe a XOR gate with a perceptron? Building a XOR function can be seen as a classification problem; what is the family of classification problems that can be tackled by perpectrons (hint: recall the beginning of the SVM class)?</div>"
   ]
  },
  {
   "cell_type": "markdown",
   "metadata": {},
   "source": [
    "<div class=\"alert alert-danger\"><a href=\"#answer2\" data-toggle=\"collapse\"><b>Ready to see the answer? (click to expand)</b></a><br>\n",
    "<div id=\"answer2\" class=\"collapse\">\n",
    "    \n",
    "No, it is actually not possible to model a XOR gate with a perceptron. Since perceptrons implement a threshold on a linear combination of the inputs, they can only separate (shatter, in VC theory) classes that are... linearly separable. XOR is a typical example of non-linearly separable data.\n",
    "</div>\n",
    "</div>"
   ]
  },
  {
   "cell_type": "code",
   "execution_count": 2,
   "metadata": {},
   "outputs": [
    {
     "data": {
      "image/png": "[encoded data removed]",
      "text/plain": [
       "<Figure size 432x288 with 1 Axes>"
      ]
     },
     "metadata": {
      "needs_background": "light"
     },
     "output_type": "display_data"
    }
   ],
   "source": [
    "%matplotlib inline\n",
    "import matplotlib.pyplot as plt\n",
    "\n",
    "plt.scatter([0,1],[0,1],c='b')\n",
    "plt.scatter([1,0],[0,1],c='r');"
   ]
  },
  {
   "cell_type": "markdown",
   "metadata": {},
   "source": [
    "<div class=\"alert alert-success\">\n",
    "    \n",
    "**Back to the future, networks of perceptrons.**<br> \n",
    "It is possible to connect perceptrons together to get a XOR function (for example by remarking that $x_1$ XOR $x_2$ = $(x_1$ OR $x_2)$ AND $(x_1$ NAND $x_2)$). It is actually possible to do so for any logical function. Such connected architectures are called Multi-Layer Perceptrons (MLP). This term was later used (abusively) for multi-layered networks of artifical neurons, regardless of their activation functions.</div>"
   ]
  },
  {
   "cell_type": "markdown",
   "metadata": {},
   "source": [
    "<img src=\"./img/xor.png\" width=\"600px\"></img>"
   ]
  },
  {
   "cell_type": "code",
   "execution_count": 3,
   "metadata": {},
   "outputs": [
    {
     "name": "stdout",
     "output_type": "stream",
     "text": [
      "input values:\n",
      " [[0. 0.]\n",
      " [1. 0.]\n",
      " [0. 1.]\n",
      " [1. 1.]]\n",
      "testing XOR gate: [0. 1. 1. 0.]\n"
     ]
    }
   ],
   "source": [
    "def XOR(x):\n",
    "    y1 = OR(x)\n",
    "    y2 = NAND(x)\n",
    "    y = np.array([y1,y2]).T\n",
    "    return AND(y)\n",
    "print(\"input values:\\n\", x)\n",
    "print(\"testing XOR gate:\", XOR(x))"
   ]
  },
  {
   "cell_type": "markdown",
   "metadata": {},
   "source": [
    "As a consequence, any logical circuit can be represented as an MLP. **This seems a great ground for computer-based intelligence!**\n",
    "\n",
    "Now the question is \"how does one find (learn) the structure and weights of a neural network that seems intelligent?\". We will come to that in a minute; let's first play around a bit with artificial neurons."
   ]
  },
  {
   "cell_type": "markdown",
   "metadata": {},
   "source": [
    "<div class=\"alert alert-warning\">\n",
    "    \n",
    "**Exercice: Weight invariance of the Heaviside neuron.**<br>\n",
    "If one multiplies all weights and the bias of a perceptron by a constant $c>0$, does the logical function change?</div>"
   ]
  },
  {
   "cell_type": "markdown",
   "metadata": {},
   "source": [
    "<div class=\"alert alert-danger\"><a href=\"#answer3\" data-toggle=\"collapse\"><b>Ready to see the answer? (click to expand)</b></a><br>\n",
    "<div id=\"answer3\" class=\"collapse\">\n",
    "    \n",
    "A perceptron is invariant by scalar multiplication.\n",
    "</div>\n",
    "</div>"
   ]
  },
  {
   "cell_type": "markdown",
   "metadata": {},
   "source": [
    "So far, we have considered a drastic \"0 or 1\" activation for a certain neuron. Suppose now that the input $x$ is not binary anymore: it is made of continuous variables, like a temperature, or a user preference. Then, when processing an input $x$, either the neuron's stimulation $w^Tx$ is above $-b$ or it is below. This makes the output of a neuron very sensitive to noise in the input, or to errors in setting the weights. Conversely, we could wish for a function that is *S-shaped* and that transitions smoothly from 0 to 1.\n",
    "\n",
    "An example of such a function is the sigmoid function:\n",
    "$$\\sigma(x) = \\frac{1}{1 + e^{-x}}$$"
   ]
  },
  {
   "cell_type": "code",
   "execution_count": 4,
   "metadata": {},
   "outputs": [
    {
     "data": {
      "image/png": "[encoded data removed]",
      "text/plain": [
       "<Figure size 432x288 with 1 Axes>"
      ]
     },
     "metadata": {
      "needs_background": "light"
     },
     "output_type": "display_data"
    }
   ],
   "source": [
    "def sigmoid(x):\n",
    "    return 1./(1. + np.exp(-x))\n",
    "\n",
    "XX = np.arange(-10.,10.,0.1)\n",
    "plt.plot(XX,sigmoid(XX));"
   ]
  },
  {
   "cell_type": "markdown",
   "metadata": {},
   "source": [
    "<div class=\"alert alert-warning\">\n",
    "    \n",
    "**Exercice: Weight invariance of the sigmoid neuron.**<br>\n",
    "Explain why the weight invariance property does not hold for sigmoid activation functions? Can we regain this invariance property when $c\\rightarrow\\infty$?\n",
    "</div>"
   ]
  },
  {
   "cell_type": "markdown",
   "metadata": {},
   "source": [
    "<div class=\"alert alert-danger\"><a href=\"#answer4\" data-toggle=\"collapse\"><b>Ready to see the answer? (click to expand)</b></a><br>\n",
    "<div id=\"answer4\" class=\"collapse\">\n",
    "    \n",
    "This weight invariance property is not true for a sigmoid neuron because, for a given input $x$, multiplying all input weights by $c$ boils down to a shift by a multiplicative factor of $c$ on the horizontal scale of the sigmoid function above, which changes the value taken on the vertical axis. However, when $c\\rightarrow\\infty$, the sigmoid acts as a $step(w^Tx+b)$ function so tends to the same behavior as the perceptron.\n",
    "</div>\n",
    "</div>"
   ]
  },
  {
   "cell_type": "markdown",
   "metadata": {},
   "source": [
    "<div class=\"alert alert-success\">\n",
    "    \n",
    "**Beyond perceptrons.** Modern ANNs model logical functions as well as classification or regression tasks. For this purpose, one needs to find the correct weights so that the network actually produces the desired relation between inputs and outputs. Automatically tuning these weights from the data is the learning algorithm we need to design.\n",
    "</div>\n",
    "\n",
    "Note that the definition above restricts learning algorithms to finding optimized weights for a predefined set of neurons and connections. This is too reductive: finding the appropriate network structure is just as important. Unfortunately, Neural Architecture Search is still a pretty open research topic and, in this class, we will focus on weight learning for predefined network topologies."
   ]
  },
  {
   "cell_type": "markdown",
   "metadata": {},
   "source": [
    "So far, our progression of ideas has been:\n",
    "- The human brain processes information efficiently, can we design an artificial computing method that mimics it?\n",
    "- The biologicial neuron.\n",
    "- Rosenblatt's perceptron: $f(x)=step(\\sum w^T x+b)$ for a binary $x$ input vector.\n",
    "- Networks of artificial neurons = Artifical Neural Networks (ANN).\n",
    "- Generalization on activation functions and the particular case of the (logistic) sigmoid function.\n",
    "\n",
    "If you get all the ideas behind each of these steps, we can move on to the next section."
   ]
  },
  {
   "cell_type": "markdown",
   "metadata": {},
   "source": [
    "# 3. <a id=\"sec3\"></a>Artificial neural networks\n",
    "\n",
    "**The idea:**\n",
    "1. Each neuron processes a bit of information and passes it to its children.\n",
    "2. Overall the network processes raw information into general concepts.\n",
    "\n",
    "**Question:** can we mimic this system of connections in a learning system that adapts its parameters to the data it is exposed to?\n",
    "\n",
    "<img src=\"img/neuron_bio.png\" width=\"600px\"></img>\n",
    "\n",
    "**A formal neuron:**\n",
    "$$z = \\sigma(w^T x + b)$$\n",
    "- $x$ is the input (the $n$-dimensional signal received through dendrites)\n",
    "- $w$ is an $n$-dimensional vector of weights that give more or less importance to the elements of $x$\n",
    "- $b$ is a scalar bias\n",
    "- $\\sigma$ is the neuron's activation function\n",
    "- $z$ is the output (the signal along the \"axon\")\n",
    "\n",
    "Note that the formal neuron is a *function*, very different from the impulses carried by axons in biological neurons.\n",
    "\n",
    "<img src=\"img/artificial-neuron.png\" width=\"250px\">\n",
    "\n",
    "**Computation graph**\n",
    "\n",
    "A neural network is obtained by connecting some neuron's outputs to other neurons inputs. The goal of such a network is typically to learn how to imitate a certain function $f(x)$ for which we are given training data pairs $(x,y)$ with $y = f(x) + \\textrm{noise}$. Such a network has thus three types of neurons:\n",
    "- Input neurons. Those correspond to the different input variables $x_j$ describing our training examples.\n",
    "- Output neurons. Those correspond to the targets $y$ in our examples.\n",
    "- Hidden neurons. Any neurons that's not an input or an output neuron.\n",
    "\n",
    "Therefore, a neural network is a computation graph, with inputs $x$ and outputs $y$, where nodes are neurons and edges connect the output signal of a node to one of the inputs of another.\n",
    "\n",
    "**A little vocabulary:**\n",
    "- A neural network is a computation graph.\n",
    "- The input layer is composed of all input neurons.\n",
    "- A layer is a (maximum) set of unconnected neurons, at the same depth from the input layer.\n",
    "- The output layer is composed of all output neurons.\n",
    "- All layers between the input and output layers are called hidden layers.\n",
    "- A neural network organized in layers is called a feedforward NN.\n",
    "- Some neural networks are not feedforward NNs and present loops. They are called Recurrent NN.\n",
    "- A multilayer NN is often called a multilayer perceptron (for historical reasons)\n",
    "- The output of a neuron is also called its activation.\n",
    "- The vector of outputs for all neurons in a given layer is called the layer's activation.\n",
    "\n",
    "<img src=\"img/nn.png\" width=\"600px\"></img>\n",
    "\n",
    "**A bit of history:**<br>\n",
    "1943: McCulloch (neurophysiologist) and Pitts (logician) suggest a first formal model for neurons.\n",
    "> A logical calculus of the ideas immanent in nervous activity. McCulloch, W. and Pitts, W. Bulletin of Mathematical Biophysics, 5:115–133. (1943). [paper](https://link.springer.com/article/10.1007%2FBF02478259), [wikipedia](https://en.wikipedia.org/wiki/Artificial_neuron).\n",
    "\n",
    "1949: Hebb suggests dendrites are strengthened whenever they are used.\n",
    "> The Organization of Behavior. Hebb, D.O. New York: Wiley & Sons. (1949). [book](), [wikipedia](https://en.wikipedia.org/wiki/Hebbian_theory).\n",
    "\n",
    "1951: [Minsky](https://en.wikipedia.org/wiki/Marvin_Minsky) designs a network of artificial neurons.\n",
    "> [wikipedia](https://en.wikipedia.org/wiki/Stochastic_neural_analog_reinforcement_calculator)\n",
    "\n",
    "1958: Roseblatt designs the Perceptron, with step activation functions.\n",
    "> The perceptron: A probabilistic model for information storage and organization in the brain. Rosenblatt, F. Psychological Review, 65(6), 386-408. (1958) [wikipedia](https://en.wikipedia.org/wiki/Perceptron). [paper](http://citeseerx.ist.psu.edu/viewdoc/summary?doi=10.1.1.588.3775)\n",
    "\n",
    "1962: Widrow and Hoff suggest the delta-rule for adapting a network weights to obtain the desired output.\n",
    "> [wikipedia](https://en.wikipedia.org/wiki/Least_mean_squares_filter)\n",
    "\n",
    "1970s and 80s: The \"quiet years\", first AI winter. Attention turns to other methods while computing resources slowly increase. The Lighthill report halts AI research in the UK.\n",
    "> Artificial Intelligence: A General Survey. James Lighthill. Artificial Intelligence: a paper symposium, UK Science Research Council. (1973).\n",
    "\n",
    "1986: Rediscovery of the backpropagation algorithm (for multilayered perceptrons).\n",
    "> Learning representations by back-propagating errors. Rumelhart, David E.; Hinton, Geoffrey E.; Williams, Ronald J. Nature. 323 (6088): 533–536. 1986. [paper](https://www.nature.com/articles/323533a0).\n",
    "\n",
    "1990s: not enough computing power, not enough data, not enough recognition (while other methods like SVMs achieve good results). Second AI winter.\n",
    "\n",
    "2000s: computing power + available data allow the training of deep multi-layered architectures (deep learning). Massive successes.\n",
    "\n",
    "<div class=\"alert alert alert-success\"> Feedforward neural networks are computational graphs where edges convey scalar values between neurons (nodes).<br>\n",
    "A neuron's output results from the application of the activation function $\\sigma$ to a linear combination of its inputs $z = \\sigma(w^T x + b)$.<br>\n",
    "The network parameters are all the neuron's input weights and biases. <br>\n",
    "A neural network is a function that transforms its inputs into outputs by value propagation in the network.<br>\n",
    "Learning a neural network consists in finding the $w$ and $b$ such that the network's output matches the function $f(x)$ that generated the data pairs $(x,y = f(x)\\textrm{+noise})$.\n",
    "</div>\n",
    "\n",
    "**Universal approximation theorem:**<br>\n",
    "If $\\sigma$ is \"S-shaped\", then with enough neurons, a single layer, feed-forward NN can approximate any continuous function to an arbitrary precision.<br>\n",
    "In other words, NN are universal approximators.<br>\n",
    "<a href=\"UniversalApproximationTheorem.pdf\">Let's take a formal look at this theorem.</a>\n",
    "\n",
    "**Activation functions**\n",
    "- step\n",
    "$$\\sigma(x) = 0 \\textrm{ if }x\\leq0\\textrm{, }1\\textrm{ otherwise}$$\n",
    "- linear\n",
    "$$\\sigma(x) = x$$\n",
    "- sigmoid or logistic (which we will consider by default for now)\n",
    "$$\\sigma(x) = \\frac{1}{1 + e^{-x}}$$\n",
    "- hyperbolic tangent\n",
    "$$\\sigma(x) = \\frac{e^{x} + e^{-x}}{e^{x} - e^{-x}}$$\n",
    "- radial basis function (useful in some specific cases like Kohonen maps)\n",
    "$$\\sigma(x) = e^{-x^2}$$"
   ]
  },
  {
   "cell_type": "markdown",
   "metadata": {},
   "source": [
    "# <a id=\"sec4\"></a>4. Propagating values through a network\n",
    "\n",
    "Let's define a neural network that has the following structure:\n",
    "- 2 input neurons\n",
    "- first hidden layer with 4 sigmoid neurons\n",
    "- second hidden layer with 3 sigmoid neurons\n",
    "- one ouput layer with an identity neuron\n",
    "\n",
    "<img src=\"img/nn2.png\" width=\"600px\"></img>\n",
    "\n",
    "Let's initialize its weights randomly (following a $\\mathcal{N}(0,1)$ distribution)."
   ]
  },
  {
   "cell_type": "code",
   "execution_count": 5,
   "metadata": {},
   "outputs": [],
   "source": [
    "sizes = [2,4,3,1]\n",
    "num_layers = len(sizes)\n",
    "biases = [np.random.randn(1,y) for y in sizes[1:]]\n",
    "weights = [np.random.randn(out,inp) for inp,out in zip(sizes[:-1],sizes[1:])]\n",
    "\n",
    "def sigmoid(z):\n",
    "    \"\"\"The sigmoid function.\"\"\"\n",
    "    return 1.0/(1.0+np.exp(-z))"
   ]
  },
  {
   "cell_type": "markdown",
   "metadata": {},
   "source": [
    "<div class=\"alert alert-warning\">\n",
    "    \n",
    "**Exercice:**<br>\n",
    "Write a function that computes the forward propagation of the input $x=[1,2]$ through the network and returns the outputs and all intermediate activations.\n",
    "</div>"
   ]
  },
  {
   "cell_type": "code",
   "execution_count": 8,
   "metadata": {},
   "outputs": [
    {
     "name": "stdout",
     "output_type": "stream",
     "text": [
      "# Forward propagation to layer 1\n",
      "Neuron inputs: [[-1.15109824 -0.60708946  1.21022692  3.26107916]]\n",
      "Layer outputs: [[0.24028854 0.35272342 0.7703391  0.96306919]]\n",
      "# Forward propagation to layer 2\n",
      "Neuron inputs: [[-3.29704684  1.05988761 -0.47196802]]\n",
      "Layer outputs: [[0.03567264 0.74266907 0.38415054]]\n",
      "# Forward propagation to layer 3\n",
      "Neuron inputs: [[-2.0986636]]\n",
      "Layer outputs: [[-2.0986636]]\n"
     ]
    }
   ],
   "source": [
    "# %load solutions/code1.py\n",
    "### WRITE YOUR CODE HERE\n",
    "# If you get stuck, uncomment the line above to load a correction in this cell (then you can execute this code).\n",
    "\n",
    "input_value = np.array([[1,2]])\n",
    "\n",
    "def forward_pass(x, verbose=False):\n",
    "    z = [np.zeros((x.shape[0], sz)) for sz in sizes]\n",
    "    y = [np.zeros((x.shape[0], sz)) for sz in sizes]\n",
    "    z[0] = x.copy()\n",
    "    for i in range(1,len(sizes)):\n",
    "        if verbose:\n",
    "            print(\"# Forward propagation to layer\", i)\n",
    "        y[i] = np.dot(z[i-1],weights[i-1].T) + biases[i-1]\n",
    "        if verbose:\n",
    "            print(\"Neuron inputs:\", y[i])\n",
    "        if i==len(sizes)-1:\n",
    "            z[i] = y[i]\n",
    "        else:\n",
    "            z[i] = sigmoid(y[i])\n",
    "        if verbose:\n",
    "            print(\"Layer outputs:\", z[i])\n",
    "    return y,z\n",
    "\n",
    "y,z = forward_pass(input_value, verbose=True)\n"
   ]
  },
  {
   "cell_type": "markdown",
   "metadata": {},
   "source": [
    "# 5. <a id=\"sec5\"></a> Learning the weights of a neural network (regression case)\n",
    "\n",
    "Suppose that the value associated to $x=[1,2]$ in the previous example was $12.3$. That is not what was predicted and we could wish to adapt the weights of the network so that the next time we propagate $x=[1,2]$ through the network, the prediction is closer to $12.3$.\n",
    "\n",
    "Let's do a bit of math to formalize the search for the best neural network for our data.\n",
    "\n",
    "Let's first suppose that our data points $(x,y)$ are drawn from a probability distribution $p(x,y)$.\n",
    "\n",
    "## 5.1 Loss function\n",
    "\n",
    "After all, a neural network with a fixed graph structure is a parametric function $f_\\theta$ where $\\theta$ is the vector of all parameters (all weights and biases). Learning a neural network that correctly predicts $y$ corresponds to finding the parameters $\\theta$ that minimize the following function.\n",
    "$$L(\\theta) = \\displaystyle \\mathbb{E}_{(x,y)\\sim p(x,y)} \\left[ \\left(f_\\theta(x) - y\\right)^2 \\right] = \\int_{x,y} \\left[ \\left(f_\\theta(x) - y\\right)^2 \\right] \\mathrm{d}p(x,y) $$\n",
    "\n",
    "This is what we shall call the *loss function*. The smaller $L(\\theta)$, the happier we are.\n",
    "\n",
    "Note that we have defined $L(\\theta)$ as a least squares minimization problem and that other loss functions could be relevant for certain problems.\n",
    "\n",
    "<div class=\"alert alert-warning\">\n",
    "    \n",
    "**Exercice:**<br>\n",
    "Using the training data provided below, estimate the loss function for the current parameters $\\theta$ of the network defined in the previous section.\n",
    "</div>"
   ]
  },
  {
   "cell_type": "code",
   "execution_count": 9,
   "metadata": {},
   "outputs": [],
   "source": [
    "input_X = np.array([[1.,2.],[1.1,1.7],[0.8,1.9]])\n",
    "def func(x):\n",
    "    return np.sqrt(x[:,0]+x[:,1])\n",
    "output_y = func(input_X)"
   ]
  },
  {
   "cell_type": "code",
   "execution_count": 11,
   "metadata": {},
   "outputs": [
    {
     "name": "stdout",
     "output_type": "stream",
     "text": [
      "# Forward propagation to layer 1\n",
      "Neuron inputs: [[-1.15109824 -0.60708946  1.21022692  3.26107916]\n",
      " [-0.73677855 -0.77823813  0.79478483  2.9238173 ]\n",
      " [-1.19445881 -0.26606641  1.47086767  3.00690402]]\n",
      "Layer outputs: [[0.24028854 0.35272342 0.7703391  0.96306919]\n",
      " [0.32370899 0.31469973 0.6888578  0.94901133]\n",
      " [0.23246243 0.43387304 0.81318923 0.95288505]]\n",
      "# Forward propagation to layer 2\n",
      "Neuron inputs: [[-3.29704684  1.05988761 -0.47196802]\n",
      " [-3.05369141  0.92262199 -0.3016284 ]\n",
      " [-3.38142373  1.10216585 -0.56938122]]\n",
      "Layer outputs: [[0.03567264 0.74266907 0.38415054]\n",
      " [0.04505837 0.71557605 0.42515945]\n",
      " [0.03288109 0.7506657  0.36137962]]\n",
      "# Forward propagation to layer 3\n",
      "Neuron inputs: [[-2.0986636 ]\n",
      " [-2.12832449]\n",
      " [-2.07744202]]\n",
      "Layer outputs: [[-2.0986636 ]\n",
      " [-2.12832449]\n",
      " [-2.07744202]]\n",
      "Loss function estimate: 14.322897212297274\n"
     ]
    }
   ],
   "source": [
    "# %load solutions/code2.py\n",
    "### WRITE YOUR CODE HERE\n",
    "# If you get stuck, uncomment the line above to load a correction in this cell (then you can execute this code).\n",
    "\n",
    "ypred,zpred = forward_pass(input_X, verbose=True)\n",
    "pred = zpred[-1]\n",
    "err = np.mean((pred-output_y)**2)\n",
    "print(\"Loss function estimate:\",err)"
   ]
  },
  {
   "cell_type": "markdown",
   "metadata": {},
   "source": [
    "## 5.2 Stochastic gradient descent\n",
    "\n",
    "Let's say we have an initial guess $\\theta_0$ for the parameters of $f_\\theta$. How can we change this guess so that we minimize $L(\\theta)$? Plain gradient descent tells us we should move in the opposite direction of the gradient of $L(\\theta)$ with respect to $\\theta$. So let's write this gradient:\n",
    "\n",
    "\\begin{align*}\n",
    "\\displaystyle \\nabla_\\theta L(\\theta) &= \\nabla_\\theta \\left[ \\mathbb{E}_{(x,y)\\sim p(x,y)} \\left[ \\left(f_\\theta(x) - y\\right)^2 \\right] \\right]\\\\\n",
    "&= \\mathbb{E}_{(x,y)\\sim p(x,y)} \\left[ \\nabla_\\theta \\left[ \\left(f_\\theta(x) - y\\right)^2 \\right] \\right]\\\\\n",
    "&= \\mathbb{E}_{(x,y)\\sim p(x,y)} \\left[ 2 \\left(f_\\theta(x) - y\\right) \\nabla_\\theta f_\\theta(x) \\right]\n",
    "\\end{align*}\n",
    "\n",
    "So, the gradient of $L(\\theta)$ is the expectation of $2 \\left(f_\\theta(x) - y\\right) \\nabla_\\theta f_\\theta(x)$. In other words:\n",
    "\n",
    "$$\\nabla_\\theta L(\\theta) = \\int_{x,y} 2 \\left(f_\\theta(x) - y\\right) \\nabla_\\theta f_\\theta(x) \\mathrm{d}p(x,y)$$\n",
    "\n",
    "The problem with this expression is that it requires the knowledge of $p(x,y)$ for all possible $(x,y)$ pairs. That would mean having an infinite amount of data. We can, however, try to approximate this gradient with a finite data set $\\left\\{\\left(x_i,y_i\\right)\\right\\}_{i\\in [1,N]}$:\n",
    "$$\\nabla_\\theta L(\\theta) \\approx \\sum_{i=1}^N 2 \\left(f_\\theta(x_i) - y_i\\right) \\nabla_\\theta f_\\theta(x_i)$$\n",
    "\n",
    "This is actually a *noisy estimation of the gradient* (that converges to the true gradient in the limit of infinite sampling). The theory of *stochastic gradient descent* tells us that if $g(\\theta)$ is a noisy estimator of $\\nabla_\\theta L(\\theta)$, then the following sequence $\\theta_k$ converges to a local minimum of $L(\\theta)$:\n",
    "$$\\theta_{k+1} = \\theta_k - \\alpha_k g(\\theta_k)$$\n",
    "under the condition that $\\sum \\alpha_k = \\infty$ and $\\sum \\alpha_k^2 < \\infty$ (called the Robbins-Monro conditions).\n",
    "\n",
    "**A Stochastic Approximation Method**.\n",
    "H. Robbins and S. Monro (1951). *The Annals of Mathematical Statistics*. **22**(3): 400. \n",
    "\n",
    "The first condition $\\sum \\alpha_k = \\infty$ insures that whatever the starting parameters $\\theta_0$, no matter how far from $\\theta_0$ the minimum is, this procedure can reach it.\n",
    "\n",
    "The second condition $\\sum \\alpha_k^2 < \\infty$ forces the step sizes to be a decreasing sequence and avoids oscillations around the minimum.\n",
    "\n",
    "Here we have\n",
    "$$g(\\theta) = \\sum_{i=1}^N 2 \\left(f_\\theta(x_i) - y_i\\right) \\nabla_\\theta f_\\theta(x_i).$$\n",
    "\n",
    "To simplify the notation we shall write $\\alpha$ instead of $\\alpha_k$.\n",
    "\n",
    "One complete pass (to compute the $\\sum_{i=1}^N$) over the training set will be called a *training epoch*."
   ]
  },
  {
   "cell_type": "markdown",
   "metadata": {},
   "source": [
    "## 5.3 Minibatches\n",
    "\n",
    "Notation disambiguation: $\\theta_k$ refers to the $k$th parameter vector in the sequence above, $\\theta_j$ refers to the $j$th component of vector $\\theta$.\n",
    "\n",
    "Now we have a procedure that allows to find some optimal weights for our network. Provided that, for all parameter $\\theta_j$ in the parameter vector $\\theta$, we can compute $\\frac{\\partial f_\\theta}{\\partial \\theta_j}(x)$, then we can calculate:\n",
    "$$g_{j}(\\theta) = \\sum_{i=1}^N 2 \\left(f_{\\theta}(x_i) - y_i\\right) \\frac{\\partial f_{\\theta}}{\\partial\\theta_j}(x_i)$$\n",
    "And thus we can update $\\theta_j$ with:\n",
    "$$\\theta_j \\leftarrow \\theta_j - \\alpha g_{j}(\\theta)$$\n",
    "\n",
    "So the computation of all the components in $g(\\theta)$ and the update of each element in $\\theta$ can be done in *parallel*.\n",
    "\n",
    "It appears, however, that for large datasets, summing over the $N$ elements is computationally expensive. So we could define a cheaper (but noiser) version of the gradient by summing only over a random subset of $n$ training points ($n \\ll N$): \n",
    "$$\\nabla_\\theta L(\\theta) \\approx g(\\theta) = \\sum_{i=1}^n 2 \\left(f_\\theta(x_i) - y_i\\right) \\nabla_\\theta f_\\theta(x_i) $$\n",
    "\n",
    "Such a subset is called a *minibatch*. When $n=1$, the gradient estimate is based on a single example and is thus very (very!) noisy and convergence can be very slow and unstable. When $n\\rightarrow N$ the noise level decreases at the expense of a heavier computational cost. In practice, the noise level decreases quickly enough that we can take $n\\in [50;1000]$ in most cases."
   ]
  },
  {
   "cell_type": "markdown",
   "metadata": {},
   "source": [
    "## 5.4 Recursive gradient computation\n",
    "\n",
    "For the update above to be feasible, we need to have a differentiable $f_\\theta$. Let's take a close look at the gradient $\\nabla_\\theta f_\\theta(x)$ and write it as:\n",
    "\\begin{align*}\n",
    "\\nabla_\\theta f_\\theta(x) &= \\left[ \\begin{array}{c} \\vdots \\\\ \\frac{\\partial f_\\theta}{\\partial\\theta_j}(x) \\\\ \\vdots \\end{array}\\right]\n",
    "\\end{align*}\n",
    "\n",
    "In the case of a neural network, the $\\theta_j$ are weights and biases. Let's consider neuron number $j$ and let's write $w_{ij}$ its input weights (with the convention that $i=0$ corresponds to the bias). We will write:\n",
    "- $x_{ij}$ the $i$th input to this neuron\n",
    "- $y_j = \\sum_i w_{ij} x_{ij}$ the scalar input to the activation function\n",
    "- $z_j = \\sigma (y_j)$ the neuron's output\n",
    "<img src=\"attachment:neuronj-0.png\" width=\"300px\"></img>\n",
    "\n",
    "These three quantities have been computed during the *forward pass*, when $x$ was propagated through the network to obtain $f_\\theta(x)$."
   ]
  },
  {
   "cell_type": "markdown",
   "metadata": {},
   "source": [
    "<div class=\"alert alert-warning\">\n",
    "    \n",
    "**Exercice:**<br>\n",
    "Use the chain rule to write $\\frac{\\partial f_\\theta}{\\partial w_{ij}}(x)$ as an expression of the partial derivatives of $f_\\theta$ with respect to $z_j$ and $y_j$. Simplify this expression.\n",
    "</div>\n",
    "\n",
    "Using the chain rule, we can write:\n",
    "$$\\frac{\\partial f_\\theta}{\\partial w_{ij}}(x) = \\frac{\\partial f_\\theta}{\\partial z_j}(x) \\frac{\\partial z_j}{\\partial y_j}(x) \\frac{\\partial y_j}{\\partial w_{ij}}(x).$$\n",
    "\n",
    "Let's decompose this expression. First we take the last (third) term. We have $y_j = \\sum_i w_{ij} x_{ij}$, so:\n",
    "$$\\frac{\\partial y_j}{\\partial w_{ij}}(x) = x_{ij}.$$\n",
    "\n",
    "Then we take the second term. We have $z_j = \\sigma(y_j)$, so:\n",
    "$$\\frac{\\partial z_j}{\\partial y_j}(x) = \\sigma'(y_j).$$\n",
    "\n",
    "And so:\n",
    "$$\\boxed{\\frac{\\partial f_\\theta}{\\partial w_{ij}}(x) = \\frac{\\partial f_\\theta}{\\partial z_j}(x) \\sigma'(y_j) x_{ij}}.$$"
   ]
  },
  {
   "attachments": {
    "neuronj-1.png": {
     "image/png": "[encoded data removed]"
    }
   },
   "cell_type": "markdown",
   "metadata": {},
   "source": [
    "Only the first term remains to be calculated in the expression above.\n",
    "<div class=\"alert alert-warning\">\n",
    "    \n",
    "**Exercice:**<br>\n",
    "Suppose that $j$ is an output neuron. What is $\\frac{\\partial f_\\theta}{\\partial z_j}(x)$? And consequently, what is the value of $\\frac{\\partial f_\\theta}{\\partial w_{ij}}(x)$?\n",
    "</div>\n",
    "\n",
    "Let's assume $j$ is an output neuron. In this case, $z_j$ is the $j$th component of $f_\\theta(x)$, and we have:\n",
    "$$\\frac{\\partial f_\\theta}{\\partial z_j}(x) = 1.$$\n",
    "\n",
    "Consequently, for the neurons of the output layer:\n",
    "$$\\boxed{\\frac{\\partial f_\\theta}{\\partial w_{ij}}(x) = \\sigma'(y_j) x_{ij}}.$$\n",
    "\n",
    "And hence, the update of the input weights $w_{ij}$ for output neuron $j$ (in the output layer) is:\n",
    "$$w_{ij} \\leftarrow w_{ij} - \\alpha \\left(f_\\theta(x) - y\\right)\\sigma'(y_j) x_{ij}$$\n",
    "Note that, in the expression above, $y$ is the value associated to $x$ (not to be confused with pre-neuron value $y_j$).\n",
    "\n",
    "Now let's look at the neurons of the layer just preceding the output layer. Let's call $L_j$ the set of indices of the neurons that directly feed on neuron $j$'s output. $z_j$ corresponds to the $x_{jl}$ variable for these neurons and $y_l$ is the scalar input to neuron $l$. \n",
    "\n",
    "<img src=\"attachment:neuronj-1.png\" width=\"300px\"></img>\n",
    "\n",
    "<div class=\"alert alert-warning\">\n",
    "    \n",
    "**Exercice:**<br>\n",
    "Remark that $x_{jl}=z_j$. Take the total derivative of $f_\\theta$ and derive a recurrence relation between $\\frac{\\partial f_\\theta}{\\partial z_j}(x)$ and the $\\frac{\\partial f_\\theta}{\\partial z_l}(x)$.\n",
    "</div>\n",
    "\n",
    "We can take the total derivative:\n",
    "$$\\frac{\\partial f_\\theta}{\\partial z_j}(x) = \\sum_{l \\in L_j} \\frac{\\partial f_\\theta}{\\partial y_l}(x) \\frac{\\partial y_l}{\\partial z_j}(x).$$\n",
    "\n",
    "And so, we can write:\n",
    "$$\\frac{\\partial f_\\theta}{\\partial z_j}(x) = \\sum_{l \\in L_j} \\frac{\\partial f_\\theta}{\\partial z_l}(x) \\frac{\\partial z_l}{\\partial y_l}(x) \\frac{\\partial y_l}{\\partial z_j}(x).$$\n",
    "\n",
    "As previously:\n",
    "$$\\frac{\\partial z_l}{\\partial y_l}(x) = \\sigma'(y_l)\\textrm{ and }\\frac{\\partial y_l}{\\partial z_j}(x) = w_{jl}$$\n",
    "\n",
    "So this total derivative turns into:\n",
    "$$\\boxed{\\frac{\\partial f_\\theta}{\\partial z_j}(x) = \\sum_{l \\in L_j} \\frac{\\partial f_\\theta}{\\partial z_l}(x) \\sigma'(y_l) w_{jl}}.$$\n",
    "\n",
    "This provides a recurrence relation between $\\displaystyle \\frac{\\partial f_\\theta}{\\partial z_j}(x)$ and $\\displaystyle \\frac{\\partial f_\\theta}{\\partial z_l}(x)$ for $l \\in L_j$.\n",
    "\n",
    "Let's write $\\boxed{\\displaystyle  \\delta_j = \\frac{\\partial f_\\theta}{\\partial z_j}(x) \\sigma'(y_j)}$. Recall that our goal is to evaluate:\n",
    "$$\\frac{\\partial f_\\theta}{\\partial w_{ij}}(x) = \\frac{\\partial f_\\theta}{\\partial z_j}(x) \\frac{\\partial z_j}{\\partial y_j}(x) \\frac{\\partial y_j}{\\partial w_{ij}}(x) = \\frac{\\partial f_\\theta}{\\partial z_j}(x) \\sigma'(y_j) x_{ij} = \\delta_j x_{ij},$$\n",
    "$$\\boxed{\\frac{\\partial f_\\theta}{\\partial w_{ij}}(x) = \\delta_j x_{ij}}.$$\n",
    "\n",
    "And we have the following recurrence equation between neuron $j$ and its siblings in $L_j$:\n",
    "$$\\delta_j = \\sigma'(y_j)\\sum_{l\\in L_j} \\delta_l w_{jl}$$\n",
    "\n",
    "And, in particular, for output neurons:\n",
    "$$\\delta_j = \\frac{\\partial f_\\theta}{\\partial z_j}(x) \\sigma'(y_j) = \\sigma'(y_j)$$\n",
    "\n",
    "In short:\n",
    "$$\\boxed{\\delta_j = \\left\\{\\begin{array}{ll}\n",
    "\\sigma'(y_j) & \\textrm{for output neurons,}\\\\\n",
    "\\sigma'(y_j)\\sum_{l\\in L_j} \\delta_l w_{jl} & \\textrm{for other neurons.}\n",
    "\\end{array}\\right.}$$"
   ]
  },
  {
   "cell_type": "markdown",
   "metadata": {},
   "source": [
    "## 5.5 Backpropagation\n",
    "\n",
    "Let's summarize. The key to backpropagation is to remark that in all cases:\n",
    "$$\\frac{\\partial f_\\theta}{\\partial w_{ij}}(x) = \\delta_j x_{ij}.$$\n",
    "\n",
    "With \n",
    "$$\\delta_j = \\frac{\\partial f_\\theta}{\\partial z_j}(x) \\sigma'(y_j).$$\n",
    "\n",
    "If neuron $j$ is an output neuron, then $z_j$ is the $j$th component of $f_\\theta(x)$. So $ \\frac{\\partial f_\\theta}{\\partial z_j}(x) = 1$. Consequently, for those neurons:\n",
    "$$\\delta_j = \\frac{\\partial f_\\theta}{\\partial z_j}(x) \\sigma'(y_j) = \\sigma'(y_j).$$\n",
    "\n",
    "Recursively, once all the $\\delta_j$ for the output layer have been computed, we can compute the $\\delta_j$ for the last hidden layer as:\n",
    "$$\\delta_j = \\sigma'(y_j) \\sum_{l\\in L_j} \\delta_l w_{jl}.$$\n",
    "\n",
    "And the input weights of neuron $j$ can be updated as:\n",
    "$$w_{ij} \\leftarrow w_{ij} - \\alpha \\left(f_\\theta(x) - y\\right) \\delta_j x_{ij}.$$\n",
    "\n",
    "Once, all these weights have been updated and all the $\\delta_j$ have been computed for the corresponding neurons, we can move one layer back in the network, and so on until we reach the input layer.\n",
    "\n",
    "This algorithm is called *Backpropagation* of the gradient."
   ]
  },
  {
   "cell_type": "markdown",
   "metadata": {},
   "source": [
    "<div class=\"alert alert-success\">\n",
    "The backpropagation algorithm allows to update the networks weights.<br>\n",
    "\n",
    "**Forward pass:**\n",
    "<ol style=\"list-style-type:none\">\n",
    "<li> Input $x$\n",
    "<li> $\\lambda=$input layer\n",
    "<li> While $\\lambda\\neq$ output layer:\n",
    "    <ol style=\"list-style-type:none\">\n",
    "    <li>For $j$ in $\\lambda$:\n",
    "        <ol  style=\"list-style-type:none\"><li>Compute $y_j=\\sum w_{ij} x_{ij}$ and $z_j=\\sigma(y_j)$</ol>\n",
    "    <li> $\\lambda \\leftarrow$ next layer\n",
    "    <li> $x \\leftarrow z$\n",
    "    </ol>\n",
    "<li> Output $f_\\theta(x)$\n",
    "</ol>\n",
    "\n",
    "**Backpropagation:**\n",
    "<ol style=\"list-style-type:none\">\n",
    "<li> Output difference $\\Delta = f_\\theta(x) - y$\n",
    "<li> For $j$ in output layer $\\delta_j = \\sigma'(y_j)$\n",
    "<li> $\\lambda =$ output layer\n",
    "<li> While layer $\\lambda \\neq$ input layer:\n",
    "    <ol style=\"list-style-type:none\">\n",
    "    <li> For $j$ in $\\lambda$:\n",
    "        <ol style=\"list-style-type:none\">\n",
    "        <li>Compute $\\delta_j = \\sigma'(y_j) \\sum_{l\\in L} \\delta_l w_{jl}$ (only if not output layer)\n",
    "        <li>Update $w_{ij} \\leftarrow w_{ij} - \\alpha \\Delta \\delta_j x_{ij}$</ol>\n",
    "    <li> $\\lambda=$previous layer\n",
    "    </ol>\n",
    "</ol>\n",
    "</div>"
   ]
  },
  {
   "cell_type": "markdown",
   "metadata": {},
   "source": [
    "A number of things can be remarked to make this computation more streamlined and efficient.\n",
    "\n",
    "1. $\\sigma'(x)=\\sigma(x)\\left(1-\\sigma(x)\\right)$ so one can get $\\sigma'$ for free during the forward pass and store it.\n",
    "2. all operations of the backward pass can be written in matrix form (just as for the forward pass).\n",
    "3. in the notations above, $x_{0j}=1$ since it is the term that will be multiplied by the bias.\n",
    "4. for a given $j$, all $x_{ij}$ in the notations above are really the $z$ value of the layer before neuron $j$.\n",
    "\n",
    "One can easily rewrite the forward pass and the backpropagation as matrix/vector operations.<br>\n",
    "Let $\\lambda$ be the layer number, starting at 0 for the input layer.<br>\n",
    "Let $w_{\\lambda-1}$ denote the $p\\times q$ weight matrix before layer $\\lambda$ where $p$ is the size of layer $\\lambda$ and $q$ is the size of layer $\\lambda-1$ (plus one for the biases).<br>\n",
    "Finally, let $\\circ$ denote the element-wise product (Hadamard product) of two matrices."
   ]
  },
  {
   "cell_type": "markdown",
   "metadata": {},
   "source": [
    "<div class=\"alert alert-success\">\n",
    "\n",
    "**Forward pass:**\n",
    "<ol style=\"list-style-type:none\">\n",
    "<li> Input $x$\n",
    "<li> $\\lambda=1$\n",
    "<li> While $\\lambda\\neq$ output layer index:\n",
    "    <ol style=\"list-style-type:none\">\n",
    "    <li> Compute $y_\\lambda = w_{\\lambda-1}^T x$, \n",
    "    <li> Compute $z_\\lambda = \\sigma (y_\\lambda)$ and $s_\\lambda = \\sigma'(y_\\lambda)$\n",
    "    <li> $\\lambda \\leftarrow \\lambda+1$\n",
    "    <li> $x \\leftarrow z_\\lambda$\n",
    "    </ol>\n",
    "<li> Output $f_\\theta(x)$\n",
    "</ol>\n",
    "\n",
    "**Backpropagation:**\n",
    "<ol style=\"list-style-type:none\">\n",
    "<li> Output difference $\\Delta = f_\\theta(x) - y$\n",
    "<li> $\\lambda=$ output layer index\n",
    "<li> $\\delta_\\lambda = s_\\lambda$\n",
    "<li> $w_{\\lambda-1} \\leftarrow w_{\\lambda-1} - \\alpha \\Delta (\\delta_\\lambda \\cdot z_{\\lambda-1}^T)$\n",
    "<li> $\\lambda\\leftarrow \\lambda -1$\n",
    "<li> While $\\lambda \\neq 0$:\n",
    "    <ol style=\"list-style-type:none\">\n",
    "    <li> $\\delta_\\lambda = s_\\lambda \\circ (\\delta_{\\lambda+1}\\cdot w_\\lambda)$\n",
    "    <li> $w_{\\lambda-1} \\leftarrow w_{\\lambda-1} - \\alpha \\Delta (\\delta_\\lambda \\cdot z_{\\lambda-1}^T)$\n",
    "    <li> $\\lambda\\leftarrow \\lambda -1$\n",
    "    </ol>\n",
    "</ol>\n",
    "</div>"
   ]
  },
  {
   "cell_type": "markdown",
   "metadata": {},
   "source": [
    "Note that backpropagation is a very general principle for propagating gradients in a computational graph. Any activation function can be substituted in the expressions above, and a very similar derivation can be obtained for other loss functions (more on this later)."
   ]
  },
  {
   "cell_type": "markdown",
   "metadata": {},
   "source": [
    "# 5.6 Backpropagation in practice\n",
    "\n",
    "<div class=\"alert alert-warning\">\n",
    "    \n",
    "**Exercice (collective):**<br>\n",
    "Write a backpropagation pass for the minibatch containing the triplet $(x=(1,2),y=12.3)$, $(x=(3,1),y=3.4)$ and $(x=(2,5),y=5.1)$ on the network defined before.\n",
    "</div>\n",
    "\n",
    "To help fix ideas, the picture below summarizes all the data structures used.\n",
    "<img src=\"img/nn3.png\" width=\"600px\"></img>\n",
    "\n",
    "- in red, the network's data: w[i] and b[i] store the weights and biases,\n",
    "- in blue, what is computed during the forward pass, y[i] for $w^x$, s[i] for $\\sigma'(x)$, z[i] for neuron activations,\n",
    "- in green, what is computed during the backward pass, $\\delta$[i] and the weights and biases updates."
   ]
  },
  {
   "cell_type": "code",
   "execution_count": 12,
   "metadata": {},
   "outputs": [],
   "source": [
    "def sigmoid(z):\n",
    "    \"\"\"The sigmoid function.\"\"\"\n",
    "    val = 1.0/(1.0+np.exp(-z))\n",
    "    der = val*(1.-val)\n",
    "    return val, der\n",
    "\n",
    "def forward_pass(x, verbose=False):\n",
    "    z = [np.zeros((x.shape[0], sz)) for sz in sizes]\n",
    "    s = [np.zeros((x.shape[0], sz)) for sz in sizes]\n",
    "    y = [np.zeros((x.shape[0], sz)) for sz in sizes]\n",
    "    z[0] = x.copy()\n",
    "    for i in range(1,len(sizes)):\n",
    "        if verbose:\n",
    "            print(\"# Forward propagation to layer\", i)\n",
    "        y[i] = np.dot(z[i-1],weights[i-1].T) + biases[i-1]\n",
    "        if verbose:\n",
    "            print(\"Neuron inputs:\", y[i])\n",
    "        if i==len(sizes)-1:\n",
    "            s[i] = np.ones((x.shape[0],sizes[-1]))\n",
    "            z[i] = y[i]\n",
    "        else:\n",
    "            v,d  = sigmoid(y[i])\n",
    "            s[i] = d\n",
    "            z[i] = v\n",
    "        if verbose:\n",
    "            print(\"Layer outputs:\", z[i])\n",
    "    return y,s,z"
   ]
  },
  {
   "cell_type": "markdown",
   "metadata": {},
   "source": [
    "Let's consider a batch of two training samples: $\\left(x=(1,2),y=12.3\\right)$ and $\\left(x=(3,1),y=3.4\\right)$."
   ]
  },
  {
   "cell_type": "code",
   "execution_count": 13,
   "metadata": {},
   "outputs": [],
   "source": [
    "#input_value = np.array([[1,2]])\n",
    "#output_value = np.array([[12.3]])\n",
    "input_value = np.array([[1,2],[3,1],[2,5]])\n",
    "output_value = np.array([[12.3],[3.4],[5.1]])\n",
    "y,s,z = forward_pass(input_value, verbose=False)"
   ]
  },
  {
   "cell_type": "code",
   "execution_count": 14,
   "metadata": {},
   "outputs": [
    {
     "name": "stdout",
     "output_type": "stream",
     "text": [
      "[[1 2]\n",
      " [3 1]\n",
      " [2 5]]\n",
      "[[0.24028854 0.35272342 0.7703391  0.96306919]\n",
      " [0.82144395 0.0176197  0.04628939 0.95888528]\n",
      " [0.02322873 0.09049107 0.87474785 0.99960991]]\n",
      "[[0.03567264 0.74266907 0.38415054]\n",
      " [0.18182908 0.50172501 0.70434043]\n",
      " [0.02537268 0.78501744 0.36044815]]\n",
      "[[-2.0986636 ]\n",
      " [-2.30662604]\n",
      " [-2.09925683]]\n"
     ]
    }
   ],
   "source": [
    "print(*z, sep=\"\\n\")"
   ]
  },
  {
   "cell_type": "code",
   "execution_count": 17,
   "metadata": {},
   "outputs": [],
   "source": [
    "def backward_pass(out, y, s, z, alpha):\n",
    "    delta = [np.zeros((out.shape[0], sz)) for sz in sizes]\n",
    "    error = z[len(sizes)-1] - out\n",
    "    for i in range(len(sizes)-1,0,-1):\n",
    "        # compute delta\n",
    "        if i==len(sizes)-1:\n",
    "            delta[i] = s[len(sizes)-1]\n",
    "        else:\n",
    "            delta[i] = np.dot(delta[i+1],weights[i])\n",
    "            delta[i] = np.multiply(delta[i],s[i])\n",
    "        # intermediate delta value that includes the error term \n",
    "        # (useful for minibatches since each element has a different error value)\n",
    "        delta_temp = np.multiply(delta[i],error)\n",
    "        # update weights\n",
    "        grad_w = np.dot(delta_temp.T,z[i-1])\n",
    "        grad_b = np.sum(delta_temp, axis=0)\n",
    "        weights[i-1] -= alpha * grad_w\n",
    "        biases[i-1]  -= alpha * grad_b\n",
    "    return"
   ]
  },
  {
   "cell_type": "code",
   "execution_count": 18,
   "metadata": {
    "scrolled": true
   },
   "outputs": [],
   "source": [
    "backward_pass(output_value, y, s, z, 0.1)"
   ]
  },
  {
   "cell_type": "markdown",
   "metadata": {},
   "source": [
    "Let's monitor the training error for various training sets and weight initialization."
   ]
  },
  {
   "cell_type": "code",
   "execution_count": 19,
   "metadata": {},
   "outputs": [],
   "source": [
    "#input_value = np.array([[1,2]])\n",
    "#output_value = np.array([[12.3]])\n",
    "#input_value = np.array([[1,2],[3,1]])\n",
    "#output_value = np.array([[12.3],[3.4]])\n",
    "input_value = np.array([[1,2],[3,1],[2,5]])\n",
    "output_value = np.array([[12.3],[3.4],[5.1]])\n",
    "\n",
    "sizes = [2,4,3,1]\n",
    "biases = [np.random.randn(1,y) for y in sizes[1:]]\n",
    "weights = [np.random.randn(out,inp) for inp,out in zip(sizes[:-1],sizes[1:])]"
   ]
  },
  {
   "cell_type": "code",
   "execution_count": 20,
   "metadata": {
    "scrolled": true
   },
   "outputs": [],
   "source": [
    "nsteps = 500\n",
    "training_loss = np.zeros(nsteps)\n",
    "for i in range(nsteps):\n",
    "    y,s,z = forward_pass(input_value, verbose=False)\n",
    "    training_loss[i] = np.mean((z[-1]-output_value)**2)\n",
    "    backward_pass(output_value, y, s, z, 0.1)"
   ]
  },
  {
   "cell_type": "code",
   "execution_count": 21,
   "metadata": {
    "scrolled": true
   },
   "outputs": [
    {
     "data": {
      "image/png": "[encoded data removed]",
      "text/plain": [
       "<Figure size 432x288 with 1 Axes>"
      ]
     },
     "metadata": {
      "needs_background": "light"
     },
     "output_type": "display_data"
    }
   ],
   "source": [
    "plt.semilogy(training_loss);"
   ]
  },
  {
   "cell_type": "code",
   "execution_count": 22,
   "metadata": {},
   "outputs": [
    {
     "name": "stdout",
     "output_type": "stream",
     "text": [
      "[[12.3]\n",
      " [ 3.4]\n",
      " [ 5.1]]\n",
      "[[12.3]\n",
      " [ 3.4]\n",
      " [ 5.1]]\n"
     ]
    }
   ],
   "source": [
    "y,s,z = forward_pass(input_value, verbose=False)\n",
    "print(z[-1])\n",
    "print(output_value)"
   ]
  },
  {
   "cell_type": "markdown",
   "metadata": {},
   "source": [
    "Ok. It seems to work, we've learned a network that can memorize the three point-wise mappings:\n",
    "$$\\begin{array}{ccc} \n",
    "(1,2) & \\rightarrow & 12.3\\\\\n",
    "(3,1) & \\rightarrow & 3.4 \\\\\n",
    "(2,5) & \\rightarrow & 5.1\n",
    "\\end{array}$$\n",
    "\n",
    "That's a good start. Let's try to generalize this to any number of points. <br>\n",
    "Let's re-initialize and check the learning on the noise-less function $x_0,x_1\\mapsto \\sqrt{x_0+x_1}$.<br>\n",
    "This time we shall visualize both the training and testing error."
   ]
  },
  {
   "cell_type": "code",
   "execution_count": 23,
   "metadata": {},
   "outputs": [],
   "source": [
    "sizes = [2,4,3,1]\n",
    "biases = [np.random.randn(1,y) for y in sizes[1:]]\n",
    "weights = [np.random.randn(out,inp) for inp,out in zip(sizes[:-1],sizes[1:])]"
   ]
  },
  {
   "cell_type": "code",
   "execution_count": 24,
   "metadata": {},
   "outputs": [
    {
     "name": "stdout",
     "output_type": "stream",
     "text": [
      "Generalization loss estimate: 1.5482562474970636\n"
     ]
    }
   ],
   "source": [
    "# generate training and testing sets\n",
    "def func(x):\n",
    "    return np.sqrt(x[:,0]+x[:,1])\n",
    "\n",
    "testing_x  = np.random.uniform(size=(100,2))\n",
    "testing_y  = func(testing_x).reshape(-1,1)\n",
    "training_x = np.random.uniform(size=(100,2))\n",
    "training_y = func(training_x).reshape(-1,1)\n",
    "\n",
    "# compute initial generalization loss\n",
    "y,s,z = forward_pass(testing_x, verbose=False)\n",
    "err = np.mean((z[-1]-testing_y)**2)\n",
    "print(\"Generalization loss estimate:\",err)"
   ]
  },
  {
   "cell_type": "code",
   "execution_count": 25,
   "metadata": {},
   "outputs": [],
   "source": [
    "nsteps = 1000\n",
    "training_loss = np.zeros(nsteps)\n",
    "testing_loss  = np.zeros(nsteps)\n",
    "\n",
    "for i in range(nsteps):\n",
    "    _,_,z_test = forward_pass(testing_x, verbose=False)\n",
    "    testing_loss[i]  = np.mean((z_test[-1]-testing_y)**2)\n",
    "    y_train,s_train,z_train = forward_pass(training_x, verbose=False)\n",
    "    training_loss[i] = np.mean((z_train[-1]-training_y)**2)\n",
    "    backward_pass(training_y, y_train, s_train, z_train, 0.001)"
   ]
  },
  {
   "cell_type": "code",
   "execution_count": 26,
   "metadata": {},
   "outputs": [
    {
     "name": "stdout",
     "output_type": "stream",
     "text": [
      "last training loss: 0.043625316144689695\n",
      "last generalization loss: 0.04382908506472722\n"
     ]
    },
    {
     "data": {
      "image/png": "[encoded data removed]",
      "text/plain": [
       "<Figure size 432x288 with 1 Axes>"
      ]
     },
     "metadata": {
      "needs_background": "light"
     },
     "output_type": "display_data"
    }
   ],
   "source": [
    "plt.semilogy(training_loss, c='b')\n",
    "plt.semilogy(testing_loss, c='r')\n",
    "print(\"last training loss:\", training_loss[-1])\n",
    "print(\"last generalization loss:\", testing_loss[-1])"
   ]
  },
  {
   "cell_type": "markdown",
   "metadata": {},
   "source": [
    "Let's try some random values."
   ]
  },
  {
   "cell_type": "code",
   "execution_count": 27,
   "metadata": {},
   "outputs": [
    {
     "name": "stdout",
     "output_type": "stream",
     "text": [
      "[[0.54860834]\n",
      " [1.27215399]\n",
      " [1.21658801]\n",
      " [0.51163423]\n",
      " [1.06668344]\n",
      " [0.94400253]\n",
      " [0.68399251]\n",
      " [1.29101013]\n",
      " [1.04271466]\n",
      " [1.15325351]]\n",
      "[[0.95452482]\n",
      " [0.97938713]\n",
      " [0.97627493]\n",
      " [0.95290833]\n",
      " [0.97303367]\n",
      " [0.96614282]\n",
      " [0.96210319]\n",
      " [0.97804282]\n",
      " [0.9579439 ]\n",
      " [0.9736603 ]]\n",
      "[[-0.40591648]\n",
      " [ 0.29276686]\n",
      " [ 0.24031308]\n",
      " [-0.44127411]\n",
      " [ 0.09364977]\n",
      " [-0.02214029]\n",
      " [-0.27811068]\n",
      " [ 0.3129673 ]\n",
      " [ 0.08477076]\n",
      " [ 0.17959321]]\n"
     ]
    }
   ],
   "source": [
    "x = np.random.uniform(size=(10,2))\n",
    "ztrue = func(x).reshape(-1,1)\n",
    "print(ztrue)\n",
    "_,_,zpred = forward_pass(x)\n",
    "print(zpred[-1])\n",
    "print(ztrue-zpred[-1])"
   ]
  },
  {
   "cell_type": "markdown",
   "metadata": {},
   "source": [
    "**Obervations.**<br>\n",
    "It's not so impressive. Sometimes the weight optimization even diverges. But (in theory) we (should) have found the best possible fit for the neural network's weights since what we did was (attempt to) minimize the loss function. So why is it so bad?\n",
    "\n",
    "A few possible answers at this stage:\n",
    "- The $x_0,x_1\\mapsto \\sqrt{x_0+x_1}$ function just cannot be satisfyingly represented with this neural network architecture.\n",
    "- The stochastic gradient descent procedure got stuck in a local minimum of the loss function.\n",
    "- When divergence occured, the (constant) learning rate was not small enough to keep the gradient steps small.\n",
    "\n",
    "What's your opinion on these phenomena and their possible solutions?\n",
    "\n",
    "**Note.**<br>\n",
    "You can find this code wrapped-up as a Python class in `ann.py`"
   ]
  },
  {
   "cell_type": "markdown",
   "metadata": {},
   "source": [
    "# 5.7 MLP in scikit-learn\n",
    "\n",
    "Let's train our first neural network with scikit-learn."
   ]
  },
  {
   "cell_type": "code",
   "execution_count": 32,
   "metadata": {},
   "outputs": [
    {
     "name": "stdout",
     "output_type": "stream",
     "text": [
      "nb points: 1000\n"
     ]
    },
    {
     "data": {
      "image/png": "[encoded data removed]",
      "text/plain": [
       "<Figure size 560x560 with 1 Axes>"
      ]
     },
     "metadata": {},
     "output_type": "display_data"
    }
   ],
   "source": [
    "def func(x):\n",
    "    x = 15.*x-5.\n",
    "    return x*np.sin(x)\n",
    "\n",
    "sigma_noise = 0.3\n",
    "def observation(x):\n",
    "    return func(x) + np.random.normal(0,sigma_noise,x.shape[0])\n",
    "\n",
    "X = np.linspace(0,1,1000)\n",
    "N = X.shape[0]\n",
    "Y = observation(X)\n",
    "x = np.linspace(0,1,100)\n",
    "\n",
    "fig=plt.figure(figsize=(7,7), dpi= 80, facecolor='w', edgecolor='k')\n",
    "plt.plot(X, Y, 'r.', markersize=10, label=u'Observations')\n",
    "plt.plot(x, func(x), 'b', label=u'$f(x) = x\\,\\sin(x)$')\n",
    "plt.xlabel('$x$')\n",
    "plt.ylabel('$f(x)$')\n",
    "plt.ylim(-6, 10)\n",
    "plt.legend(loc='upper left');\n",
    "\n",
    "print(\"nb points:\", N)\n",
    "\n",
    "X=X.reshape(-1,1)"
   ]
  },
  {
   "cell_type": "code",
   "execution_count": 36,
   "metadata": {
    "scrolled": true
   },
   "outputs": [],
   "source": [
    "from sklearn.neural_network import MLPRegressor\n",
    "\n",
    "myNN = MLPRegressor(hidden_layer_sizes=(100,10), activation='tanh', solver='lbfgs', max_iter=5000, learning_rate_init=0.1) "
   ]
  },
  {
   "cell_type": "code",
   "execution_count": 37,
   "metadata": {},
   "outputs": [
    {
     "data": {
      "text/plain": [
       "MLPRegressor(activation='logistic', hidden_layer_sizes=(100, 10),\n",
       "             learning_rate_init=0.1, max_iter=5000, solver='lbfgs')"
      ]
     },
     "execution_count": 37,
     "metadata": {},
     "output_type": "execute_result"
    }
   ],
   "source": [
    "myNN.fit(X,Y)"
   ]
  },
  {
   "cell_type": "code",
   "execution_count": 38,
   "metadata": {},
   "outputs": [
    {
     "data": {
      "image/png": "[encoded data removed]",
      "text/plain": [
       "<Figure size 800x800 with 1 Axes>"
      ]
     },
     "metadata": {},
     "output_type": "display_data"
    }
   ],
   "source": [
    "ypredict = myNN.predict(X)\n",
    "\n",
    "fig=plt.figure(figsize=(10,10), dpi=80, facecolor='w', edgecolor='k')\n",
    "plt.plot(X.ravel(), Y.ravel(), 'r.', markersize=10, label=u'Observations')\n",
    "plt.plot(x, func(x), 'b', label=u'$f(x) = x\\,\\sin(x)$')\n",
    "plt.plot(X, ypredict, 'g', label=u'$f(x) = NN(x)$')\n",
    "plt.xlabel('$x$')\n",
    "plt.ylabel('$f(x)$')\n",
    "plt.ylim(-6, 10)\n",
    "plt.legend(loc='upper left');"
   ]
  },
  {
   "cell_type": "markdown",
   "metadata": {},
   "source": [
    "A bit unconvincing. We are going to focus on the classification case and will use the PyTorch API in the next part of this class, but this first example contains many warnings. Although appealing for their many good properties (trainable online, scalable to large datasets and dimensions, versatile), neural networks can be hard to tune and are prone to overfitting (or underfitting) if nothing is done to prevent it. Also, the current scikit-learn implementation is maybe not the most adapted tool for neural networks."
   ]
  },
  {
   "cell_type": "markdown",
   "metadata": {},
   "source": [
    "# 6. <a id=\"sec6\"></a>Neural networks for classification\n",
    "\n",
    "The derivation we have written above can be repeated for other loss functions. In particular, for classification tasks, if one has $K$ classes with $p_k$ the target classes probabilities for input $x$, the cross-entropy loss fonction is commonly used in classification:\n",
    "$$L(\\theta) = \\sum_{k=1}^K p_k \\log f_\\theta(x)$$\n",
    "\n",
    "Scikit-learn offers an easy API for classification as illustrated below, but its flexibility remains limited and PyTorch offers a great API that we shall use in the next part of this class."
   ]
  },
  {
   "cell_type": "code",
   "execution_count": 39,
   "metadata": {},
   "outputs": [],
   "source": [
    "from sys import path\n",
    "path.append('.')\n",
    "import load_spam\n",
    "spam_data = load_spam.spam_data_loader()\n",
    "spam_data.load_data()\n",
    "\n",
    "Xtrain, ytrain, Xtest, ytest = spam_data.split(2000)"
   ]
  },
  {
   "cell_type": "code",
   "execution_count": 40,
   "metadata": {},
   "outputs": [
    {
     "data": {
      "text/plain": [
       "<1x14279 sparse matrix of type '<class 'numpy.float64'>'\n",
       "\twith 49 stored elements in Compressed Sparse Row format>"
      ]
     },
     "execution_count": 40,
     "metadata": {},
     "output_type": "execute_result"
    }
   ],
   "source": [
    "Xtest[0]"
   ]
  },
  {
   "cell_type": "code",
   "execution_count": 41,
   "metadata": {},
   "outputs": [
    {
     "data": {
      "text/plain": [
       "MLPClassifier(hidden_layer_sizes=25)"
      ]
     },
     "execution_count": 41,
     "metadata": {},
     "output_type": "execute_result"
    }
   ],
   "source": [
    "from sklearn.neural_network import MLPClassifier\n",
    "\n",
    "myNN = MLPClassifier(hidden_layer_sizes=(25))\n",
    "myNN.fit(Xtrain, ytrain)"
   ]
  },
  {
   "cell_type": "code",
   "execution_count": 42,
   "metadata": {},
   "outputs": [
    {
     "data": {
      "text/plain": [
       "0.9966405375139977"
      ]
     },
     "execution_count": 42,
     "metadata": {},
     "output_type": "execute_result"
    }
   ],
   "source": [
    "myNN.score(Xtest,ytest)"
   ]
  },
  {
   "cell_type": "markdown",
   "metadata": {},
   "source": [
    "The classification accuracy is already excellent."
   ]
  },
  {
   "cell_type": "code",
   "execution_count": null,
   "metadata": {},
   "outputs": [],
   "source": []
  }
 ],
 "metadata": {
  "@webio": {
   "lastCommId": null,
   "lastKernelId": null
  },
  "kernelspec": {
   "display_name": "Python 3",
   "language": "python",
   "name": "python3"
  },
  "language_info": {
   "codemirror_mode": {
    "name": "ipython",
    "version": 3
   },
   "file_extension": ".py",
   "mimetype": "text/x-python",
   "name": "python",
   "nbconvert_exporter": "python",
   "pygments_lexer": "ipython3",
   "version": "3.8.3"
  },
  "toc": {
   "base_numbering": 1,
   "nav_menu": {},
   "number_sections": true,
   "sideBar": true,
   "skip_h1_title": false,
   "title_cell": "Table of Contents",
   "title_sidebar": "Contents",
   "toc_cell": false,
   "toc_position": {
    "height": "calc(100% - 180px)",
    "left": "10px",
    "top": "150px",
    "width": "165px"
   },
   "toc_section_display": true,
   "toc_window_display": true
  }
 },
 "nbformat": 4,
 "nbformat_minor": 2
}
