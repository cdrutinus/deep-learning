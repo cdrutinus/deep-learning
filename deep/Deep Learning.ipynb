{
  "nbformat": 4,
  "nbformat_minor": 0,
  "metadata": {
    "@webio": {
      "lastCommId": null,
      "lastKernelId": null
    },
    "celltoolbar": "Slideshow",
    "kernelspec": {
      "display_name": "Python 3",
      "language": "python",
      "name": "python3"
    },
    "language_info": {
      "codemirror_mode": {
        "name": "ipython",
        "version": 3
      },
      "file_extension": ".py",
      "mimetype": "text/x-python",
      "name": "python",
      "nbconvert_exporter": "python",
      "pygments_lexer": "ipython3",
      "version": "3.8.3"
    },
    "toc": {
      "base_numbering": 1,
      "nav_menu": {},
      "number_sections": true,
      "sideBar": true,
      "skip_h1_title": false,
      "title_cell": "Table of Contents",
      "title_sidebar": "Contents",
      "toc_cell": false,
      "toc_position": {
        "height": "calc(100% - 180px)",
        "left": "10px",
        "top": "150px",
        "width": "384px"
      },
      "toc_section_display": true,
      "toc_window_display": true
    },
    "colab": {
      "name": "Deep Learning.ipynb",
      "provenance": [],
      "collapsed_sections": [
        "CzE00LZfP3n_",
        "TlpXJMfVP3n_",
        "GXkKY-qCP3oA",
        "mKYWLk45P3oA",
        "rWGtkjR3P3oA",
        "-3Lt5v-vP3oA",
        "W444KEJwP3oB"
      ]
    },
    "widgets": {
      "application/vnd.jupyter.widget-state+json": {
        "e5e124498d154c6fa955d642779f003a": {
          "model_module": "@jupyter-widgets/controls",
          "model_name": "HBoxModel",
          "state": {
            "_view_name": "HBoxView",
            "_dom_classes": [],
            "_model_name": "HBoxModel",
            "_view_module": "@jupyter-widgets/controls",
            "_model_module_version": "1.5.0",
            "_view_count": null,
            "_view_module_version": "1.5.0",
            "box_style": "",
            "layout": "IPY_MODEL_9c3136b8fc8045ae9e7846f84d95bea1",
            "_model_module": "@jupyter-widgets/controls",
            "children": [
              "IPY_MODEL_32f4822843fc42ef87bfdd67527a1876",
              "IPY_MODEL_06874942a9fb486bb737abffbe5f0b2e"
            ]
          }
        },
        "9c3136b8fc8045ae9e7846f84d95bea1": {
          "model_module": "@jupyter-widgets/base",
          "model_name": "LayoutModel",
          "state": {
            "_view_name": "LayoutView",
            "grid_template_rows": null,
            "right": null,
            "justify_content": null,
            "_view_module": "@jupyter-widgets/base",
            "overflow": null,
            "_model_module_version": "1.2.0",
            "_view_count": null,
            "flex_flow": null,
            "width": null,
            "min_width": null,
            "border": null,
            "align_items": null,
            "bottom": null,
            "_model_module": "@jupyter-widgets/base",
            "top": null,
            "grid_column": null,
            "overflow_y": null,
            "overflow_x": null,
            "grid_auto_flow": null,
            "grid_area": null,
            "grid_template_columns": null,
            "flex": null,
            "_model_name": "LayoutModel",
            "justify_items": null,
            "grid_row": null,
            "max_height": null,
            "align_content": null,
            "visibility": null,
            "align_self": null,
            "height": null,
            "min_height": null,
            "padding": null,
            "grid_auto_rows": null,
            "grid_gap": null,
            "max_width": null,
            "order": null,
            "_view_module_version": "1.2.0",
            "grid_template_areas": null,
            "object_position": null,
            "object_fit": null,
            "grid_auto_columns": null,
            "margin": null,
            "display": null,
            "left": null
          }
        },
        "32f4822843fc42ef87bfdd67527a1876": {
          "model_module": "@jupyter-widgets/controls",
          "model_name": "FloatProgressModel",
          "state": {
            "_view_name": "ProgressView",
            "style": "IPY_MODEL_d6a6467e6fd74fda8a8ac7da04032172",
            "_dom_classes": [],
            "description": "",
            "_model_name": "FloatProgressModel",
            "bar_style": "info",
            "max": 1,
            "_view_module": "@jupyter-widgets/controls",
            "_model_module_version": "1.5.0",
            "value": 1,
            "_view_count": null,
            "_view_module_version": "1.5.0",
            "orientation": "horizontal",
            "min": 0,
            "description_tooltip": null,
            "_model_module": "@jupyter-widgets/controls",
            "layout": "IPY_MODEL_c0a2eda833df41a0aa0819a233cbc85a"
          }
        },
        "06874942a9fb486bb737abffbe5f0b2e": {
          "model_module": "@jupyter-widgets/controls",
          "model_name": "HTMLModel",
          "state": {
            "_view_name": "HTMLView",
            "style": "IPY_MODEL_8e9afcc68fa6457bbab241192162e560",
            "_dom_classes": [],
            "description": "",
            "_model_name": "HTMLModel",
            "placeholder": "​",
            "_view_module": "@jupyter-widgets/controls",
            "_model_module_version": "1.5.0",
            "value": " 26427392/? [00:20&lt;00:00, 14332073.99it/s]",
            "_view_count": null,
            "_view_module_version": "1.5.0",
            "description_tooltip": null,
            "_model_module": "@jupyter-widgets/controls",
            "layout": "IPY_MODEL_eeea58deabfa4ebab4ca0c49c6e82a21"
          }
        },
        "d6a6467e6fd74fda8a8ac7da04032172": {
          "model_module": "@jupyter-widgets/controls",
          "model_name": "ProgressStyleModel",
          "state": {
            "_view_name": "StyleView",
            "_model_name": "ProgressStyleModel",
            "description_width": "initial",
            "_view_module": "@jupyter-widgets/base",
            "_model_module_version": "1.5.0",
            "_view_count": null,
            "_view_module_version": "1.2.0",
            "bar_color": null,
            "_model_module": "@jupyter-widgets/controls"
          }
        },
        "c0a2eda833df41a0aa0819a233cbc85a": {
          "model_module": "@jupyter-widgets/base",
          "model_name": "LayoutModel",
          "state": {
            "_view_name": "LayoutView",
            "grid_template_rows": null,
            "right": null,
            "justify_content": null,
            "_view_module": "@jupyter-widgets/base",
            "overflow": null,
            "_model_module_version": "1.2.0",
            "_view_count": null,
            "flex_flow": null,
            "width": null,
            "min_width": null,
            "border": null,
            "align_items": null,
            "bottom": null,
            "_model_module": "@jupyter-widgets/base",
            "top": null,
            "grid_column": null,
            "overflow_y": null,
            "overflow_x": null,
            "grid_auto_flow": null,
            "grid_area": null,
            "grid_template_columns": null,
            "flex": null,
            "_model_name": "LayoutModel",
            "justify_items": null,
            "grid_row": null,
            "max_height": null,
            "align_content": null,
            "visibility": null,
            "align_self": null,
            "height": null,
            "min_height": null,
            "padding": null,
            "grid_auto_rows": null,
            "grid_gap": null,
            "max_width": null,
            "order": null,
            "_view_module_version": "1.2.0",
            "grid_template_areas": null,
            "object_position": null,
            "object_fit": null,
            "grid_auto_columns": null,
            "margin": null,
            "display": null,
            "left": null
          }
        },
        "8e9afcc68fa6457bbab241192162e560": {
          "model_module": "@jupyter-widgets/controls",
          "model_name": "DescriptionStyleModel",
          "state": {
            "_view_name": "StyleView",
            "_model_name": "DescriptionStyleModel",
            "description_width": "",
            "_view_module": "@jupyter-widgets/base",
            "_model_module_version": "1.5.0",
            "_view_count": null,
            "_view_module_version": "1.2.0",
            "_model_module": "@jupyter-widgets/controls"
          }
        },
        "eeea58deabfa4ebab4ca0c49c6e82a21": {
          "model_module": "@jupyter-widgets/base",
          "model_name": "LayoutModel",
          "state": {
            "_view_name": "LayoutView",
            "grid_template_rows": null,
            "right": null,
            "justify_content": null,
            "_view_module": "@jupyter-widgets/base",
            "overflow": null,
            "_model_module_version": "1.2.0",
            "_view_count": null,
            "flex_flow": null,
            "width": null,
            "min_width": null,
            "border": null,
            "align_items": null,
            "bottom": null,
            "_model_module": "@jupyter-widgets/base",
            "top": null,
            "grid_column": null,
            "overflow_y": null,
            "overflow_x": null,
            "grid_auto_flow": null,
            "grid_area": null,
            "grid_template_columns": null,
            "flex": null,
            "_model_name": "LayoutModel",
            "justify_items": null,
            "grid_row": null,
            "max_height": null,
            "align_content": null,
            "visibility": null,
            "align_self": null,
            "height": null,
            "min_height": null,
            "padding": null,
            "grid_auto_rows": null,
            "grid_gap": null,
            "max_width": null,
            "order": null,
            "_view_module_version": "1.2.0",
            "grid_template_areas": null,
            "object_position": null,
            "object_fit": null,
            "grid_auto_columns": null,
            "margin": null,
            "display": null,
            "left": null
          }
        },
        "eac8cc1bbc744b0a9120049b66428168": {
          "model_module": "@jupyter-widgets/controls",
          "model_name": "HBoxModel",
          "state": {
            "_view_name": "HBoxView",
            "_dom_classes": [],
            "_model_name": "HBoxModel",
            "_view_module": "@jupyter-widgets/controls",
            "_model_module_version": "1.5.0",
            "_view_count": null,
            "_view_module_version": "1.5.0",
            "box_style": "",
            "layout": "IPY_MODEL_af3b15b9ae0f4116a516ed7bca967b28",
            "_model_module": "@jupyter-widgets/controls",
            "children": [
              "IPY_MODEL_5c52e01e3db949318a9ae8574a9d60cf",
              "IPY_MODEL_170cda0567ea456e9ff33fe86d0b17e1"
            ]
          }
        },
        "af3b15b9ae0f4116a516ed7bca967b28": {
          "model_module": "@jupyter-widgets/base",
          "model_name": "LayoutModel",
          "state": {
            "_view_name": "LayoutView",
            "grid_template_rows": null,
            "right": null,
            "justify_content": null,
            "_view_module": "@jupyter-widgets/base",
            "overflow": null,
            "_model_module_version": "1.2.0",
            "_view_count": null,
            "flex_flow": null,
            "width": null,
            "min_width": null,
            "border": null,
            "align_items": null,
            "bottom": null,
            "_model_module": "@jupyter-widgets/base",
            "top": null,
            "grid_column": null,
            "overflow_y": null,
            "overflow_x": null,
            "grid_auto_flow": null,
            "grid_area": null,
            "grid_template_columns": null,
            "flex": null,
            "_model_name": "LayoutModel",
            "justify_items": null,
            "grid_row": null,
            "max_height": null,
            "align_content": null,
            "visibility": null,
            "align_self": null,
            "height": null,
            "min_height": null,
            "padding": null,
            "grid_auto_rows": null,
            "grid_gap": null,
            "max_width": null,
            "order": null,
            "_view_module_version": "1.2.0",
            "grid_template_areas": null,
            "object_position": null,
            "object_fit": null,
            "grid_auto_columns": null,
            "margin": null,
            "display": null,
            "left": null
          }
        },
        "5c52e01e3db949318a9ae8574a9d60cf": {
          "model_module": "@jupyter-widgets/controls",
          "model_name": "FloatProgressModel",
          "state": {
            "_view_name": "ProgressView",
            "style": "IPY_MODEL_adb153208b7c4e249a43703793d51e90",
            "_dom_classes": [],
            "description": "  0%",
            "_model_name": "FloatProgressModel",
            "bar_style": "info",
            "max": 1,
            "_view_module": "@jupyter-widgets/controls",
            "_model_module_version": "1.5.0",
            "value": 0,
            "_view_count": null,
            "_view_module_version": "1.5.0",
            "orientation": "horizontal",
            "min": 0,
            "description_tooltip": null,
            "_model_module": "@jupyter-widgets/controls",
            "layout": "IPY_MODEL_fd3460e4a8ce45f1abff4e19edbf8330"
          }
        },
        "170cda0567ea456e9ff33fe86d0b17e1": {
          "model_module": "@jupyter-widgets/controls",
          "model_name": "HTMLModel",
          "state": {
            "_view_name": "HTMLView",
            "style": "IPY_MODEL_a246cef9cf10454f82e6706d8e47662c",
            "_dom_classes": [],
            "description": "",
            "_model_name": "HTMLModel",
            "placeholder": "​",
            "_view_module": "@jupyter-widgets/controls",
            "_model_module_version": "1.5.0",
            "value": " 0/29515 [00:00&lt;?, ?it/s]",
            "_view_count": null,
            "_view_module_version": "1.5.0",
            "description_tooltip": null,
            "_model_module": "@jupyter-widgets/controls",
            "layout": "IPY_MODEL_1bd5394ec8814b2faa13135a732fa4df"
          }
        },
        "adb153208b7c4e249a43703793d51e90": {
          "model_module": "@jupyter-widgets/controls",
          "model_name": "ProgressStyleModel",
          "state": {
            "_view_name": "StyleView",
            "_model_name": "ProgressStyleModel",
            "description_width": "initial",
            "_view_module": "@jupyter-widgets/base",
            "_model_module_version": "1.5.0",
            "_view_count": null,
            "_view_module_version": "1.2.0",
            "bar_color": null,
            "_model_module": "@jupyter-widgets/controls"
          }
        },
        "fd3460e4a8ce45f1abff4e19edbf8330": {
          "model_module": "@jupyter-widgets/base",
          "model_name": "LayoutModel",
          "state": {
            "_view_name": "LayoutView",
            "grid_template_rows": null,
            "right": null,
            "justify_content": null,
            "_view_module": "@jupyter-widgets/base",
            "overflow": null,
            "_model_module_version": "1.2.0",
            "_view_count": null,
            "flex_flow": null,
            "width": null,
            "min_width": null,
            "border": null,
            "align_items": null,
            "bottom": null,
            "_model_module": "@jupyter-widgets/base",
            "top": null,
            "grid_column": null,
            "overflow_y": null,
            "overflow_x": null,
            "grid_auto_flow": null,
            "grid_area": null,
            "grid_template_columns": null,
            "flex": null,
            "_model_name": "LayoutModel",
            "justify_items": null,
            "grid_row": null,
            "max_height": null,
            "align_content": null,
            "visibility": null,
            "align_self": null,
            "height": null,
            "min_height": null,
            "padding": null,
            "grid_auto_rows": null,
            "grid_gap": null,
            "max_width": null,
            "order": null,
            "_view_module_version": "1.2.0",
            "grid_template_areas": null,
            "object_position": null,
            "object_fit": null,
            "grid_auto_columns": null,
            "margin": null,
            "display": null,
            "left": null
          }
        },
        "a246cef9cf10454f82e6706d8e47662c": {
          "model_module": "@jupyter-widgets/controls",
          "model_name": "DescriptionStyleModel",
          "state": {
            "_view_name": "StyleView",
            "_model_name": "DescriptionStyleModel",
            "description_width": "",
            "_view_module": "@jupyter-widgets/base",
            "_model_module_version": "1.5.0",
            "_view_count": null,
            "_view_module_version": "1.2.0",
            "_model_module": "@jupyter-widgets/controls"
          }
        },
        "1bd5394ec8814b2faa13135a732fa4df": {
          "model_module": "@jupyter-widgets/base",
          "model_name": "LayoutModel",
          "state": {
            "_view_name": "LayoutView",
            "grid_template_rows": null,
            "right": null,
            "justify_content": null,
            "_view_module": "@jupyter-widgets/base",
            "overflow": null,
            "_model_module_version": "1.2.0",
            "_view_count": null,
            "flex_flow": null,
            "width": null,
            "min_width": null,
            "border": null,
            "align_items": null,
            "bottom": null,
            "_model_module": "@jupyter-widgets/base",
            "top": null,
            "grid_column": null,
            "overflow_y": null,
            "overflow_x": null,
            "grid_auto_flow": null,
            "grid_area": null,
            "grid_template_columns": null,
            "flex": null,
            "_model_name": "LayoutModel",
            "justify_items": null,
            "grid_row": null,
            "max_height": null,
            "align_content": null,
            "visibility": null,
            "align_self": null,
            "height": null,
            "min_height": null,
            "padding": null,
            "grid_auto_rows": null,
            "grid_gap": null,
            "max_width": null,
            "order": null,
            "_view_module_version": "1.2.0",
            "grid_template_areas": null,
            "object_position": null,
            "object_fit": null,
            "grid_auto_columns": null,
            "margin": null,
            "display": null,
            "left": null
          }
        },
        "c6c25d99606f48649f8f49eb64cb0655": {
          "model_module": "@jupyter-widgets/controls",
          "model_name": "HBoxModel",
          "state": {
            "_view_name": "HBoxView",
            "_dom_classes": [],
            "_model_name": "HBoxModel",
            "_view_module": "@jupyter-widgets/controls",
            "_model_module_version": "1.5.0",
            "_view_count": null,
            "_view_module_version": "1.5.0",
            "box_style": "",
            "layout": "IPY_MODEL_6dd4da96635843ea9f6cae2489a945dd",
            "_model_module": "@jupyter-widgets/controls",
            "children": [
              "IPY_MODEL_a5ea0095cfd243dcb73407894de2e9d5",
              "IPY_MODEL_8722f40a326a40bfa27c30d475ca07e6"
            ]
          }
        },
        "6dd4da96635843ea9f6cae2489a945dd": {
          "model_module": "@jupyter-widgets/base",
          "model_name": "LayoutModel",
          "state": {
            "_view_name": "LayoutView",
            "grid_template_rows": null,
            "right": null,
            "justify_content": null,
            "_view_module": "@jupyter-widgets/base",
            "overflow": null,
            "_model_module_version": "1.2.0",
            "_view_count": null,
            "flex_flow": null,
            "width": null,
            "min_width": null,
            "border": null,
            "align_items": null,
            "bottom": null,
            "_model_module": "@jupyter-widgets/base",
            "top": null,
            "grid_column": null,
            "overflow_y": null,
            "overflow_x": null,
            "grid_auto_flow": null,
            "grid_area": null,
            "grid_template_columns": null,
            "flex": null,
            "_model_name": "LayoutModel",
            "justify_items": null,
            "grid_row": null,
            "max_height": null,
            "align_content": null,
            "visibility": null,
            "align_self": null,
            "height": null,
            "min_height": null,
            "padding": null,
            "grid_auto_rows": null,
            "grid_gap": null,
            "max_width": null,
            "order": null,
            "_view_module_version": "1.2.0",
            "grid_template_areas": null,
            "object_position": null,
            "object_fit": null,
            "grid_auto_columns": null,
            "margin": null,
            "display": null,
            "left": null
          }
        },
        "a5ea0095cfd243dcb73407894de2e9d5": {
          "model_module": "@jupyter-widgets/controls",
          "model_name": "FloatProgressModel",
          "state": {
            "_view_name": "ProgressView",
            "style": "IPY_MODEL_b4a325283b4e44b9a7c5ffdb8b431df3",
            "_dom_classes": [],
            "description": "",
            "_model_name": "FloatProgressModel",
            "bar_style": "info",
            "max": 1,
            "_view_module": "@jupyter-widgets/controls",
            "_model_module_version": "1.5.0",
            "value": 1,
            "_view_count": null,
            "_view_module_version": "1.5.0",
            "orientation": "horizontal",
            "min": 0,
            "description_tooltip": null,
            "_model_module": "@jupyter-widgets/controls",
            "layout": "IPY_MODEL_5557bb9550354211a3f5ac2e1f78622c"
          }
        },
        "8722f40a326a40bfa27c30d475ca07e6": {
          "model_module": "@jupyter-widgets/controls",
          "model_name": "HTMLModel",
          "state": {
            "_view_name": "HTMLView",
            "style": "IPY_MODEL_85d700dbf3724100adf66aef148419aa",
            "_dom_classes": [],
            "description": "",
            "_model_name": "HTMLModel",
            "placeholder": "​",
            "_view_module": "@jupyter-widgets/controls",
            "_model_module_version": "1.5.0",
            "value": " 4423680/? [00:17&lt;00:00, 1102321.93it/s]",
            "_view_count": null,
            "_view_module_version": "1.5.0",
            "description_tooltip": null,
            "_model_module": "@jupyter-widgets/controls",
            "layout": "IPY_MODEL_229584af5b30494b8b4b0b1bdb8933c1"
          }
        },
        "b4a325283b4e44b9a7c5ffdb8b431df3": {
          "model_module": "@jupyter-widgets/controls",
          "model_name": "ProgressStyleModel",
          "state": {
            "_view_name": "StyleView",
            "_model_name": "ProgressStyleModel",
            "description_width": "initial",
            "_view_module": "@jupyter-widgets/base",
            "_model_module_version": "1.5.0",
            "_view_count": null,
            "_view_module_version": "1.2.0",
            "bar_color": null,
            "_model_module": "@jupyter-widgets/controls"
          }
        },
        "5557bb9550354211a3f5ac2e1f78622c": {
          "model_module": "@jupyter-widgets/base",
          "model_name": "LayoutModel",
          "state": {
            "_view_name": "LayoutView",
            "grid_template_rows": null,
            "right": null,
            "justify_content": null,
            "_view_module": "@jupyter-widgets/base",
            "overflow": null,
            "_model_module_version": "1.2.0",
            "_view_count": null,
            "flex_flow": null,
            "width": null,
            "min_width": null,
            "border": null,
            "align_items": null,
            "bottom": null,
            "_model_module": "@jupyter-widgets/base",
            "top": null,
            "grid_column": null,
            "overflow_y": null,
            "overflow_x": null,
            "grid_auto_flow": null,
            "grid_area": null,
            "grid_template_columns": null,
            "flex": null,
            "_model_name": "LayoutModel",
            "justify_items": null,
            "grid_row": null,
            "max_height": null,
            "align_content": null,
            "visibility": null,
            "align_self": null,
            "height": null,
            "min_height": null,
            "padding": null,
            "grid_auto_rows": null,
            "grid_gap": null,
            "max_width": null,
            "order": null,
            "_view_module_version": "1.2.0",
            "grid_template_areas": null,
            "object_position": null,
            "object_fit": null,
            "grid_auto_columns": null,
            "margin": null,
            "display": null,
            "left": null
          }
        },
        "85d700dbf3724100adf66aef148419aa": {
          "model_module": "@jupyter-widgets/controls",
          "model_name": "DescriptionStyleModel",
          "state": {
            "_view_name": "StyleView",
            "_model_name": "DescriptionStyleModel",
            "description_width": "",
            "_view_module": "@jupyter-widgets/base",
            "_model_module_version": "1.5.0",
            "_view_count": null,
            "_view_module_version": "1.2.0",
            "_model_module": "@jupyter-widgets/controls"
          }
        },
        "229584af5b30494b8b4b0b1bdb8933c1": {
          "model_module": "@jupyter-widgets/base",
          "model_name": "LayoutModel",
          "state": {
            "_view_name": "LayoutView",
            "grid_template_rows": null,
            "right": null,
            "justify_content": null,
            "_view_module": "@jupyter-widgets/base",
            "overflow": null,
            "_model_module_version": "1.2.0",
            "_view_count": null,
            "flex_flow": null,
            "width": null,
            "min_width": null,
            "border": null,
            "align_items": null,
            "bottom": null,
            "_model_module": "@jupyter-widgets/base",
            "top": null,
            "grid_column": null,
            "overflow_y": null,
            "overflow_x": null,
            "grid_auto_flow": null,
            "grid_area": null,
            "grid_template_columns": null,
            "flex": null,
            "_model_name": "LayoutModel",
            "justify_items": null,
            "grid_row": null,
            "max_height": null,
            "align_content": null,
            "visibility": null,
            "align_self": null,
            "height": null,
            "min_height": null,
            "padding": null,
            "grid_auto_rows": null,
            "grid_gap": null,
            "max_width": null,
            "order": null,
            "_view_module_version": "1.2.0",
            "grid_template_areas": null,
            "object_position": null,
            "object_fit": null,
            "grid_auto_columns": null,
            "margin": null,
            "display": null,
            "left": null
          }
        },
        "3a100e9edc6841789d1d251c943ae57f": {
          "model_module": "@jupyter-widgets/controls",
          "model_name": "HBoxModel",
          "state": {
            "_view_name": "HBoxView",
            "_dom_classes": [],
            "_model_name": "HBoxModel",
            "_view_module": "@jupyter-widgets/controls",
            "_model_module_version": "1.5.0",
            "_view_count": null,
            "_view_module_version": "1.5.0",
            "box_style": "",
            "layout": "IPY_MODEL_e1fdb27985c54d69b190629a67313b5f",
            "_model_module": "@jupyter-widgets/controls",
            "children": [
              "IPY_MODEL_b0601dc31b50440e95a355c9a909b9a1",
              "IPY_MODEL_f62c575d0a024a77a478905cdb703b00"
            ]
          }
        },
        "e1fdb27985c54d69b190629a67313b5f": {
          "model_module": "@jupyter-widgets/base",
          "model_name": "LayoutModel",
          "state": {
            "_view_name": "LayoutView",
            "grid_template_rows": null,
            "right": null,
            "justify_content": null,
            "_view_module": "@jupyter-widgets/base",
            "overflow": null,
            "_model_module_version": "1.2.0",
            "_view_count": null,
            "flex_flow": null,
            "width": null,
            "min_width": null,
            "border": null,
            "align_items": null,
            "bottom": null,
            "_model_module": "@jupyter-widgets/base",
            "top": null,
            "grid_column": null,
            "overflow_y": null,
            "overflow_x": null,
            "grid_auto_flow": null,
            "grid_area": null,
            "grid_template_columns": null,
            "flex": null,
            "_model_name": "LayoutModel",
            "justify_items": null,
            "grid_row": null,
            "max_height": null,
            "align_content": null,
            "visibility": null,
            "align_self": null,
            "height": null,
            "min_height": null,
            "padding": null,
            "grid_auto_rows": null,
            "grid_gap": null,
            "max_width": null,
            "order": null,
            "_view_module_version": "1.2.0",
            "grid_template_areas": null,
            "object_position": null,
            "object_fit": null,
            "grid_auto_columns": null,
            "margin": null,
            "display": null,
            "left": null
          }
        },
        "b0601dc31b50440e95a355c9a909b9a1": {
          "model_module": "@jupyter-widgets/controls",
          "model_name": "FloatProgressModel",
          "state": {
            "_view_name": "ProgressView",
            "style": "IPY_MODEL_e535152ee6b548058c28c3b827bd9616",
            "_dom_classes": [],
            "description": "  0%",
            "_model_name": "FloatProgressModel",
            "bar_style": "info",
            "max": 1,
            "_view_module": "@jupyter-widgets/controls",
            "_model_module_version": "1.5.0",
            "value": 0,
            "_view_count": null,
            "_view_module_version": "1.5.0",
            "orientation": "horizontal",
            "min": 0,
            "description_tooltip": null,
            "_model_module": "@jupyter-widgets/controls",
            "layout": "IPY_MODEL_3e75432dfc0b44dfbf5e85085b8e8e5e"
          }
        },
        "f62c575d0a024a77a478905cdb703b00": {
          "model_module": "@jupyter-widgets/controls",
          "model_name": "HTMLModel",
          "state": {
            "_view_name": "HTMLView",
            "style": "IPY_MODEL_f38c26f5b86b4b77b60812e955dc5dfa",
            "_dom_classes": [],
            "description": "",
            "_model_name": "HTMLModel",
            "placeholder": "​",
            "_view_module": "@jupyter-widgets/controls",
            "_model_module_version": "1.5.0",
            "value": " 0/5148 [00:00&lt;?, ?it/s]",
            "_view_count": null,
            "_view_module_version": "1.5.0",
            "description_tooltip": null,
            "_model_module": "@jupyter-widgets/controls",
            "layout": "IPY_MODEL_34dac0a6687d479b9fe6374a58ceb606"
          }
        },
        "e535152ee6b548058c28c3b827bd9616": {
          "model_module": "@jupyter-widgets/controls",
          "model_name": "ProgressStyleModel",
          "state": {
            "_view_name": "StyleView",
            "_model_name": "ProgressStyleModel",
            "description_width": "initial",
            "_view_module": "@jupyter-widgets/base",
            "_model_module_version": "1.5.0",
            "_view_count": null,
            "_view_module_version": "1.2.0",
            "bar_color": null,
            "_model_module": "@jupyter-widgets/controls"
          }
        },
        "3e75432dfc0b44dfbf5e85085b8e8e5e": {
          "model_module": "@jupyter-widgets/base",
          "model_name": "LayoutModel",
          "state": {
            "_view_name": "LayoutView",
            "grid_template_rows": null,
            "right": null,
            "justify_content": null,
            "_view_module": "@jupyter-widgets/base",
            "overflow": null,
            "_model_module_version": "1.2.0",
            "_view_count": null,
            "flex_flow": null,
            "width": null,
            "min_width": null,
            "border": null,
            "align_items": null,
            "bottom": null,
            "_model_module": "@jupyter-widgets/base",
            "top": null,
            "grid_column": null,
            "overflow_y": null,
            "overflow_x": null,
            "grid_auto_flow": null,
            "grid_area": null,
            "grid_template_columns": null,
            "flex": null,
            "_model_name": "LayoutModel",
            "justify_items": null,
            "grid_row": null,
            "max_height": null,
            "align_content": null,
            "visibility": null,
            "align_self": null,
            "height": null,
            "min_height": null,
            "padding": null,
            "grid_auto_rows": null,
            "grid_gap": null,
            "max_width": null,
            "order": null,
            "_view_module_version": "1.2.0",
            "grid_template_areas": null,
            "object_position": null,
            "object_fit": null,
            "grid_auto_columns": null,
            "margin": null,
            "display": null,
            "left": null
          }
        },
        "f38c26f5b86b4b77b60812e955dc5dfa": {
          "model_module": "@jupyter-widgets/controls",
          "model_name": "DescriptionStyleModel",
          "state": {
            "_view_name": "StyleView",
            "_model_name": "DescriptionStyleModel",
            "description_width": "",
            "_view_module": "@jupyter-widgets/base",
            "_model_module_version": "1.5.0",
            "_view_count": null,
            "_view_module_version": "1.2.0",
            "_model_module": "@jupyter-widgets/controls"
          }
        },
        "34dac0a6687d479b9fe6374a58ceb606": {
          "model_module": "@jupyter-widgets/base",
          "model_name": "LayoutModel",
          "state": {
            "_view_name": "LayoutView",
            "grid_template_rows": null,
            "right": null,
            "justify_content": null,
            "_view_module": "@jupyter-widgets/base",
            "overflow": null,
            "_model_module_version": "1.2.0",
            "_view_count": null,
            "flex_flow": null,
            "width": null,
            "min_width": null,
            "border": null,
            "align_items": null,
            "bottom": null,
            "_model_module": "@jupyter-widgets/base",
            "top": null,
            "grid_column": null,
            "overflow_y": null,
            "overflow_x": null,
            "grid_auto_flow": null,
            "grid_area": null,
            "grid_template_columns": null,
            "flex": null,
            "_model_name": "LayoutModel",
            "justify_items": null,
            "grid_row": null,
            "max_height": null,
            "align_content": null,
            "visibility": null,
            "align_self": null,
            "height": null,
            "min_height": null,
            "padding": null,
            "grid_auto_rows": null,
            "grid_gap": null,
            "max_width": null,
            "order": null,
            "_view_module_version": "1.2.0",
            "grid_template_areas": null,
            "object_position": null,
            "object_fit": null,
            "grid_auto_columns": null,
            "margin": null,
            "display": null,
            "left": null
          }
        }
      }
    }
  },
  "cells": [
    {
      "cell_type": "markdown",
      "metadata": {
        "id": "OEll5gacP3n6"
      },
      "source": [
        "# Deep Learning\n",
        "\n",
        "<a rel=\"license\" href=\"http://creativecommons.org/licenses/by-nc-sa/4.0/\"><img alt=\"Creative Commons License\" align=\"left\" src=\"https://i.creativecommons.org/l/by-nc-sa/4.0/80x15.png\" /></a>&nbsp;| Emmanuel Rachelson and Dennis G. Wilson | <a href=\"https://supaerodatascience.github.io/deep-learning/\">https://supaerodatascience.github.io/deep-learning/</a>"
      ]
    },
    {
      "cell_type": "markdown",
      "metadata": {
        "id": "VYruC-NcP3n7"
      },
      "source": [
        "This class supposes a basic knowledge of Artificial Neural Networks, Backpropagation and Stochastic Gradient Descent (as introduced in the previous class). If you want an in-depth refresher on linear algebra specific to deep learning, [these notebooks](https://github.com/hadrienj/deepLearningBook-Notes) are well-done.\n",
        "\n",
        "0. [Preparation](#sec0)\n",
        "1. [Dataset: Fashion-MNIST](#sec1)\n",
        "2. [ANNs in Layers](#sec2)\n",
        "3. [Backpropagation and training](#sec3)\n",
        "4. [Activation Functions](#sec4)\n",
        "5. [Convolutional Neural Networks](#sec5)\n",
        "6. [Overfitting](#sec6)\n",
        "7. [Improving Optimization](#sec7)\n"
      ]
    },
    {
      "cell_type": "markdown",
      "metadata": {
        "id": "GKeV6qLdP3n7"
      },
      "source": [
        "# <a id=\"sec0\">0. Preparation</a>"
      ]
    },
    {
      "cell_type": "markdown",
      "metadata": {
        "id": "IgRllhEqP3n7"
      },
      "source": [
        "In this notebook, we'll be using `torch`, `torchvision`, and `ignite`. Please refer to the [PyTorch](https://pytorch.org/get-started/locally/) website for installation instructions. We'll also be using the packages `sklearn`, `numpy`, and `matplotlib`. To make the notebook into slides, I'm using [`rise`](https://github.com/damianavila/RISE) which you can also install. Note that this notebook is fairly compute intensive and might be better [run in Google Colab.](https://colab.research.google.com/github/SupaeroDataScience/deep-learning/blob/main/deep/Deep%20Learning.ipynb)"
      ]
    },
    {
      "cell_type": "markdown",
      "metadata": {
        "id": "6Gmk2V-bP3n7"
      },
      "source": [
        "<div class=\"alert alert-success\">\n",
        "Exercise 1:\n",
        "Install the necessary packages and verify that everything is working by importing everything.\n",
        "</div>"
      ]
    },
    {
      "cell_type": "code",
      "metadata": {
        "id": "Td2Up7ZGP3n7"
      },
      "source": [
        "# !pip install torch torchvision pytorch-ignite"
      ],
      "execution_count": null,
      "outputs": []
    },
    {
      "cell_type": "code",
      "metadata": {
        "id": "DGC8pT8fP3n7"
      },
      "source": [
        "import torch\n",
        "import torchvision\n",
        "import numpy as np\n",
        "%matplotlib inline\n",
        "import matplotlib.pyplot as plt"
      ],
      "execution_count": null,
      "outputs": []
    },
    {
      "cell_type": "markdown",
      "metadata": {
        "id": "SQQ8drzmP3n7"
      },
      "source": [
        "# <a id=\"sec1\">1. Dataset: Fashion-MNIST</a>"
      ]
    },
    {
      "cell_type": "markdown",
      "metadata": {
        "id": "omJ3LjMEP3n7"
      },
      "source": [
        "[Fashion-MNIST](https://github.com/zalandoresearch/fashion-mnist) is a dataset of Zalando's article images—consisting of a training set of 60,000 examples and a test set of 10,000 examples. Each example is a 28x28 grayscale image, associated with a label from 10 classes. Fashion-MNIST is a direct drop-in replacement for the original MNIST dataset for benchmarking machine learning algorithms. It shares the same image size and structure of training and testing splits but is more complex.\n",
        "\n",
        "<img src=\"img/fashion-mnist-small.png\">"
      ]
    },
    {
      "cell_type": "code",
      "metadata": {
        "id": "MM3JmdRxP3n7"
      },
      "source": [
        "labels_text = [\"T-shirt/top\", \"Trouser\", \"Pullover\", \"Dress\", \"Coat\", \"Sandal\", \"Shirt\", \"Sneaker\", \"Bag\", \"Ankle boot\"]"
      ],
      "execution_count": null,
      "outputs": []
    },
    {
      "cell_type": "markdown",
      "metadata": {
        "id": "rq-D-8dbP3n7"
      },
      "source": [
        "PyTorch comes with this dataset by default, but we need to download it. We'll then make dataloaders which lazily iterate through the datasets. We'll use a training set and a validation set and greatly reduce their sizes to make this notebook run in a reasonable time."
      ]
    },
    {
      "cell_type": "code",
      "metadata": {
        "colab": {
          "base_uri": "https://localhost:8080/",
          "height": 369,
          "referenced_widgets": [
            "e5e124498d154c6fa955d642779f003a",
            "9c3136b8fc8045ae9e7846f84d95bea1",
            "32f4822843fc42ef87bfdd67527a1876",
            "06874942a9fb486bb737abffbe5f0b2e",
            "d6a6467e6fd74fda8a8ac7da04032172",
            "c0a2eda833df41a0aa0819a233cbc85a",
            "8e9afcc68fa6457bbab241192162e560",
            "eeea58deabfa4ebab4ca0c49c6e82a21",
            "eac8cc1bbc744b0a9120049b66428168",
            "af3b15b9ae0f4116a516ed7bca967b28",
            "5c52e01e3db949318a9ae8574a9d60cf",
            "170cda0567ea456e9ff33fe86d0b17e1",
            "adb153208b7c4e249a43703793d51e90",
            "fd3460e4a8ce45f1abff4e19edbf8330",
            "a246cef9cf10454f82e6706d8e47662c",
            "1bd5394ec8814b2faa13135a732fa4df",
            "c6c25d99606f48649f8f49eb64cb0655",
            "6dd4da96635843ea9f6cae2489a945dd",
            "a5ea0095cfd243dcb73407894de2e9d5",
            "8722f40a326a40bfa27c30d475ca07e6",
            "b4a325283b4e44b9a7c5ffdb8b431df3",
            "5557bb9550354211a3f5ac2e1f78622c",
            "85d700dbf3724100adf66aef148419aa",
            "229584af5b30494b8b4b0b1bdb8933c1",
            "3a100e9edc6841789d1d251c943ae57f",
            "e1fdb27985c54d69b190629a67313b5f",
            "b0601dc31b50440e95a355c9a909b9a1",
            "f62c575d0a024a77a478905cdb703b00",
            "e535152ee6b548058c28c3b827bd9616",
            "3e75432dfc0b44dfbf5e85085b8e8e5e",
            "f38c26f5b86b4b77b60812e955dc5dfa",
            "34dac0a6687d479b9fe6374a58ceb606"
          ]
        },
        "id": "_lkNw0rjP3n8",
        "outputId": "d3e28a6e-437e-481e-ebb6-ebd9b432c27a"
      },
      "source": [
        "import torchvision.transforms as transforms\n",
        "transform = transforms.Compose([transforms.ToTensor(),\n",
        "                                transforms.Normalize((0.5,), (0.5,))])\n",
        "\n",
        "full_trainset = torchvision.datasets.FashionMNIST(root='../data', train=True, download=True, transform=transform)\n",
        "trainset, full_validset = torch.utils.data.random_split(full_trainset, (10000, 50000))\n",
        "validset, _ = torch.utils.data.random_split(full_validset, (1000, 49000))\n",
        "\n",
        "trainloader = torch.utils.data.DataLoader(trainset, batch_size=4, shuffle=True, num_workers=2)\n",
        "validloader = torch.utils.data.DataLoader(validset, batch_size=4, shuffle=False, num_workers=2)"
      ],
      "execution_count": null,
      "outputs": [
        {
          "output_type": "stream",
          "text": [
            "Downloading http://fashion-mnist.s3-website.eu-central-1.amazonaws.com/train-images-idx3-ubyte.gz to ../data/FashionMNIST/raw/train-images-idx3-ubyte.gz\n"
          ],
          "name": "stdout"
        },
        {
          "output_type": "display_data",
          "data": {
            "application/vnd.jupyter.widget-view+json": {
              "model_id": "e5e124498d154c6fa955d642779f003a",
              "version_minor": 0,
              "version_major": 2
            },
            "text/plain": [
              "HBox(children=(FloatProgress(value=1.0, bar_style='info', max=1.0), HTML(value='')))"
            ]
          },
          "metadata": {
            "tags": []
          }
        },
        {
          "output_type": "stream",
          "text": [
            "Extracting ../data/FashionMNIST/raw/train-images-idx3-ubyte.gz to ../data/FashionMNIST/raw\n",
            "Downloading http://fashion-mnist.s3-website.eu-central-1.amazonaws.com/train-labels-idx1-ubyte.gz to ../data/FashionMNIST/raw/train-labels-idx1-ubyte.gz\n"
          ],
          "name": "stdout"
        },
        {
          "output_type": "display_data",
          "data": {
            "application/vnd.jupyter.widget-view+json": {
              "model_id": "eac8cc1bbc744b0a9120049b66428168",
              "version_minor": 0,
              "version_major": 2
            },
            "text/plain": [
              "HBox(children=(FloatProgress(value=1.0, bar_style='info', max=1.0), HTML(value='')))"
            ]
          },
          "metadata": {
            "tags": []
          }
        },
        {
          "output_type": "stream",
          "text": [
            "Extracting ../data/FashionMNIST/raw/train-labels-idx1-ubyte.gz to ../data/FashionMNIST/raw\n",
            "Downloading http://fashion-mnist.s3-website.eu-central-1.amazonaws.com/t10k-images-idx3-ubyte.gz to ../data/FashionMNIST/raw/t10k-images-idx3-ubyte.gz\n"
          ],
          "name": "stdout"
        },
        {
          "output_type": "display_data",
          "data": {
            "application/vnd.jupyter.widget-view+json": {
              "model_id": "c6c25d99606f48649f8f49eb64cb0655",
              "version_minor": 0,
              "version_major": 2
            },
            "text/plain": [
              "HBox(children=(FloatProgress(value=1.0, bar_style='info', max=1.0), HTML(value='')))"
            ]
          },
          "metadata": {
            "tags": []
          }
        },
        {
          "output_type": "stream",
          "text": [
            "Extracting ../data/FashionMNIST/raw/t10k-images-idx3-ubyte.gz to ../data/FashionMNIST/raw\n",
            "Downloading http://fashion-mnist.s3-website.eu-central-1.amazonaws.com/t10k-labels-idx1-ubyte.gz to ../data/FashionMNIST/raw/t10k-labels-idx1-ubyte.gz\n"
          ],
          "name": "stdout"
        },
        {
          "output_type": "display_data",
          "data": {
            "application/vnd.jupyter.widget-view+json": {
              "model_id": "3a100e9edc6841789d1d251c943ae57f",
              "version_minor": 0,
              "version_major": 2
            },
            "text/plain": [
              "HBox(children=(FloatProgress(value=1.0, bar_style='info', max=1.0), HTML(value='')))"
            ]
          },
          "metadata": {
            "tags": []
          }
        },
        {
          "output_type": "stream",
          "text": [
            "Extracting ../data/FashionMNIST/raw/t10k-labels-idx1-ubyte.gz to ../data/FashionMNIST/raw\n",
            "Processing...\n"
          ],
          "name": "stdout"
        },
        {
          "output_type": "stream",
          "text": [
            "/usr/local/lib/python3.6/dist-packages/torchvision/datasets/mnist.py:480: UserWarning: The given NumPy array is not writeable, and PyTorch does not support non-writeable tensors. This means you can write to the underlying (supposedly non-writeable) NumPy array using the tensor. You may want to copy the array to protect its data or make it writeable before converting it to a tensor. This type of warning will be suppressed for the rest of this program. (Triggered internally at  /pytorch/torch/csrc/utils/tensor_numpy.cpp:141.)\n",
            "  return torch.from_numpy(parsed.astype(m[2], copy=False)).view(*s)\n"
          ],
          "name": "stderr"
        },
        {
          "output_type": "stream",
          "text": [
            "Done!\n"
          ],
          "name": "stdout"
        }
      ]
    },
    {
      "cell_type": "markdown",
      "metadata": {
        "id": "wlMWsOJpP3n8"
      },
      "source": [
        "The test data should also be downloaded. We'll use it at the very end of this notebook to test our model."
      ]
    },
    {
      "cell_type": "code",
      "metadata": {
        "id": "bOuMK6EHP3n8"
      },
      "source": [
        "testset = torchvision.datasets.FashionMNIST(root='../data', train=False, download=True, transform=transform)"
      ],
      "execution_count": null,
      "outputs": []
    },
    {
      "cell_type": "markdown",
      "metadata": {
        "id": "D1BcLyscP3n8"
      },
      "source": [
        "<div class=\"alert alert-success\">\n",
        "Exercise 2:\n",
        "Download the Fashion-MNIST dataset and run the following code.\n",
        "    \n",
        "+ Why are there 4 images in our list?\n",
        "+ Why does the list of images change every time we run the code?\n",
        "\n",
        "</div>"
      ]
    },
    {
      "cell_type": "code",
      "metadata": {
        "colab": {
          "base_uri": "https://localhost:8080/",
          "height": 264
        },
        "id": "8II21fF2P3n8",
        "outputId": "15cbf99f-3e02-49b3-9ec0-56a628d80f66"
      },
      "source": [
        "# get the first batch of images and labels\n",
        "dataiter = iter(trainloader)\n",
        "images, labels = dataiter.next()\n",
        "\n",
        "plt.figure(figsize=(4,4))\n",
        "for i in range(len(images)):\n",
        "    l = labels[i].numpy()\n",
        "    plt.subplot(2, 2, i+1)\n",
        "    plt.title('%d: %s' % (l, labels_text[l]))\n",
        "    plt.imshow(images[i].numpy()[0], cmap='Greys')\n",
        "    plt.axis('off')"
      ],
      "execution_count": 8,
      "outputs": [
        {
          "output_type": "display_data",
          "data": {
            "image/png": "[encoded data removed]",
            "text/plain": [
              "<Figure size 288x288 with 4 Axes>"
            ]
          },
          "metadata": {
            "tags": [],
            "needs_background": "light"
          }
        }
      ]
    },
    {
      "cell_type": "markdown",
      "metadata": {
        "id": "cW783OLxP3n8"
      },
      "source": [
        "For the rest of today, we'll focus on creating a deep neural network that accurately classifies these images. This will highlight one application of deep learning, image processing, which has been highly successful. In upcoming classes, we'll see other examples of deep learning (GANs, LSTMs) which have different architectures and training rules. However, the basic principles remain the same!"
      ]
    },
    {
      "cell_type": "markdown",
      "metadata": {
        "id": "fZ_pTJ2tP3n8"
      },
      "source": [
        "# <a id=\"sec2\">2. ANNs in Layers</a>"
      ]
    },
    {
      "cell_type": "markdown",
      "metadata": {
        "id": "AHJkFc1EP3n8"
      },
      "source": [
        "Last class, we looked at individual neurons organized in networks like this:\n",
        "\n",
        "<img src=\"img/nn_fc.png\" width=\"60%\">\n",
        "\n",
        "These two hidden layers are called \"Fully Connected layers\" because every neuron of these layers is connected to every neuron of the previous layer."
      ]
    },
    {
      "cell_type": "markdown",
      "metadata": {
        "id": "sy-Co-M8P3n8"
      },
      "source": [
        "In PyTorch, Fully Connected layers are represented with the `torch.nn.Linear` function. The documentation is [here](https://pytorch.org/docs/stable/nn.html?highlight=torch%20nn%20linear#torch.nn.Linear) or we can ask Jupyter:"
      ]
    },
    {
      "cell_type": "code",
      "metadata": {
        "id": "5bBO4eJ9P3n8",
        "colab": {
          "base_uri": "https://localhost:8080/"
        },
        "outputId": "143faaa4-c2df-4a61-9e8a-0b5f0b0476b9"
      },
      "source": [
        "help(torch.nn.Linear)"
      ],
      "execution_count": 9,
      "outputs": [
        {
          "output_type": "stream",
          "text": [
            "Help on class Linear in module torch.nn.modules.linear:\n",
            "\n",
            "class Linear(torch.nn.modules.module.Module)\n",
            " |  Applies a linear transformation to the incoming data: :math:`y = xA^T + b`\n",
            " |  \n",
            " |  This module supports :ref:`TensorFloat32<tf32_on_ampere>`.\n",
            " |  \n",
            " |  Args:\n",
            " |      in_features: size of each input sample\n",
            " |      out_features: size of each output sample\n",
            " |      bias: If set to ``False``, the layer will not learn an additive bias.\n",
            " |          Default: ``True``\n",
            " |  \n",
            " |  Shape:\n",
            " |      - Input: :math:`(N, *, H_{in})` where :math:`*` means any number of\n",
            " |        additional dimensions and :math:`H_{in} = \\text{in\\_features}`\n",
            " |      - Output: :math:`(N, *, H_{out})` where all but the last dimension\n",
            " |        are the same shape as the input and :math:`H_{out} = \\text{out\\_features}`.\n",
            " |  \n",
            " |  Attributes:\n",
            " |      weight: the learnable weights of the module of shape\n",
            " |          :math:`(\\text{out\\_features}, \\text{in\\_features})`. The values are\n",
            " |          initialized from :math:`\\mathcal{U}(-\\sqrt{k}, \\sqrt{k})`, where\n",
            " |          :math:`k = \\frac{1}{\\text{in\\_features}}`\n",
            " |      bias:   the learnable bias of the module of shape :math:`(\\text{out\\_features})`.\n",
            " |              If :attr:`bias` is ``True``, the values are initialized from\n",
            " |              :math:`\\mathcal{U}(-\\sqrt{k}, \\sqrt{k})` where\n",
            " |              :math:`k = \\frac{1}{\\text{in\\_features}}`\n",
            " |  \n",
            " |  Examples::\n",
            " |  \n",
            " |      >>> m = nn.Linear(20, 30)\n",
            " |      >>> input = torch.randn(128, 20)\n",
            " |      >>> output = m(input)\n",
            " |      >>> print(output.size())\n",
            " |      torch.Size([128, 30])\n",
            " |  \n",
            " |  Method resolution order:\n",
            " |      Linear\n",
            " |      torch.nn.modules.module.Module\n",
            " |      builtins.object\n",
            " |  \n",
            " |  Methods defined here:\n",
            " |  \n",
            " |  __init__(self, in_features:int, out_features:int, bias:bool=True) -> None\n",
            " |      Initializes internal Module state, shared by both nn.Module and ScriptModule.\n",
            " |  \n",
            " |  extra_repr(self) -> str\n",
            " |      Set the extra representation of the module\n",
            " |      \n",
            " |      To print customized extra information, you should re-implement\n",
            " |      this method in your own modules. Both single-line and multi-line\n",
            " |      strings are acceptable.\n",
            " |  \n",
            " |  forward(self, input:torch.Tensor) -> torch.Tensor\n",
            " |      Defines the computation performed at every call.\n",
            " |      \n",
            " |      Should be overridden by all subclasses.\n",
            " |      \n",
            " |      .. note::\n",
            " |          Although the recipe for forward pass needs to be defined within\n",
            " |          this function, one should call the :class:`Module` instance afterwards\n",
            " |          instead of this since the former takes care of running the\n",
            " |          registered hooks while the latter silently ignores them.\n",
            " |  \n",
            " |  reset_parameters(self) -> None\n",
            " |  \n",
            " |  ----------------------------------------------------------------------\n",
            " |  Data and other attributes defined here:\n",
            " |  \n",
            " |  __annotations__ = {'in_features': <class 'int'>, 'out_features': <clas...\n",
            " |  \n",
            " |  __constants__ = ['in_features', 'out_features']\n",
            " |  \n",
            " |  ----------------------------------------------------------------------\n",
            " |  Methods inherited from torch.nn.modules.module.Module:\n",
            " |  \n",
            " |  __call__ = _call_impl(self, *input, **kwargs)\n",
            " |  \n",
            " |  __delattr__(self, name)\n",
            " |      Implement delattr(self, name).\n",
            " |  \n",
            " |  __dir__(self)\n",
            " |      __dir__() -> list\n",
            " |      default dir() implementation\n",
            " |  \n",
            " |  __getattr__(self, name:str) -> Union[torch.Tensor, _ForwardRef('Module')]\n",
            " |  \n",
            " |  __repr__(self)\n",
            " |      Return repr(self).\n",
            " |  \n",
            " |  __setattr__(self, name:str, value:Union[torch.Tensor, _ForwardRef('Module')]) -> None\n",
            " |      Implement setattr(self, name, value).\n",
            " |  \n",
            " |  __setstate__(self, state)\n",
            " |  \n",
            " |  add_module(self, name:str, module:Union[_ForwardRef('Module'), NoneType]) -> None\n",
            " |      Adds a child module to the current module.\n",
            " |      \n",
            " |      The module can be accessed as an attribute using the given name.\n",
            " |      \n",
            " |      Args:\n",
            " |          name (string): name of the child module. The child module can be\n",
            " |              accessed from this module using the given name\n",
            " |          module (Module): child module to be added to the module.\n",
            " |  \n",
            " |  apply(self:~T, fn:Callable[[_ForwardRef('Module')], NoneType]) -> ~T\n",
            " |      Applies ``fn`` recursively to every submodule (as returned by ``.children()``)\n",
            " |      as well as self. Typical use includes initializing the parameters of a model\n",
            " |      (see also :ref:`nn-init-doc`).\n",
            " |      \n",
            " |      Args:\n",
            " |          fn (:class:`Module` -> None): function to be applied to each submodule\n",
            " |      \n",
            " |      Returns:\n",
            " |          Module: self\n",
            " |      \n",
            " |      Example::\n",
            " |      \n",
            " |          >>> @torch.no_grad()\n",
            " |          >>> def init_weights(m):\n",
            " |          >>>     print(m)\n",
            " |          >>>     if type(m) == nn.Linear:\n",
            " |          >>>         m.weight.fill_(1.0)\n",
            " |          >>>         print(m.weight)\n",
            " |          >>> net = nn.Sequential(nn.Linear(2, 2), nn.Linear(2, 2))\n",
            " |          >>> net.apply(init_weights)\n",
            " |          Linear(in_features=2, out_features=2, bias=True)\n",
            " |          Parameter containing:\n",
            " |          tensor([[ 1.,  1.],\n",
            " |                  [ 1.,  1.]])\n",
            " |          Linear(in_features=2, out_features=2, bias=True)\n",
            " |          Parameter containing:\n",
            " |          tensor([[ 1.,  1.],\n",
            " |                  [ 1.,  1.]])\n",
            " |          Sequential(\n",
            " |            (0): Linear(in_features=2, out_features=2, bias=True)\n",
            " |            (1): Linear(in_features=2, out_features=2, bias=True)\n",
            " |          )\n",
            " |          Sequential(\n",
            " |            (0): Linear(in_features=2, out_features=2, bias=True)\n",
            " |            (1): Linear(in_features=2, out_features=2, bias=True)\n",
            " |          )\n",
            " |  \n",
            " |  bfloat16(self:~T) -> ~T\n",
            " |      Casts all floating point parameters and buffers to ``bfloat16`` datatype.\n",
            " |      \n",
            " |      Returns:\n",
            " |          Module: self\n",
            " |  \n",
            " |  buffers(self, recurse:bool=True) -> Iterator[torch.Tensor]\n",
            " |      Returns an iterator over module buffers.\n",
            " |      \n",
            " |      Args:\n",
            " |          recurse (bool): if True, then yields buffers of this module\n",
            " |              and all submodules. Otherwise, yields only buffers that\n",
            " |              are direct members of this module.\n",
            " |      \n",
            " |      Yields:\n",
            " |          torch.Tensor: module buffer\n",
            " |      \n",
            " |      Example::\n",
            " |      \n",
            " |          >>> for buf in model.buffers():\n",
            " |          >>>     print(type(buf), buf.size())\n",
            " |          <class 'torch.Tensor'> (20L,)\n",
            " |          <class 'torch.Tensor'> (20L, 1L, 5L, 5L)\n",
            " |  \n",
            " |  children(self) -> Iterator[_ForwardRef('Module')]\n",
            " |      Returns an iterator over immediate children modules.\n",
            " |      \n",
            " |      Yields:\n",
            " |          Module: a child module\n",
            " |  \n",
            " |  cpu(self:~T) -> ~T\n",
            " |      Moves all model parameters and buffers to the CPU.\n",
            " |      \n",
            " |      Returns:\n",
            " |          Module: self\n",
            " |  \n",
            " |  cuda(self:~T, device:Union[int, torch.device, NoneType]=None) -> ~T\n",
            " |      Moves all model parameters and buffers to the GPU.\n",
            " |      \n",
            " |      This also makes associated parameters and buffers different objects. So\n",
            " |      it should be called before constructing optimizer if the module will\n",
            " |      live on GPU while being optimized.\n",
            " |      \n",
            " |      Arguments:\n",
            " |          device (int, optional): if specified, all parameters will be\n",
            " |              copied to that device\n",
            " |      \n",
            " |      Returns:\n",
            " |          Module: self\n",
            " |  \n",
            " |  double(self:~T) -> ~T\n",
            " |      Casts all floating point parameters and buffers to ``double`` datatype.\n",
            " |      \n",
            " |      Returns:\n",
            " |          Module: self\n",
            " |  \n",
            " |  eval(self:~T) -> ~T\n",
            " |      Sets the module in evaluation mode.\n",
            " |      \n",
            " |      This has any effect only on certain modules. See documentations of\n",
            " |      particular modules for details of their behaviors in training/evaluation\n",
            " |      mode, if they are affected, e.g. :class:`Dropout`, :class:`BatchNorm`,\n",
            " |      etc.\n",
            " |      \n",
            " |      This is equivalent with :meth:`self.train(False) <torch.nn.Module.train>`.\n",
            " |      \n",
            " |      Returns:\n",
            " |          Module: self\n",
            " |  \n",
            " |  float(self:~T) -> ~T\n",
            " |      Casts all floating point parameters and buffers to float datatype.\n",
            " |      \n",
            " |      Returns:\n",
            " |          Module: self\n",
            " |  \n",
            " |  half(self:~T) -> ~T\n",
            " |      Casts all floating point parameters and buffers to ``half`` datatype.\n",
            " |      \n",
            " |      Returns:\n",
            " |          Module: self\n",
            " |  \n",
            " |  load_state_dict(self, state_dict:Dict[str, torch.Tensor], strict:bool=True)\n",
            " |      Copies parameters and buffers from :attr:`state_dict` into\n",
            " |      this module and its descendants. If :attr:`strict` is ``True``, then\n",
            " |      the keys of :attr:`state_dict` must exactly match the keys returned\n",
            " |      by this module's :meth:`~torch.nn.Module.state_dict` function.\n",
            " |      \n",
            " |      Arguments:\n",
            " |          state_dict (dict): a dict containing parameters and\n",
            " |              persistent buffers.\n",
            " |          strict (bool, optional): whether to strictly enforce that the keys\n",
            " |              in :attr:`state_dict` match the keys returned by this module's\n",
            " |              :meth:`~torch.nn.Module.state_dict` function. Default: ``True``\n",
            " |      \n",
            " |      Returns:\n",
            " |          ``NamedTuple`` with ``missing_keys`` and ``unexpected_keys`` fields:\n",
            " |              * **missing_keys** is a list of str containing the missing keys\n",
            " |              * **unexpected_keys** is a list of str containing the unexpected keys\n",
            " |  \n",
            " |  modules(self) -> Iterator[_ForwardRef('Module')]\n",
            " |      Returns an iterator over all modules in the network.\n",
            " |      \n",
            " |      Yields:\n",
            " |          Module: a module in the network\n",
            " |      \n",
            " |      Note:\n",
            " |          Duplicate modules are returned only once. In the following\n",
            " |          example, ``l`` will be returned only once.\n",
            " |      \n",
            " |      Example::\n",
            " |      \n",
            " |          >>> l = nn.Linear(2, 2)\n",
            " |          >>> net = nn.Sequential(l, l)\n",
            " |          >>> for idx, m in enumerate(net.modules()):\n",
            " |                  print(idx, '->', m)\n",
            " |      \n",
            " |          0 -> Sequential(\n",
            " |            (0): Linear(in_features=2, out_features=2, bias=True)\n",
            " |            (1): Linear(in_features=2, out_features=2, bias=True)\n",
            " |          )\n",
            " |          1 -> Linear(in_features=2, out_features=2, bias=True)\n",
            " |  \n",
            " |  named_buffers(self, prefix:str='', recurse:bool=True) -> Iterator[Tuple[str, torch.Tensor]]\n",
            " |      Returns an iterator over module buffers, yielding both the\n",
            " |      name of the buffer as well as the buffer itself.\n",
            " |      \n",
            " |      Args:\n",
            " |          prefix (str): prefix to prepend to all buffer names.\n",
            " |          recurse (bool): if True, then yields buffers of this module\n",
            " |              and all submodules. Otherwise, yields only buffers that\n",
            " |              are direct members of this module.\n",
            " |      \n",
            " |      Yields:\n",
            " |          (string, torch.Tensor): Tuple containing the name and buffer\n",
            " |      \n",
            " |      Example::\n",
            " |      \n",
            " |          >>> for name, buf in self.named_buffers():\n",
            " |          >>>    if name in ['running_var']:\n",
            " |          >>>        print(buf.size())\n",
            " |  \n",
            " |  named_children(self) -> Iterator[Tuple[str, _ForwardRef('Module')]]\n",
            " |      Returns an iterator over immediate children modules, yielding both\n",
            " |      the name of the module as well as the module itself.\n",
            " |      \n",
            " |      Yields:\n",
            " |          (string, Module): Tuple containing a name and child module\n",
            " |      \n",
            " |      Example::\n",
            " |      \n",
            " |          >>> for name, module in model.named_children():\n",
            " |          >>>     if name in ['conv4', 'conv5']:\n",
            " |          >>>         print(module)\n",
            " |  \n",
            " |  named_modules(self, memo:Union[Set[_ForwardRef('Module')], NoneType]=None, prefix:str='')\n",
            " |      Returns an iterator over all modules in the network, yielding\n",
            " |      both the name of the module as well as the module itself.\n",
            " |      \n",
            " |      Yields:\n",
            " |          (string, Module): Tuple of name and module\n",
            " |      \n",
            " |      Note:\n",
            " |          Duplicate modules are returned only once. In the following\n",
            " |          example, ``l`` will be returned only once.\n",
            " |      \n",
            " |      Example::\n",
            " |      \n",
            " |          >>> l = nn.Linear(2, 2)\n",
            " |          >>> net = nn.Sequential(l, l)\n",
            " |          >>> for idx, m in enumerate(net.named_modules()):\n",
            " |                  print(idx, '->', m)\n",
            " |      \n",
            " |          0 -> ('', Sequential(\n",
            " |            (0): Linear(in_features=2, out_features=2, bias=True)\n",
            " |            (1): Linear(in_features=2, out_features=2, bias=True)\n",
            " |          ))\n",
            " |          1 -> ('0', Linear(in_features=2, out_features=2, bias=True))\n",
            " |  \n",
            " |  named_parameters(self, prefix:str='', recurse:bool=True) -> Iterator[Tuple[str, torch.Tensor]]\n",
            " |      Returns an iterator over module parameters, yielding both the\n",
            " |      name of the parameter as well as the parameter itself.\n",
            " |      \n",
            " |      Args:\n",
            " |          prefix (str): prefix to prepend to all parameter names.\n",
            " |          recurse (bool): if True, then yields parameters of this module\n",
            " |              and all submodules. Otherwise, yields only parameters that\n",
            " |              are direct members of this module.\n",
            " |      \n",
            " |      Yields:\n",
            " |          (string, Parameter): Tuple containing the name and parameter\n",
            " |      \n",
            " |      Example::\n",
            " |      \n",
            " |          >>> for name, param in self.named_parameters():\n",
            " |          >>>    if name in ['bias']:\n",
            " |          >>>        print(param.size())\n",
            " |  \n",
            " |  parameters(self, recurse:bool=True) -> Iterator[torch.nn.parameter.Parameter]\n",
            " |      Returns an iterator over module parameters.\n",
            " |      \n",
            " |      This is typically passed to an optimizer.\n",
            " |      \n",
            " |      Args:\n",
            " |          recurse (bool): if True, then yields parameters of this module\n",
            " |              and all submodules. Otherwise, yields only parameters that\n",
            " |              are direct members of this module.\n",
            " |      \n",
            " |      Yields:\n",
            " |          Parameter: module parameter\n",
            " |      \n",
            " |      Example::\n",
            " |      \n",
            " |          >>> for param in model.parameters():\n",
            " |          >>>     print(type(param), param.size())\n",
            " |          <class 'torch.Tensor'> (20L,)\n",
            " |          <class 'torch.Tensor'> (20L, 1L, 5L, 5L)\n",
            " |  \n",
            " |  register_backward_hook(self, hook:Callable[[_ForwardRef('Module'), Union[Tuple[torch.Tensor, ...], torch.Tensor], Union[Tuple[torch.Tensor, ...], torch.Tensor]], Union[NoneType, torch.Tensor]]) -> torch.utils.hooks.RemovableHandle\n",
            " |      Registers a backward hook on the module.\n",
            " |      \n",
            " |      .. warning ::\n",
            " |      \n",
            " |          The current implementation will not have the presented behavior\n",
            " |          for complex :class:`Module` that perform many operations.\n",
            " |          In some failure cases, :attr:`grad_input` and :attr:`grad_output` will only\n",
            " |          contain the gradients for a subset of the inputs and outputs.\n",
            " |          For such :class:`Module`, you should use :func:`torch.Tensor.register_hook`\n",
            " |          directly on a specific input or output to get the required gradients.\n",
            " |      \n",
            " |      The hook will be called every time the gradients with respect to module\n",
            " |      inputs are computed. The hook should have the following signature::\n",
            " |      \n",
            " |          hook(module, grad_input, grad_output) -> Tensor or None\n",
            " |      \n",
            " |      The :attr:`grad_input` and :attr:`grad_output` may be tuples if the\n",
            " |      module has multiple inputs or outputs. The hook should not modify its\n",
            " |      arguments, but it can optionally return a new gradient with respect to\n",
            " |      input that will be used in place of :attr:`grad_input` in subsequent\n",
            " |      computations. :attr:`grad_input` will only correspond to the inputs given\n",
            " |      as positional arguments.\n",
            " |      \n",
            " |      Returns:\n",
            " |          :class:`torch.utils.hooks.RemovableHandle`:\n",
            " |              a handle that can be used to remove the added hook by calling\n",
            " |              ``handle.remove()``\n",
            " |  \n",
            " |  register_buffer(self, name:str, tensor:Union[torch.Tensor, NoneType], persistent:bool=True) -> None\n",
            " |      Adds a buffer to the module.\n",
            " |      \n",
            " |      This is typically used to register a buffer that should not to be\n",
            " |      considered a model parameter. For example, BatchNorm's ``running_mean``\n",
            " |      is not a parameter, but is part of the module's state. Buffers, by\n",
            " |      default, are persistent and will be saved alongside parameters. This\n",
            " |      behavior can be changed by setting :attr:`persistent` to ``False``. The\n",
            " |      only difference between a persistent buffer and a non-persistent buffer\n",
            " |      is that the latter will not be a part of this module's\n",
            " |      :attr:`state_dict`.\n",
            " |      \n",
            " |      Buffers can be accessed as attributes using given names.\n",
            " |      \n",
            " |      Args:\n",
            " |          name (string): name of the buffer. The buffer can be accessed\n",
            " |              from this module using the given name\n",
            " |          tensor (Tensor): buffer to be registered.\n",
            " |          persistent (bool): whether the buffer is part of this module's\n",
            " |              :attr:`state_dict`.\n",
            " |      \n",
            " |      Example::\n",
            " |      \n",
            " |          >>> self.register_buffer('running_mean', torch.zeros(num_features))\n",
            " |  \n",
            " |  register_forward_hook(self, hook:Callable[..., NoneType]) -> torch.utils.hooks.RemovableHandle\n",
            " |      Registers a forward hook on the module.\n",
            " |      \n",
            " |      The hook will be called every time after :func:`forward` has computed an output.\n",
            " |      It should have the following signature::\n",
            " |      \n",
            " |          hook(module, input, output) -> None or modified output\n",
            " |      \n",
            " |      The input contains only the positional arguments given to the module.\n",
            " |      Keyword arguments won't be passed to the hooks and only to the ``forward``.\n",
            " |      The hook can modify the output. It can modify the input inplace but\n",
            " |      it will not have effect on forward since this is called after\n",
            " |      :func:`forward` is called.\n",
            " |      \n",
            " |      Returns:\n",
            " |          :class:`torch.utils.hooks.RemovableHandle`:\n",
            " |              a handle that can be used to remove the added hook by calling\n",
            " |              ``handle.remove()``\n",
            " |  \n",
            " |  register_forward_pre_hook(self, hook:Callable[..., NoneType]) -> torch.utils.hooks.RemovableHandle\n",
            " |      Registers a forward pre-hook on the module.\n",
            " |      \n",
            " |      The hook will be called every time before :func:`forward` is invoked.\n",
            " |      It should have the following signature::\n",
            " |      \n",
            " |          hook(module, input) -> None or modified input\n",
            " |      \n",
            " |      The input contains only the positional arguments given to the module.\n",
            " |      Keyword arguments won't be passed to the hooks and only to the ``forward``.\n",
            " |      The hook can modify the input. User can either return a tuple or a\n",
            " |      single modified value in the hook. We will wrap the value into a tuple\n",
            " |      if a single value is returned(unless that value is already a tuple).\n",
            " |      \n",
            " |      Returns:\n",
            " |          :class:`torch.utils.hooks.RemovableHandle`:\n",
            " |              a handle that can be used to remove the added hook by calling\n",
            " |              ``handle.remove()``\n",
            " |  \n",
            " |  register_parameter(self, name:str, param:Union[torch.nn.parameter.Parameter, NoneType]) -> None\n",
            " |      Adds a parameter to the module.\n",
            " |      \n",
            " |      The parameter can be accessed as an attribute using given name.\n",
            " |      \n",
            " |      Args:\n",
            " |          name (string): name of the parameter. The parameter can be accessed\n",
            " |              from this module using the given name\n",
            " |          param (Parameter): parameter to be added to the module.\n",
            " |  \n",
            " |  requires_grad_(self:~T, requires_grad:bool=True) -> ~T\n",
            " |      Change if autograd should record operations on parameters in this\n",
            " |      module.\n",
            " |      \n",
            " |      This method sets the parameters' :attr:`requires_grad` attributes\n",
            " |      in-place.\n",
            " |      \n",
            " |      This method is helpful for freezing part of the module for finetuning\n",
            " |      or training parts of a model individually (e.g., GAN training).\n",
            " |      \n",
            " |      Args:\n",
            " |          requires_grad (bool): whether autograd should record operations on\n",
            " |                                parameters in this module. Default: ``True``.\n",
            " |      \n",
            " |      Returns:\n",
            " |          Module: self\n",
            " |  \n",
            " |  share_memory(self:~T) -> ~T\n",
            " |  \n",
            " |  state_dict(self, destination=None, prefix='', keep_vars=False)\n",
            " |      Returns a dictionary containing a whole state of the module.\n",
            " |      \n",
            " |      Both parameters and persistent buffers (e.g. running averages) are\n",
            " |      included. Keys are corresponding parameter and buffer names.\n",
            " |      \n",
            " |      Returns:\n",
            " |          dict:\n",
            " |              a dictionary containing a whole state of the module\n",
            " |      \n",
            " |      Example::\n",
            " |      \n",
            " |          >>> module.state_dict().keys()\n",
            " |          ['bias', 'weight']\n",
            " |  \n",
            " |  to(self, *args, **kwargs)\n",
            " |      Moves and/or casts the parameters and buffers.\n",
            " |      \n",
            " |      This can be called as\n",
            " |      \n",
            " |      .. function:: to(device=None, dtype=None, non_blocking=False)\n",
            " |      \n",
            " |      .. function:: to(dtype, non_blocking=False)\n",
            " |      \n",
            " |      .. function:: to(tensor, non_blocking=False)\n",
            " |      \n",
            " |      .. function:: to(memory_format=torch.channels_last)\n",
            " |      \n",
            " |      Its signature is similar to :meth:`torch.Tensor.to`, but only accepts\n",
            " |      floating point desired :attr:`dtype` s. In addition, this method will\n",
            " |      only cast the floating point parameters and buffers to :attr:`dtype`\n",
            " |      (if given). The integral parameters and buffers will be moved\n",
            " |      :attr:`device`, if that is given, but with dtypes unchanged. When\n",
            " |      :attr:`non_blocking` is set, it tries to convert/move asynchronously\n",
            " |      with respect to the host if possible, e.g., moving CPU Tensors with\n",
            " |      pinned memory to CUDA devices.\n",
            " |      \n",
            " |      See below for examples.\n",
            " |      \n",
            " |      .. note::\n",
            " |          This method modifies the module in-place.\n",
            " |      \n",
            " |      Args:\n",
            " |          device (:class:`torch.device`): the desired device of the parameters\n",
            " |              and buffers in this module\n",
            " |          dtype (:class:`torch.dtype`): the desired floating point type of\n",
            " |              the floating point parameters and buffers in this module\n",
            " |          tensor (torch.Tensor): Tensor whose dtype and device are the desired\n",
            " |              dtype and device for all parameters and buffers in this module\n",
            " |          memory_format (:class:`torch.memory_format`): the desired memory\n",
            " |              format for 4D parameters and buffers in this module (keyword\n",
            " |              only argument)\n",
            " |      \n",
            " |      Returns:\n",
            " |          Module: self\n",
            " |      \n",
            " |      Example::\n",
            " |      \n",
            " |          >>> linear = nn.Linear(2, 2)\n",
            " |          >>> linear.weight\n",
            " |          Parameter containing:\n",
            " |          tensor([[ 0.1913, -0.3420],\n",
            " |                  [-0.5113, -0.2325]])\n",
            " |          >>> linear.to(torch.double)\n",
            " |          Linear(in_features=2, out_features=2, bias=True)\n",
            " |          >>> linear.weight\n",
            " |          Parameter containing:\n",
            " |          tensor([[ 0.1913, -0.3420],\n",
            " |                  [-0.5113, -0.2325]], dtype=torch.float64)\n",
            " |          >>> gpu1 = torch.device(\"cuda:1\")\n",
            " |          >>> linear.to(gpu1, dtype=torch.half, non_blocking=True)\n",
            " |          Linear(in_features=2, out_features=2, bias=True)\n",
            " |          >>> linear.weight\n",
            " |          Parameter containing:\n",
            " |          tensor([[ 0.1914, -0.3420],\n",
            " |                  [-0.5112, -0.2324]], dtype=torch.float16, device='cuda:1')\n",
            " |          >>> cpu = torch.device(\"cpu\")\n",
            " |          >>> linear.to(cpu)\n",
            " |          Linear(in_features=2, out_features=2, bias=True)\n",
            " |          >>> linear.weight\n",
            " |          Parameter containing:\n",
            " |          tensor([[ 0.1914, -0.3420],\n",
            " |                  [-0.5112, -0.2324]], dtype=torch.float16)\n",
            " |  \n",
            " |  train(self:~T, mode:bool=True) -> ~T\n",
            " |      Sets the module in training mode.\n",
            " |      \n",
            " |      This has any effect only on certain modules. See documentations of\n",
            " |      particular modules for details of their behaviors in training/evaluation\n",
            " |      mode, if they are affected, e.g. :class:`Dropout`, :class:`BatchNorm`,\n",
            " |      etc.\n",
            " |      \n",
            " |      Args:\n",
            " |          mode (bool): whether to set training mode (``True``) or evaluation\n",
            " |                       mode (``False``). Default: ``True``.\n",
            " |      \n",
            " |      Returns:\n",
            " |          Module: self\n",
            " |  \n",
            " |  type(self:~T, dst_type:Union[torch.dtype, str]) -> ~T\n",
            " |      Casts all parameters and buffers to :attr:`dst_type`.\n",
            " |      \n",
            " |      Arguments:\n",
            " |          dst_type (type or string): the desired type\n",
            " |      \n",
            " |      Returns:\n",
            " |          Module: self\n",
            " |  \n",
            " |  zero_grad(self, set_to_none:bool=False) -> None\n",
            " |      Sets gradients of all model parameters to zero. See similar function\n",
            " |      under :class:`torch.optim.Optimizer` for more context.\n",
            " |      \n",
            " |      Arguments:\n",
            " |          set_to_none (bool): instead of setting to zero, set the grads to None.\n",
            " |              See :meth:`torch.optim.Optimizer.zero_grad` for details.\n",
            " |  \n",
            " |  ----------------------------------------------------------------------\n",
            " |  Data descriptors inherited from torch.nn.modules.module.Module:\n",
            " |  \n",
            " |  __dict__\n",
            " |      dictionary for instance variables (if defined)\n",
            " |  \n",
            " |  __weakref__\n",
            " |      list of weak references to the object (if defined)\n",
            " |  \n",
            " |  ----------------------------------------------------------------------\n",
            " |  Data and other attributes inherited from torch.nn.modules.module.Module:\n",
            " |  \n",
            " |  T_destination = ~T_destination\n",
            " |      Type variable.\n",
            " |      \n",
            " |      Usage::\n",
            " |      \n",
            " |        T = TypeVar('T')  # Can be anything\n",
            " |        A = TypeVar('A', str, bytes)  # Must be str or bytes\n",
            " |      \n",
            " |      Type variables exist primarily for the benefit of static type\n",
            " |      checkers.  They serve as the parameters for generic types as well\n",
            " |      as for generic function definitions.  See class Generic for more\n",
            " |      information on generic types.  Generic functions work as follows:\n",
            " |      \n",
            " |        def repeat(x: T, n: int) -> List[T]:\n",
            " |            '''Return a list containing n references to x.'''\n",
            " |            return [x]*n\n",
            " |      \n",
            " |        def longest(x: A, y: A) -> A:\n",
            " |            '''Return the longest of two strings.'''\n",
            " |            return x if len(x) >= len(y) else y\n",
            " |      \n",
            " |      The latter example's signature is essentially the overloading\n",
            " |      of (str, str) -> str and (bytes, bytes) -> bytes.  Also note\n",
            " |      that if the arguments are instances of some subclass of str,\n",
            " |      the return type is still plain str.\n",
            " |      \n",
            " |      At runtime, isinstance(x, T) and issubclass(C, T) will raise TypeError.\n",
            " |      \n",
            " |      Type variables defined with covariant=True or contravariant=True\n",
            " |      can be used do declare covariant or contravariant generic types.\n",
            " |      See PEP 484 for more details. By default generic types are invariant\n",
            " |      in all type variables.\n",
            " |      \n",
            " |      Type variables can be introspected. e.g.:\n",
            " |      \n",
            " |        T.__name__ == 'T'\n",
            " |        T.__constraints__ == ()\n",
            " |        T.__covariant__ == False\n",
            " |        T.__contravariant__ = False\n",
            " |        A.__constraints__ == (str, bytes)\n",
            " |  \n",
            " |  dump_patches = False\n",
            "\n"
          ],
          "name": "stdout"
        }
      ]
    },
    {
      "cell_type": "markdown",
      "metadata": {
        "id": "ODGFGEuqP3n8"
      },
      "source": [
        "Let's make a single fully connected layer:"
      ]
    },
    {
      "cell_type": "code",
      "metadata": {
        "id": "2c6AOFQjP3n9"
      },
      "source": [
        "from torch import nn\n",
        "fc = nn.Linear(784, 10)"
      ],
      "execution_count": 10,
      "outputs": []
    },
    {
      "cell_type": "markdown",
      "metadata": {
        "id": "iZcaQwdNP3n9"
      },
      "source": [
        "Let's use this layer as a network and construct a forward pass function. Our image data is 28 by 28, but we want it to match the layer dimensions. We'll transform the image from 28 by 28 to 1 by 784, and then pass the image through our fully connected layer."
      ]
    },
    {
      "cell_type": "code",
      "metadata": {
        "id": "oqXciM92P3n9"
      },
      "source": [
        "def forward(x):\n",
        "    x = x.view(-1, 28 * 28) # Transforms from (1, 28, 28) to (1, 784)\n",
        "    x = fc(x) # Goes through fully connected layer\n",
        "    return x # Output, 10 neurons"
      ],
      "execution_count": 11,
      "outputs": []
    },
    {
      "cell_type": "markdown",
      "metadata": {
        "id": "8StkYt-VP3n9"
      },
      "source": [
        "We'll take the maximum output as our label prediction. Let's see how this layer does - remember we haven't trained it, it's completely random."
      ]
    },
    {
      "cell_type": "code",
      "metadata": {
        "id": "tUAe_EIMP3n9",
        "colab": {
          "base_uri": "https://localhost:8080/"
        },
        "outputId": "7c4dce8f-0931-472d-b99e-feb7929d7f1d"
      },
      "source": [
        "for batch in range(3):\n",
        "    images, labels = dataiter.next()\n",
        "    for i in range(len(images)):\n",
        "        outputs = forward(images[i])\n",
        "        h = np.argmax(outputs.detach().numpy())\n",
        "        y = labels[i]\n",
        "        print('True: %d %s, Predicted: %d %s' % (y, labels_text[y], h, labels_text[h]))"
      ],
      "execution_count": 12,
      "outputs": [
        {
          "output_type": "stream",
          "text": [
            "True: 1 Trouser, Predicted: 5 Sandal\n",
            "True: 9 Ankle boot, Predicted: 0 T-shirt/top\n",
            "True: 7 Sneaker, Predicted: 5 Sandal\n",
            "True: 8 Bag, Predicted: 6 Shirt\n",
            "True: 8 Bag, Predicted: 6 Shirt\n",
            "True: 2 Pullover, Predicted: 0 T-shirt/top\n",
            "True: 1 Trouser, Predicted: 6 Shirt\n",
            "True: 7 Sneaker, Predicted: 6 Shirt\n",
            "True: 8 Bag, Predicted: 5 Sandal\n",
            "True: 4 Coat, Predicted: 6 Shirt\n",
            "True: 4 Coat, Predicted: 6 Shirt\n",
            "True: 2 Pullover, Predicted: 5 Sandal\n"
          ],
          "name": "stdout"
        }
      ]
    },
    {
      "cell_type": "markdown",
      "metadata": {
        "id": "eDnxWJJBP3n9"
      },
      "source": [
        "Let's double check that our fully connected layer is simply doing $$y = w^T x + b$$"
      ]
    },
    {
      "cell_type": "code",
      "metadata": {
        "id": "_bTDp5xkP3n9",
        "colab": {
          "base_uri": "https://localhost:8080/"
        },
        "outputId": "074482e9-02e8-43e8-cfa2-9ff73bbb57e5"
      },
      "source": [
        "a = (np.matmul(images[1].view(-1, 784), np.transpose(fc.weight.detach().numpy())) + fc.bias)[0].detach().numpy()\n",
        "b = forward(images[1]).detach().numpy()\n",
        "print('Numpy:\\n', a)\n",
        "print('PyTorch:\\n', b)"
      ],
      "execution_count": 13,
      "outputs": [
        {
          "output_type": "stream",
          "text": [
            "Numpy:\n",
            " [ 0.10245214 -0.40455738  0.09386864 -0.8621081  -0.43173608 -0.42117926\n",
            "  0.30191955 -0.06713557  0.15396713  0.05508018]\n",
            "PyTorch:\n",
            " [[ 0.10245223 -0.40455723  0.09386858 -0.8621082  -0.43173605 -0.4211793\n",
            "   0.3019195  -0.06713563  0.15396711  0.05508024]]\n"
          ],
          "name": "stdout"
        }
      ]
    },
    {
      "cell_type": "code",
      "metadata": {
        "id": "T5M5bmsBP3n9",
        "colab": {
          "base_uri": "https://localhost:8080/"
        },
        "outputId": "1f069d7f-0851-4092-c9a5-c95996faa84c"
      },
      "source": [
        "print(a == b, 'difference: ', np.sum((a-b)**2))"
      ],
      "execution_count": 14,
      "outputs": [
        {
          "output_type": "stream",
          "text": [
            "[[False False False False False False False False False False]] difference:  4.9960036e-14\n"
          ],
          "name": "stdout"
        }
      ]
    },
    {
      "cell_type": "markdown",
      "metadata": {
        "id": "TcftpRDtP3n9"
      },
      "source": [
        "We have some slight errors due to floating point representation differences between PyTorch and numpy, but the calculation is the same!"
      ]
    },
    {
      "cell_type": "markdown",
      "metadata": {
        "id": "fqHNDijqP3n9"
      },
      "source": [
        "<div class=\"alert alert-success\">\n",
        "Exercise 3:\n",
        "    \n",
        "1. The following code produces different predictions every time. Why? Change it so that it always predicts the same response.\n",
        "2. Change the forward pass function to a network with the following fully connected layers: (784, 128), (128, 10). Test this network with random weights on some images.\n",
        "    \n",
        "</div>"
      ]
    },
    {
      "cell_type": "code",
      "metadata": {
        "id": "Zvo0NqGkP3n9",
        "colab": {
          "base_uri": "https://localhost:8080/"
        },
        "outputId": "377cc39e-8d7c-459b-c160-2d8f2197f687"
      },
      "source": [
        "def forward(x):\n",
        "    x = x.view(-1, 28 * 28)\n",
        "    x = nn.Linear(784,10)(x)\n",
        "    return x\n",
        "\n",
        "for i in range(len(images)):\n",
        "    outputs = forward(images[i])\n",
        "    h = np.argmax(outputs.detach().numpy())\n",
        "    y = labels[i]\n",
        "    print('True: %d %s, Predicted: %d %s' % (y, labels_text[y], h, labels_text[h]))"
      ],
      "execution_count": 28,
      "outputs": [
        {
          "output_type": "stream",
          "text": [
            "True: 8 Bag, Predicted: 2 Pullover\n",
            "True: 4 Coat, Predicted: 4 Coat\n",
            "True: 4 Coat, Predicted: 1 Trouser\n",
            "True: 2 Pullover, Predicted: 6 Shirt\n"
          ],
          "name": "stdout"
        }
      ]
    },
    {
      "cell_type": "code",
      "metadata": {
        "id": "7U-8Tdk7P3n-"
      },
      "source": [
        "# %load solutions/ex3_1.py"
      ],
      "execution_count": 27,
      "outputs": []
    },
    {
      "cell_type": "code",
      "metadata": {
        "id": "r-nPkKBpP3n-",
        "colab": {
          "base_uri": "https://localhost:8080/"
        },
        "outputId": "51dc0b6d-cf46-4160-844a-f1a013a3cb19"
      },
      "source": [
        "# %load solutions/ex3_2.py\n",
        "fc1 = nn.Linear(784,128)\n",
        "fc2 = nn.Linear(128,10)\n",
        "\n",
        "def forward(x):\n",
        "  x = x.view(-1, 28 * 28)\n",
        "  x = fc1(x)\n",
        "  x = fc2(x)\n",
        "  return x\n",
        "\n",
        "for i in range(len(images)):\n",
        "    outputs = forward(images[i])\n",
        "    h = np.argmax(outputs.detach().numpy())\n",
        "    y = labels[i]\n",
        "    print('True: %d %s, Predicted: %d %s' % (y, labels_text[y], h, labels_text[h]))"
      ],
      "execution_count": 30,
      "outputs": [
        {
          "output_type": "stream",
          "text": [
            "True: 8 Bag, Predicted: 4 Coat\n",
            "True: 4 Coat, Predicted: 4 Coat\n",
            "True: 4 Coat, Predicted: 6 Shirt\n",
            "True: 2 Pullover, Predicted: 0 T-shirt/top\n"
          ],
          "name": "stdout"
        }
      ]
    },
    {
      "cell_type": "markdown",
      "metadata": {
        "id": "yPoE-3LYP3n-"
      },
      "source": [
        "We'll formalize our neural network functions in a `torch.nn.Module` class which creates the layers when initialized and then calculates the forward pass of the network with the function `forward(x)`."
      ]
    },
    {
      "cell_type": "code",
      "metadata": {
        "id": "LX_8jr9KP3n-"
      },
      "source": [
        "class SimpleNet(nn.Module):\n",
        "    def __init__(self):\n",
        "        super(SimpleNet, self).__init__()\n",
        "        self.fc1 = nn.Linear(784, 120)\n",
        "        self.fc2 = nn.Linear(120, 10)\n",
        "\n",
        "    def forward(self, x):\n",
        "        x = x.view(-1, 784)\n",
        "        x = self.fc1(x)\n",
        "        x = self.fc2(x)\n",
        "        return x\n",
        "net = SimpleNet()"
      ],
      "execution_count": 31,
      "outputs": []
    },
    {
      "cell_type": "markdown",
      "metadata": {
        "id": "mnf1hG-AP3n-"
      },
      "source": [
        "Now that we have our network, we're ready to train it."
      ]
    },
    {
      "cell_type": "markdown",
      "metadata": {
        "id": "gTelX8MlP3n-"
      },
      "source": [
        "# <a id=\"sec3\">3. Backpropagation and training</a>"
      ]
    },
    {
      "cell_type": "markdown",
      "metadata": {
        "id": "VCdFKzLXP3n-"
      },
      "source": [
        "So far, the way we've been using `torch` has been almost equivalent to `numpy`, and we've been calling `detach().numpy()` on `torch` objects to convert them to numpy arrays. We haven't yet taken advantage of the main benefit of `torch`: automatic differentiation. Let's look at that and see how it helps us train our neural network."
      ]
    },
    {
      "cell_type": "markdown",
      "metadata": {
        "id": "xAS0gPJ_P3n-"
      },
      "source": [
        "First, a bit of vocabulary. The objects we're working with, neural network weights and biases, are called `tensors`. \n",
        "<img src=\"img/tensor.png\" width=\"50%\">\n",
        "A `tensor` is a generic term for a linear mapping of any linear mapping from one algeabraic object to another. A scalar is a single value, a vector a 1D object of values, a matrix a 2D object, and a tensor is an N-dimension object (scalars, vectors, and matrices are also tensors). In deep learning frameworks, tensors are the core computational object. We store all values in tensors and link them in computational graphs."
      ]
    },
    {
      "cell_type": "markdown",
      "metadata": {
        "id": "7yWKR3JsP3n-"
      },
      "source": [
        "A torch tensor looks very much like a numpy object. We can compare a 2D torch tensor and a numpy matrix:"
      ]
    },
    {
      "cell_type": "code",
      "metadata": {
        "id": "ZSkUSV9RP3n-",
        "colab": {
          "base_uri": "https://localhost:8080/"
        },
        "outputId": "83fee2c6-1c81-48e5-a11e-14e11afb7e02"
      },
      "source": [
        "a = np.ones((2, 2))\n",
        "b = torch.ones(2, 2)\n",
        "print('Numpy: ', a)\n",
        "print('Torch: ', b)\n",
        "np.all(b.numpy() == a)"
      ],
      "execution_count": 32,
      "outputs": [
        {
          "output_type": "stream",
          "text": [
            "Numpy:  [[1. 1.]\n",
            " [1. 1.]]\n",
            "Torch:  tensor([[1., 1.],\n",
            "        [1., 1.]])\n"
          ],
          "name": "stdout"
        },
        {
          "output_type": "execute_result",
          "data": {
            "text/plain": [
              "True"
            ]
          },
          "metadata": {
            "tags": []
          },
          "execution_count": 32
        }
      ]
    },
    {
      "cell_type": "markdown",
      "metadata": {
        "id": "HTTAeXR2P3n-"
      },
      "source": [
        "However, we can ask torch to keep track of the gradient of a tensor. As this tensor is used to compute other tensors, this will create a computational graph."
      ]
    },
    {
      "cell_type": "code",
      "metadata": {
        "id": "5aa-UZ1WP3n-",
        "colab": {
          "base_uri": "https://localhost:8080/"
        },
        "outputId": "4c21d00b-dba2-429e-ced9-5110f09a6120"
      },
      "source": [
        "x = torch.ones(2, 2, requires_grad=True)\n",
        "print('x: ', x)\n",
        "y = (3 * x * x).mean()\n",
        "print('y: ', y)\n",
        "y.backward()\n",
        "print('dy/dx: ', x.grad)"
      ],
      "execution_count": 33,
      "outputs": [
        {
          "output_type": "stream",
          "text": [
            "x:  tensor([[1., 1.],\n",
            "        [1., 1.]], requires_grad=True)\n",
            "y:  tensor(3., grad_fn=<MeanBackward0>)\n",
            "dy/dx:  tensor([[1.5000, 1.5000],\n",
            "        [1.5000, 1.5000]])\n"
          ],
          "name": "stdout"
        }
      ]
    },
    {
      "cell_type": "markdown",
      "metadata": {
        "id": "HhRAzR5zP3n-"
      },
      "source": [
        "The gradient definition in `y` depends on the calculation of `x` and allows us to calculate `dy/dx` by calling `backward()`. This is known as automatic differentiation, as the gradients at each step in the computation are automatically calculated. If you want to go further in detail about this, check out the [autograd tutorial](https://pytorch.org/tutorials/beginner/blitz/autograd_tutorial.html)."
      ]
    },
    {
      "cell_type": "markdown",
      "metadata": {
        "id": "gRwpj-JKP3n-"
      },
      "source": [
        "Let's use automatic differentiation to calculate the gradients of our neural network parameters. This will automatically perform backpropogation using the gradient definition at each function in our network."
      ]
    },
    {
      "cell_type": "code",
      "metadata": {
        "id": "omC5nXyUP3n-",
        "colab": {
          "base_uri": "https://localhost:8080/"
        },
        "outputId": "b87cc30c-119e-4a75-99d5-9918160fffcd"
      },
      "source": [
        "dataiter = iter(trainloader)\n",
        "images, labels = dataiter.next()\n",
        "onehot = torch.nn.functional.one_hot(labels, num_classes=10).float()\n",
        "\n",
        "labels, onehot"
      ],
      "execution_count": 34,
      "outputs": [
        {
          "output_type": "execute_result",
          "data": {
            "text/plain": [
              "(tensor([2, 6, 3, 3]), tensor([[0., 0., 1., 0., 0., 0., 0., 0., 0., 0.],\n",
              "         [0., 0., 0., 0., 0., 0., 1., 0., 0., 0.],\n",
              "         [0., 0., 0., 1., 0., 0., 0., 0., 0., 0.],\n",
              "         [0., 0., 0., 1., 0., 0., 0., 0., 0., 0.]]))"
            ]
          },
          "metadata": {
            "tags": []
          },
          "execution_count": 34
        }
      ]
    },
    {
      "cell_type": "markdown",
      "metadata": {
        "id": "tyU5Q4iaP3n-"
      },
      "source": [
        "`images` contains our batch of input, so calling `net` on it will perform a forward pass through the network. We'll then compare this to the onehot encoded label and compute the Mean Squared Error."
      ]
    },
    {
      "cell_type": "code",
      "metadata": {
        "id": "4ysa_DX_P3n-",
        "colab": {
          "base_uri": "https://localhost:8080/"
        },
        "outputId": "d727cb53-99f0-46e2-cb84-2dc1e519a4b5"
      },
      "source": [
        "net = SimpleNet()\n",
        "outputs = net(images)\n",
        "print('Outputs ', outputs)\n",
        "loss = torch.sum((outputs - onehot) ** 2, 1).mean()\n",
        "print('Loss ', loss)"
      ],
      "execution_count": 35,
      "outputs": [
        {
          "output_type": "stream",
          "text": [
            "Outputs  tensor([[ 0.4867,  0.3798, -0.5619, -0.5504, -0.1893, -0.2452,  0.1345,  0.0049,\n",
            "          0.2673,  0.1790],\n",
            "        [ 0.3400,  0.2909, -0.3745, -0.4995,  0.1007, -0.2358, -0.5166, -0.0064,\n",
            "          0.1973,  0.1135],\n",
            "        [ 0.3121,  0.5866, -0.5703, -0.5386,  0.1440, -0.1137, -0.4696, -0.0913,\n",
            "          0.4079,  0.1231],\n",
            "        [ 0.2097,  0.1262, -0.2298, -0.4687,  0.1346, -0.2743, -0.3426,  0.0824,\n",
            "          0.1463,  0.3156]], grad_fn=<AddmmBackward>)\n",
            "Loss  tensor(3.1338, grad_fn=<MeanBackward0>)\n"
          ],
          "name": "stdout"
        }
      ]
    },
    {
      "cell_type": "markdown",
      "metadata": {
        "id": "dYEqguFnP3n-"
      },
      "source": [
        "Now that we've calculated the error, we can backpropagate it using `backward()`. We first set all the gradients to zero, and then we'll observe how the gradients of the second layer's bias change."
      ]
    },
    {
      "cell_type": "code",
      "metadata": {
        "id": "oxkEVPAxP3n-",
        "colab": {
          "base_uri": "https://localhost:8080/",
          "height": 408
        },
        "outputId": "73c847c1-2871-4823-f602-59e2d4165db8"
      },
      "source": [
        "net.zero_grad()     # zeroes the gradient buffers of all parameters\n",
        "\n",
        "print('fc2.bias.grad before backward')\n",
        "print(net.fc2.bias.grad)\n",
        "\n",
        "loss.backward()\n",
        "\n",
        "print('fc2.bias.grad after backward')\n",
        "print(net.fc2.bias.grad)"
      ],
      "execution_count": 46,
      "outputs": [
        {
          "output_type": "stream",
          "text": [
            "fc2.bias.grad before backward\n",
            "tensor([0., 0., 0., 0., 0., 0., 0., 0., 0., 0.])\n"
          ],
          "name": "stdout"
        },
        {
          "output_type": "error",
          "ename": "RuntimeError",
          "evalue": "ignored",
          "traceback": [
            "\u001b[0;31m---------------------------------------------------------------------------\u001b[0m",
            "\u001b[0;31mRuntimeError\u001b[0m                              Traceback (most recent call last)",
            "\u001b[0;32m<ipython-input-46-8c360269d6ff>\u001b[0m in \u001b[0;36m<module>\u001b[0;34m()\u001b[0m\n\u001b[1;32m      4\u001b[0m \u001b[0mprint\u001b[0m\u001b[0;34m(\u001b[0m\u001b[0mnet\u001b[0m\u001b[0;34m.\u001b[0m\u001b[0mfc2\u001b[0m\u001b[0;34m.\u001b[0m\u001b[0mbias\u001b[0m\u001b[0;34m.\u001b[0m\u001b[0mgrad\u001b[0m\u001b[0;34m)\u001b[0m\u001b[0;34m\u001b[0m\u001b[0;34m\u001b[0m\u001b[0m\n\u001b[1;32m      5\u001b[0m \u001b[0;34m\u001b[0m\u001b[0m\n\u001b[0;32m----> 6\u001b[0;31m \u001b[0mloss\u001b[0m\u001b[0;34m.\u001b[0m\u001b[0mbackward\u001b[0m\u001b[0;34m(\u001b[0m\u001b[0;34m)\u001b[0m\u001b[0;34m\u001b[0m\u001b[0;34m\u001b[0m\u001b[0m\n\u001b[0m\u001b[1;32m      7\u001b[0m \u001b[0;34m\u001b[0m\u001b[0m\n\u001b[1;32m      8\u001b[0m \u001b[0mprint\u001b[0m\u001b[0;34m(\u001b[0m\u001b[0;34m'fc2.bias.grad after backward'\u001b[0m\u001b[0;34m)\u001b[0m\u001b[0;34m\u001b[0m\u001b[0;34m\u001b[0m\u001b[0m\n",
            "\u001b[0;32m/usr/local/lib/python3.6/dist-packages/torch/tensor.py\u001b[0m in \u001b[0;36mbackward\u001b[0;34m(self, gradient, retain_graph, create_graph)\u001b[0m\n\u001b[1;32m    219\u001b[0m                 \u001b[0mretain_graph\u001b[0m\u001b[0;34m=\u001b[0m\u001b[0mretain_graph\u001b[0m\u001b[0;34m,\u001b[0m\u001b[0;34m\u001b[0m\u001b[0;34m\u001b[0m\u001b[0m\n\u001b[1;32m    220\u001b[0m                 create_graph=create_graph)\n\u001b[0;32m--> 221\u001b[0;31m         \u001b[0mtorch\u001b[0m\u001b[0;34m.\u001b[0m\u001b[0mautograd\u001b[0m\u001b[0;34m.\u001b[0m\u001b[0mbackward\u001b[0m\u001b[0;34m(\u001b[0m\u001b[0mself\u001b[0m\u001b[0;34m,\u001b[0m \u001b[0mgradient\u001b[0m\u001b[0;34m,\u001b[0m \u001b[0mretain_graph\u001b[0m\u001b[0;34m,\u001b[0m \u001b[0mcreate_graph\u001b[0m\u001b[0;34m)\u001b[0m\u001b[0;34m\u001b[0m\u001b[0;34m\u001b[0m\u001b[0m\n\u001b[0m\u001b[1;32m    222\u001b[0m \u001b[0;34m\u001b[0m\u001b[0m\n\u001b[1;32m    223\u001b[0m     \u001b[0;32mdef\u001b[0m \u001b[0mregister_hook\u001b[0m\u001b[0;34m(\u001b[0m\u001b[0mself\u001b[0m\u001b[0;34m,\u001b[0m \u001b[0mhook\u001b[0m\u001b[0;34m)\u001b[0m\u001b[0;34m:\u001b[0m\u001b[0;34m\u001b[0m\u001b[0;34m\u001b[0m\u001b[0m\n",
            "\u001b[0;32m/usr/local/lib/python3.6/dist-packages/torch/autograd/__init__.py\u001b[0m in \u001b[0;36mbackward\u001b[0;34m(tensors, grad_tensors, retain_graph, create_graph, grad_variables)\u001b[0m\n\u001b[1;32m    130\u001b[0m     Variable._execution_engine.run_backward(\n\u001b[1;32m    131\u001b[0m         \u001b[0mtensors\u001b[0m\u001b[0;34m,\u001b[0m \u001b[0mgrad_tensors_\u001b[0m\u001b[0;34m,\u001b[0m \u001b[0mretain_graph\u001b[0m\u001b[0;34m,\u001b[0m \u001b[0mcreate_graph\u001b[0m\u001b[0;34m,\u001b[0m\u001b[0;34m\u001b[0m\u001b[0;34m\u001b[0m\u001b[0m\n\u001b[0;32m--> 132\u001b[0;31m         allow_unreachable=True)  # allow_unreachable flag\n\u001b[0m\u001b[1;32m    133\u001b[0m \u001b[0;34m\u001b[0m\u001b[0m\n\u001b[1;32m    134\u001b[0m \u001b[0;34m\u001b[0m\u001b[0m\n",
            "\u001b[0;31mRuntimeError\u001b[0m: Trying to backward through the graph a second time, but the saved intermediate results have already been freed. Specify retain_graph=True when calling backward the first time."
          ]
        }
      ]
    },
    {
      "cell_type": "markdown",
      "metadata": {
        "id": "yj4wyQjgP3n-"
      },
      "source": [
        "We can use this gradient calculation to update the neural network weights:\n",
        "$$w_{ij} \\leftarrow w_{ij} - \\alpha \\left(f_\\theta(x) - y\\right) \\delta_j x_{ij}$$"
      ]
    },
    {
      "cell_type": "code",
      "metadata": {
        "id": "xEUukHcPP3n-",
        "colab": {
          "base_uri": "https://localhost:8080/"
        },
        "outputId": "85e4056c-a8c8-45dd-f735-50f1f2554bf5"
      },
      "source": [
        "print('fc2.bias before training')\n",
        "print(net.fc2.bias.data)\n",
        "\n",
        "learning_rate = 0.01\n",
        "for f in net.parameters():\n",
        "    f.data.sub_(f.grad.data * learning_rate)\n",
        "\n",
        "print('fc2.bias after training')\n",
        "print(net.fc2.bias.data)"
      ],
      "execution_count": 45,
      "outputs": [
        {
          "output_type": "stream",
          "text": [
            "fc2.bias before training\n",
            "tensor([-0.0663,  0.0791, -0.0858,  0.0144, -0.0666,  0.0462,  0.0659, -0.0672,\n",
            "         0.0741,  0.0424])\n",
            "fc2.bias after training\n",
            "tensor([-0.0663,  0.0787, -0.0855,  0.0143, -0.0666,  0.0460,  0.0657, -0.0673,\n",
            "         0.0743,  0.0427])\n"
          ],
          "name": "stdout"
        }
      ]
    },
    {
      "cell_type": "markdown",
      "metadata": {
        "id": "gOYh4pEGP3n-"
      },
      "source": [
        "Torch provides loss functions and optimizers that we can use instead of writing our own. For now, we'll use the `torch.nn.CrossEntropyLoss` and `torch.optim.SGD` functions.\n",
        "\n",
        "Just one last thing before we train on the full dataset: we're calculting the gradients at every batch, not at every data point. This is an expensive gradient calculation, so let's reduce the number of times we do it by increasing the batch size. This has the benefit of reducing overfitting by computing the gradient over a large sample of images."
      ]
    },
    {
      "cell_type": "code",
      "metadata": {
        "id": "tMZvNZBXP3n_"
      },
      "source": [
        "def train(net):\n",
        "    trainloader = torch.utils.data.DataLoader(trainset, batch_size=512, shuffle=True, num_workers=2)\n",
        "    criterion = nn.CrossEntropyLoss()\n",
        "    optimizer = torch.optim.SGD(net.parameters(), lr=0.001, momentum=0.9)\n",
        "    train_loss = 0.0\n",
        "    for i, data in enumerate(trainloader, 0):\n",
        "        # get the inputs; data is a list of [inputs, labels]\n",
        "        inputs, labels = data\n",
        "        # zero the parameter gradients\n",
        "        optimizer.zero_grad()\n",
        "        # forward + backward + optimize\n",
        "        outputs = net(inputs)\n",
        "        loss = criterion(outputs, labels)\n",
        "        loss.backward()\n",
        "        optimizer.step()\n",
        "        train_loss += loss.item()\n",
        "    return train_loss"
      ],
      "execution_count": 47,
      "outputs": []
    },
    {
      "cell_type": "code",
      "metadata": {
        "id": "OtsQ1uFzP3n_",
        "colab": {
          "base_uri": "https://localhost:8080/"
        },
        "outputId": "ecaf6eae-c7c5-4c16-8776-840698c4b303"
      },
      "source": [
        "net = SimpleNet()\n",
        "%time train_loss = train(net)\n",
        "print(train_loss)"
      ],
      "execution_count": 48,
      "outputs": [
        {
          "output_type": "stream",
          "text": [
            "CPU times: user 196 ms, sys: 27.2 ms, total: 223 ms\n",
            "Wall time: 1.8 s\n",
            "41.568642377853394\n"
          ],
          "name": "stdout"
        }
      ]
    },
    {
      "cell_type": "markdown",
      "metadata": {
        "id": "E5BpDARqP3n_"
      },
      "source": [
        "To see how our network performs, we'll apply it to the validation set."
      ]
    },
    {
      "cell_type": "code",
      "metadata": {
        "id": "0wMQmO1AP3n_"
      },
      "source": [
        "def get_valid_predictions(net):\n",
        "    validloader = torch.utils.data.DataLoader(validset, batch_size=4, shuffle=False)\n",
        "    all_labels = np.array([])\n",
        "    predictions = np.array([])\n",
        "    with torch.no_grad():\n",
        "        for data in validloader:\n",
        "            images, labels = data\n",
        "            outputs = net(images)\n",
        "            _, predicted = torch.max(outputs.data, 1)\n",
        "            all_labels = np.append(all_labels, labels.numpy())\n",
        "            predictions = np.append(predictions, predicted.numpy())\n",
        "    return all_labels, predictions"
      ],
      "execution_count": 49,
      "outputs": []
    },
    {
      "cell_type": "code",
      "metadata": {
        "id": "BtS_vjZ_P3n_"
      },
      "source": [
        "y_valid, predictions = get_valid_predictions(net)"
      ],
      "execution_count": 50,
      "outputs": []
    },
    {
      "cell_type": "code",
      "metadata": {
        "id": "lTClAwBXP3n_",
        "colab": {
          "base_uri": "https://localhost:8080/"
        },
        "outputId": "ebadd9e3-d628-4d6d-b834-df7a102618ba"
      },
      "source": [
        "from sklearn.metrics import accuracy_score, classification_report\n",
        "\n",
        "print('Accuracy: ', accuracy_score(predictions, y_valid))\n",
        "print(classification_report(predictions, y_valid, target_names=labels_text))"
      ],
      "execution_count": 51,
      "outputs": [
        {
          "output_type": "stream",
          "text": [
            "Accuracy:  0.49\n",
            "              precision    recall  f1-score   support\n",
            "\n",
            " T-shirt/top       0.07      0.70      0.13        10\n",
            "     Trouser       0.86      0.63      0.73       131\n",
            "    Pullover       0.38      0.51      0.43        75\n",
            "       Dress       0.50      0.39      0.44       141\n",
            "        Coat       0.55      0.38      0.45       149\n",
            "      Sandal       0.54      0.53      0.53        98\n",
            "       Shirt       0.07      0.27      0.11        26\n",
            "     Sneaker       0.92      0.35      0.51       235\n",
            "         Bag       0.37      0.90      0.52        39\n",
            "  Ankle boot       0.67      0.78      0.72        96\n",
            "\n",
            "    accuracy                           0.49      1000\n",
            "   macro avg       0.49      0.54      0.46      1000\n",
            "weighted avg       0.65      0.49      0.52      1000\n",
            "\n"
          ],
          "name": "stdout"
        }
      ]
    },
    {
      "cell_type": "markdown",
      "metadata": {
        "id": "CzE00LZfP3n_"
      },
      "source": [
        "# <a id=\"sec4\">4. Activation Functions</a>"
      ]
    },
    {
      "cell_type": "markdown",
      "metadata": {
        "id": "ZXfZsFP8P3n_"
      },
      "source": [
        "So far, our network is a chain of $$ Y = w^T x+b $$ However, in the last class, the neurons we modeled used sigmoid functions: $$ Y = \\sigma(w^T x+b) $$ Let's apply this to our current network and see how it changes training. Torch has two ways to do this: define a `torch.nn.Sigmoid` layer or apply the `torch.nn.functional.sigmoid` function (`torch.sigmoid` in future versions). We'll use the functional method."
      ]
    },
    {
      "cell_type": "code",
      "metadata": {
        "id": "pPOc8uB8P3n_"
      },
      "source": [
        "class SigmoidNet(nn.Module):\n",
        "    def __init__(self):\n",
        "        super(SigmoidNet, self).__init__()\n",
        "        self.fc1 = nn.Linear(784, 120)\n",
        "        self.fc2 = nn.Linear(120, 10)\n",
        "\n",
        "    def forward(self, x):\n",
        "        x = x.view(-1, 784)\n",
        "        x = torch.sigmoid(self.fc1(x))\n",
        "        x = torch.sigmoid(self.fc2(x))\n",
        "        return x\n",
        "\n",
        "net = SigmoidNet()"
      ],
      "execution_count": 57,
      "outputs": []
    },
    {
      "cell_type": "code",
      "metadata": {
        "id": "bSz8nC1UP3n_",
        "colab": {
          "base_uri": "https://localhost:8080/"
        },
        "outputId": "40df2b12-ac28-49e2-a37d-9fc77ffd1d69"
      },
      "source": [
        "total_loss = train(net)\n",
        "y_valid, predictions = get_valid_predictions(net)\n",
        "print('Accuracy: ', accuracy_score(predictions, y_valid))"
      ],
      "execution_count": 58,
      "outputs": [
        {
          "output_type": "stream",
          "text": [
            "Accuracy:  0.101\n"
          ],
          "name": "stdout"
        }
      ]
    },
    {
      "cell_type": "markdown",
      "metadata": {
        "id": "TlpXJMfVP3n_"
      },
      "source": [
        "## Rectified Linear Units (ReLU)\n",
        "\n",
        "We'll now look at a different activation function, the ReLU. Remember the shape of the sigmoid activation function?"
      ]
    },
    {
      "cell_type": "code",
      "metadata": {
        "ExecuteTime": {
          "end_time": "2018-11-07T13:22:28.428973Z",
          "start_time": "2018-11-07T13:22:28.270744Z"
        },
        "id": "LrRrtfKmP3n_",
        "colab": {
          "base_uri": "https://localhost:8080/",
          "height": 265
        },
        "outputId": "71d60c32-316e-445f-d1c2-cdf7937245a3"
      },
      "source": [
        "def sigmoid(x):\n",
        "    return 1./(1. + np.exp(-x))\n",
        "\n",
        "XX = np.arange(-5,5.,0.1)\n",
        "plt.plot(XX,sigmoid(XX));"
      ],
      "execution_count": 59,
      "outputs": [
        {
          "output_type": "display_data",
          "data": {
            "image/png": "[encoded data removed]",
            "text/plain": [
              "<Figure size 432x288 with 1 Axes>"
            ]
          },
          "metadata": {
            "tags": [],
            "needs_background": "light"
          }
        }
      ]
    },
    {
      "cell_type": "markdown",
      "metadata": {
        "id": "7bHgM8HHP3n_"
      },
      "source": [
        "Let's plot the gradient of this function."
      ]
    },
    {
      "cell_type": "code",
      "metadata": {
        "ExecuteTime": {
          "end_time": "2018-11-07T13:22:31.911109Z",
          "start_time": "2018-11-07T13:22:31.786515Z"
        },
        "id": "kDAJ_4a3P3n_",
        "colab": {
          "base_uri": "https://localhost:8080/",
          "height": 265
        },
        "outputId": "da7d6b3e-c542-458f-befa-f0281ee9e249"
      },
      "source": [
        "def sigmoid_der(x):\n",
        "    y = sigmoid(x)\n",
        "    return y*(1.-y)\n",
        "\n",
        "XX = np.arange(-5,5.,0.1)\n",
        "plt.plot(XX,sigmoid(XX));\n",
        "plt.plot(XX,sigmoid_der(XX));"
      ],
      "execution_count": 60,
      "outputs": [
        {
          "output_type": "display_data",
          "data": {
            "image/png": "[encoded data removed]",
            "text/plain": [
              "<Figure size 432x288 with 1 Axes>"
            ]
          },
          "metadata": {
            "tags": [],
            "needs_background": "light"
          }
        }
      ]
    },
    {
      "cell_type": "markdown",
      "metadata": {
        "id": "5vQqaZ5eP3n_"
      },
      "source": [
        "Do you remember that during backpropagation, the $\\delta_j$ were recursively obtained by:\n",
        "$$\\delta_j = \\sigma'(y_j) \\sum_{l\\in L_j} \\delta_l w_{jl}$$\n",
        "\n",
        "This poses a major problem when the networks become deeper: at each layer, we multiply our gradients by $\\sigma'(y_j)$ which is much smaller than 1. So the gradient we want to back-propagate shrinks to zero and all our weight updates become zero.\n",
        "\n",
        "This is called the **vanishing gradient** problem.\n",
        "\n",
        "To avoid this problem, we introduce a new type of activation function: the Rectified Linear Unit (ReLU).\n",
        "$$\\sigma(y) = \\max\\{0,y\\}$$\n",
        "\n",
        "The key property of this function is that its derivative is either zero or one."
      ]
    },
    {
      "cell_type": "code",
      "metadata": {
        "ExecuteTime": {
          "end_time": "2018-11-07T13:22:34.779670Z",
          "start_time": "2018-11-07T13:22:34.661690Z"
        },
        "id": "Mz1qaeTmP3oA",
        "colab": {
          "base_uri": "https://localhost:8080/",
          "height": 265
        },
        "outputId": "6ad5d2b9-6b47-437f-f56d-e1326b480117"
      },
      "source": [
        "def relu(x):\n",
        "    return np.maximum(0.,x)\n",
        "def relu_der(x):\n",
        "    return relu(x) > 0\n",
        "\n",
        "plt.plot(XX,relu(XX));\n",
        "plt.plot(XX,relu_der(XX));"
      ],
      "execution_count": 61,
      "outputs": [
        {
          "output_type": "display_data",
          "data": {
            "image/png": "[encoded data removed]",
            "text/plain": [
              "<Figure size 432x288 with 1 Axes>"
            ]
          },
          "metadata": {
            "tags": [],
            "needs_background": "light"
          }
        }
      ]
    },
    {
      "cell_type": "markdown",
      "metadata": {
        "id": "pTmFB04CP3oA"
      },
      "source": [
        "**Caveat of using ReLU activation functions**\n",
        "\n",
        "Although they allow us to train deep networks, ReLU functions have their downsides.\n",
        "- Unbounded values: the output of a layer is not bounded anymore, causing possible divergence.\n",
        "- Dying ReLU neurons: the backpropagation of gradients can push the input weigths towards values such that $\\sigma(y)=0$ all the time. Then all future backpropagations will leave these weights unchanged: the neuron is dead.\n",
        "\n",
        "Some advanced methods can compensate these weaknesses but are out of the scope of this introduction.\n",
        "\n",
        "In torch, the ReLU activation function is either a layer `torch.nn.ReLU` or a function in `torch.nn.functional.relu`."
      ]
    },
    {
      "cell_type": "markdown",
      "metadata": {
        "id": "pw1gw0LoP3oA"
      },
      "source": [
        "<div class=\"alert alert-success\">\n",
        "Exercise 5: Change the activation functions in your network. Experiment with different layer sizes and activations to get a higher accuracy.\n",
        "</div>"
      ]
    },
    {
      "cell_type": "code",
      "metadata": {
        "id": "VCmSutGoP3oA",
        "colab": {
          "base_uri": "https://localhost:8080/"
        },
        "outputId": "6b782850-1b2b-4f42-c934-8cef410bf05b"
      },
      "source": [
        "# %load solutions/ex5.py\n",
        "\n",
        "import torch.nn.functional as F\n",
        "\n",
        "class ReLUNet(nn.Module):\n",
        "    def __init__(self):\n",
        "        super(ReLUNet, self).__init__()\n",
        "        self.fc1 = nn.Linear(784, 120)\n",
        "        self.fc2 = nn.Linear(120, 10)\n",
        "\n",
        "    def forward(self, x):\n",
        "        x = x.view(-1, 784)\n",
        "        x = F.relu(self.fc1(x))\n",
        "        x = self.fc2(x)\n",
        "        return x\n",
        "\n",
        "net = ReLUNet()\n",
        "train(net)\n",
        "y_valid, predictions = get_valid_predictions(net)\n",
        "print('Accuracy: ', accuracy_score(predictions, y_valid))"
      ],
      "execution_count": 64,
      "outputs": [
        {
          "output_type": "stream",
          "text": [
            "Accuracy:  0.43\n"
          ],
          "name": "stdout"
        }
      ]
    },
    {
      "cell_type": "markdown",
      "metadata": {
        "id": "GXkKY-qCP3oA"
      },
      "source": [
        "# <a id=\"sec5\">5. Convolutional Neural Networks</a>"
      ]
    },
    {
      "cell_type": "markdown",
      "metadata": {
        "id": "t3HsMfDCP3oA"
      },
      "source": [
        "The main factor which makes deep learning so useful for computer vision is the use of convolutions. Convolutional networks exploit the fact that the data is actually an image in the learning while decreasing the number of weights in the network. To do this, they define **convolution filters** that brush across the image. Such a filter defines a so-called **feature map** that shares the weights of the filter. The result of applying a feature map on an image is a new image of lower resolution, where each pixel is the result of the convolution of the filter with a set of pixels from the input image, as illustrated on the figure below. The Stanford class [CS231n](http://cs231n.github.io/convolutional-networks/) also has an excellent demo."
      ]
    },
    {
      "cell_type": "markdown",
      "metadata": {
        "id": "RcTMFcD8P3oA"
      },
      "source": [
        "<img src=\"img/convnet.gif\" width=\"700px\">"
      ]
    },
    {
      "cell_type": "code",
      "metadata": {
        "id": "jfFV2kyZP3oA"
      },
      "source": [
        "def forward_convolution(conv_W, conv_b, data):\n",
        "    \"\"\"\n",
        "    Compute the output from a convolutional layer given the weights and data.\n",
        "\n",
        "    conv_W is of the shape (# output channels, # input channels, convolution width, convolution height )\n",
        "    conv_b is of the shape (# output channels)\n",
        "\n",
        "    data is of the shape (# input channels, width, height)\n",
        "\n",
        "    The output should be the result of a convolution and should be of the size:\n",
        "        (# output channels, width - convolution width + 1, height -  convolution height + 1)\n",
        "\n",
        "    Returns:\n",
        "        The output of the convolution as a numpy array\n",
        "    \"\"\"\n",
        "\n",
        "    conv_channels, _, conv_width, conv_height = conv_W.shape\n",
        "\n",
        "    input_channels, input_width, input_height = data.shape\n",
        "\n",
        "    output = np.zeros((conv_channels, input_width - conv_width + 1, input_height - conv_height + 1))\n",
        "\n",
        "    for x in range(input_width - conv_width + 1):\n",
        "        for y in range(input_height - conv_height + 1):\n",
        "            for output_channel in range(conv_channels):\n",
        "                output[output_channel, x, y] = np.sum(\n",
        "                    np.multiply(data[:, x:(x + conv_width), y:(y + conv_height)], conv_W[output_channel, :, :, :])) + conv_b[output_channel]\n",
        "\n",
        "    return output"
      ],
      "execution_count": 65,
      "outputs": []
    },
    {
      "cell_type": "code",
      "metadata": {
        "id": "Tq8DjNGcP3oA",
        "colab": {
          "base_uri": "https://localhost:8080/"
        },
        "outputId": "6f365c0e-dc6e-4fc6-f71f-e1eb786e873b"
      },
      "source": [
        "rng = np.random.default_rng()\n",
        "data = rng.integers(-5, 5, (1, 3, 3))\n",
        "conv_W = np.array([[np.identity(2)]]) #np.ones((1, 1, 2, 2))\n",
        "conv_b = np.zeros(1)\n",
        "output = forward_convolution(conv_W, conv_b, data)\n",
        "print(\"Input:\\n\", data)\n",
        "print(\"Filter:\\n\", conv_W)\n",
        "print(\"Bias:\", conv_b)\n",
        "print(\"Output:\\n\", output)"
      ],
      "execution_count": 66,
      "outputs": [
        {
          "output_type": "stream",
          "text": [
            "Input:\n",
            " [[[ 4 -5  2]\n",
            "  [-5 -1 -5]\n",
            "  [ 1 -4  3]]]\n",
            "Filter:\n",
            " [[[[1. 0.]\n",
            "   [0. 1.]]]]\n",
            "Bias: [0.]\n",
            "Output:\n",
            " [[[  3. -10.]\n",
            "  [ -9.   2.]]]\n"
          ],
          "name": "stdout"
        }
      ]
    },
    {
      "cell_type": "markdown",
      "metadata": {
        "id": "M_CTOrB8P3oA"
      },
      "source": [
        "Convolutional layers extract important features from previous layers, transforming the image space into a feature space where each block of neurons corresponds to a feature set rather than a group of pixels. To aggregate these features, select the most important ones, and reduce the dimensionality of our network, we'll use the **pooling** operator. Pooling is the operation of down-sampling the image by grouping together certain pixels. The most common pooling operation takes the maximum value over a certain window. Max pooling has been shown to better separate features which are rare in the data.\n",
        "\n",
        "Boureau, Y-Lan, Jean Ponce, and Yann LeCun. \"A theoretical analysis of feature pooling in visual recognition.\" Proceedings of the 27th international conference on machine learning (ICML-10). 2010. [pdf](https://www.di.ens.fr/willow/pdfs/icml2010b.pdf)\n",
        "\n",
        "<img src=\"img/maxpool.png\">"
      ]
    },
    {
      "cell_type": "markdown",
      "metadata": {
        "id": "avDRsPEGP3oA"
      },
      "source": [
        "One of the advantages of convolution is translational invariance: a feature can appear in different parts of an image, and the network will still detect it. Here's a simple example:\n",
        "\n",
        "<img src=\"img/invariance.png\">"
      ]
    },
    {
      "cell_type": "markdown",
      "metadata": {
        "id": "ZXECzwdzP3oA"
      },
      "source": [
        "When defining a convolutional layer, we define the number of channels, where a channel is one slice of neurons. Our input image has one channel - the dimensions are 28 by 28 by 1. A color image has three channels, red green and blue. Using convolution, we'll convert our image of 28 by 28 by 1 into a number of different channels, which we call feature maps. The other parameter we define is the size of the kernel - how large is the filter we're passing over the previous layer. \n",
        "\n",
        "`torch.nn.Conv2d(in_channels, out_channels, kernel_size, stride=1, padding=0, dilation=1, groups=1, bias=True, padding_mode='zeros')`\n",
        "\n",
        "The options of stride, padding, dilation, and groups are further explained in the [documentation](https://pytorch.org/docs/stable/nn.html?highlight=torch%20nn%20conv2d#torch.nn.Conv2d). [This page](https://github.com/vdumoulin/conv_arithmetic/blob/master/README.md) shows an illustration of these different options."
      ]
    },
    {
      "cell_type": "code",
      "metadata": {
        "id": "YCVkkkQlP3oA",
        "colab": {
          "base_uri": "https://localhost:8080/"
        },
        "outputId": "3ddf1332-f3f1-479a-dae8-ad01ed628a09"
      },
      "source": [
        "m = nn.Conv2d(1, 1, 2, stride=1)\n",
        "m.weight = torch.nn.Parameter(torch.tensor(conv_W, dtype=torch.float))\n",
        "m.bias = torch.nn.Parameter(torch.tensor(conv_b, dtype=torch.float))\n",
        "input = torch.tensor(np.array([data]), dtype=torch.float)\n",
        "output = m(input)\n",
        "print(\"Input:\", input)\n",
        "print(\"Weight:\", m.weight)\n",
        "print(\"Bias:\", m.bias)\n",
        "print(\"Output:\", output)"
      ],
      "execution_count": 67,
      "outputs": [
        {
          "output_type": "stream",
          "text": [
            "Input: tensor([[[[ 4., -5.,  2.],\n",
            "          [-5., -1., -5.],\n",
            "          [ 1., -4.,  3.]]]])\n",
            "Weight: Parameter containing:\n",
            "tensor([[[[1., 0.],\n",
            "          [0., 1.]]]], requires_grad=True)\n",
            "Bias: Parameter containing:\n",
            "tensor([0.], requires_grad=True)\n",
            "Output: tensor([[[[  3., -10.],\n",
            "          [ -9.,   2.]]]], grad_fn=<ThnnConv2DBackward>)\n"
          ],
          "name": "stdout"
        }
      ]
    },
    {
      "cell_type": "markdown",
      "metadata": {
        "id": "ROS9nkuJP3oA"
      },
      "source": [
        "This creates the difficult question of how large is our convolutional layer, in terms of dimensions? Let's assume a layer with the following:\n",
        "\n",
        "+ batch size $N$\n",
        "+ input layer size $H_{in}$ by $W_{in}$\n",
        "+ $C_{in}$ input channels\n",
        "+ $C_{out}$ output channels\n",
        "+ Kernel size $K$, assuming 2D for now\n",
        "\n",
        "That is to say, the previous layer's size is $(N, C_{in}, H_{in}, W_{in})$. For our image input layer, this is $(512, 1, 28, 28)$. We want to calculate the size of the convolutional layer, $(N, C_{out}, H_{out}, W_{out})$. "
      ]
    },
    {
      "cell_type": "markdown",
      "metadata": {
        "id": "24y8F5ppP3oA"
      },
      "source": [
        "This size depends on our kernel size and the other convolutional parameters like stride and padding:\n",
        "\n",
        "$$H_{out} = \\left\\lfloor\\frac{H_{in}  + 2 \\times \\text{padding}[0] - \\text{dilation}[0] \\times (K_0 - 1) - 1}{\\text{stride}[0]} + 1\\right\\rfloor$$\n",
        " \n",
        "$$W_{out} = \\left\\lfloor\\frac{W_{in}  + 2 \\times \\text{padding}[1] - \\text{dilation}[1]\\times (K_1 - 1) - 1}{\\text{stride}[1]} + 1\\right\\rfloor$$"
      ]
    },
    {
      "cell_type": "markdown",
      "metadata": {
        "id": "bFBrNcVAP3oA"
      },
      "source": [
        "Assuming the torch defaults of `stride=1, padding=0, dilation=1`, this simplifies to:\n",
        "\n",
        "$$H_{out} = \\left\\lfloor H_{in} - K_0 + 1\\right\\rfloor$$\n",
        " \n",
        "$$W_{out} = \\left\\lfloor W_{in} - K_1 + 1\\right\\rfloor$$\n",
        "\n",
        "Note that this is straight from the [torch documentation](https://pytorch.org/docs/stable/generated/torch.nn.Conv2d.html#torch.nn.Conv2d)."
      ]
    },
    {
      "cell_type": "markdown",
      "metadata": {
        "id": "67t6kJXUP3oA"
      },
      "source": [
        "We'll use this calculation to make a small network with 8 feature maps and a kernel size of 4 by 4."
      ]
    },
    {
      "cell_type": "code",
      "metadata": {
        "id": "LzDfgaX0P3oA"
      },
      "source": [
        "k = (4, 4)\n",
        "h_in = 28\n",
        "w_in = 28\n",
        "c_in = 1\n",
        "c_out = 8"
      ],
      "execution_count": 68,
      "outputs": []
    },
    {
      "cell_type": "code",
      "metadata": {
        "id": "QR3ahHGQP3oA",
        "colab": {
          "base_uri": "https://localhost:8080/"
        },
        "outputId": "0f0aa56a-3d98-421e-97e2-7ba82b87e986"
      },
      "source": [
        "output_size = c_out * (h_in - k[0] + 1) * (w_in - k[1] + 1)\n",
        "print(output_size)"
      ],
      "execution_count": 69,
      "outputs": [
        {
          "output_type": "stream",
          "text": [
            "5000\n"
          ],
          "name": "stdout"
        }
      ]
    },
    {
      "cell_type": "code",
      "metadata": {
        "id": "nn2vsLy9P3oA",
        "colab": {
          "base_uri": "https://localhost:8080/"
        },
        "outputId": "ed505e72-152d-4781-8766-ed0b0cf9c307"
      },
      "source": [
        "class SmallConvNet(nn.Module):\n",
        "    def __init__(self):\n",
        "        super(SmallConvNet, self).__init__()\n",
        "        self.conv1 = nn.Conv2d(c_in, c_out, k)\n",
        "        self.fc1 = nn.Linear(output_size, 128)\n",
        "        self.fc2 = nn.Linear(128, 10)\n",
        "\n",
        "    def forward(self, x):\n",
        "        x = self.conv1(x)\n",
        "        x = F.relu(x)\n",
        "        x = torch.flatten(x, 1)\n",
        "        x = self.fc1(x)\n",
        "        x = F.relu(x)\n",
        "        x = self.fc2(x)\n",
        "        output = F.softmax(x, dim=1)\n",
        "        return output\n",
        "\n",
        "net = SmallConvNet()\n",
        "train(net)\n",
        "y_valid, predictions = get_valid_predictions(net)\n",
        "print('Accuracy: ', accuracy_score(predictions, y_valid))"
      ],
      "execution_count": 71,
      "outputs": [
        {
          "output_type": "stream",
          "text": [
            "Accuracy:  0.097\n"
          ],
          "name": "stdout"
        }
      ]
    },
    {
      "cell_type": "markdown",
      "metadata": {
        "id": "Vlj5qmD2P3oA"
      },
      "source": [
        "<div class=\"alert alert-success\">\n",
        "Exercise 6: Using the `torch.nn.Conv2d` and `torch.nn.MaxPool2d` layer functions (or `torch.nn.functional.max_pool2d`), define and test the following network:\n",
        "    \n",
        "- Input layer: images of size $28\\times 28$ with a single channel\n",
        "- Convolutional layer of 32 feature maps with $3\\times 3$ filters\n",
        "- Max pooling layer by blocks of size $2 \\times 2$\n",
        "- Convolutional layer of 64 feature maps with $3\\times 3$ filters\n",
        "- Max pooling layer by blocks of size $2 \\times 2$\n",
        "- Fully connected layer with 128 ReLU neurons\n",
        "- Fully connected output layer with 10 ReLU neurons\n",
        "</div>"
      ]
    },
    {
      "cell_type": "code",
      "metadata": {
        "id": "_1pCPiBPP3oA",
        "colab": {
          "base_uri": "https://localhost:8080/"
        },
        "outputId": "495836bd-09e7-4773-a686-631152a21c12"
      },
      "source": [
        "# %load solutions/ex6.py\n",
        "\n",
        "class ConvNet(nn.Module):\n",
        "    def __init__(self):\n",
        "        super(ConvNet, self).__init__()\n",
        "        self.conv1 = nn.Conv2d(1, 32, 3)\n",
        "        self.conv2 = nn.Conv2d(32, 64, 3)\n",
        "        self.fc1 = nn.Linear(1600, 128)\n",
        "        self.fc2 = nn.Linear(128, 10)\n",
        "\n",
        "    def forward(self, x):\n",
        "        x = self.conv1(x)\n",
        "        x = F.max_pool2d(x, 2)\n",
        "        x = self.conv2(x)\n",
        "        x = F.max_pool2d(x, 2)\n",
        "        x = torch.flatten(x, 1)\n",
        "        x = self.fc1(x)\n",
        "        x = F.relu(x)\n",
        "        x = self.fc2(x)\n",
        "        output = F.relu(x)\n",
        "        return output\n",
        "\n",
        "net = ConvNet()\n",
        "train(net)\n",
        "y_valid, predictions = get_valid_predictions(net)\n",
        "print('Accuracy: ', accuracy_score(predictions, y_valid))"
      ],
      "execution_count": 72,
      "outputs": [
        {
          "output_type": "stream",
          "text": [
            "Accuracy:  0.264\n"
          ],
          "name": "stdout"
        }
      ]
    },
    {
      "cell_type": "markdown",
      "metadata": {
        "id": "H_I7MM23P3oA"
      },
      "source": [
        "<div class=\"alert alert-info\">\n",
        "    <h3>Discussion</h3>\n",
        "    \n",
        "We previously defined backpropagation for feed-forward networks which used the gradient of the weighted sum and neural activation function. Can backpropagation still work with these two layer types, convolution and pooling? How? What requirement is there for the operators performed by each layer?\n",
        "</div>"
      ]
    },
    {
      "cell_type": "markdown",
      "metadata": {
        "id": "mKYWLk45P3oA"
      },
      "source": [
        "# <a id=\"sec6\">6. Overfitting</a>"
      ]
    },
    {
      "cell_type": "markdown",
      "metadata": {
        "id": "k0ksRj8aP3oA"
      },
      "source": [
        "So far, we've been training on just one pass through the data, called an \"epoch\". In deep learning, networks are trained over multiple epochs, either a fixed amount or until a convergence metric is met. As we will see, this can lead to overfitting. We'll train for 30 epochs and watch the validation loss over training."
      ]
    },
    {
      "cell_type": "code",
      "metadata": {
        "id": "6kumRQYQP3oA"
      },
      "source": [
        "trainloader = torch.utils.data.DataLoader(trainset, batch_size=512, shuffle=True, num_workers=2)\n",
        "validloader = torch.utils.data.DataLoader(validset, batch_size=512, shuffle=True, num_workers=2)\n",
        "criterion = nn.CrossEntropyLoss()\n",
        "\n",
        "def validation(net):\n",
        "    valid_loss = 0\n",
        "    with torch.no_grad():\n",
        "        for data in validloader:\n",
        "            images, labels = data\n",
        "            outputs = net(images)\n",
        "            loss = criterion(outputs, labels)\n",
        "            valid_loss += loss.item()\n",
        "    return valid_loss\n",
        "\n",
        "def train(net):\n",
        "    optimizer = torch.optim.SGD(net.parameters(), lr=0.1, momentum=0.9)\n",
        "    train_history = []\n",
        "    valid_history = []\n",
        "    for epoch in range(30):\n",
        "        train_loss = 0.0\n",
        "        for i, data in enumerate(trainloader, 0):\n",
        "            # get the inputs; data is a list of [inputs, labels]\n",
        "            inputs, labels = data\n",
        "            # zero the parameter gradients\n",
        "            optimizer.zero_grad()\n",
        "            # forward + backward + optimize\n",
        "            outputs = net(inputs)\n",
        "            loss = criterion(outputs, labels)\n",
        "            loss.backward()\n",
        "            optimizer.step()\n",
        "            train_loss += loss.item()\n",
        "        valid_loss = validation(net)\n",
        "        train_history.append(train_loss)\n",
        "        valid_history.append(valid_loss)\n",
        "        print('Epoch %02d: train loss %0.5f, validation loss %0.5f' % (epoch, train_loss, valid_loss))\n",
        "    return train_history, valid_history"
      ],
      "execution_count": null,
      "outputs": []
    },
    {
      "cell_type": "code",
      "metadata": {
        "id": "ohifFeUHP3oA"
      },
      "source": [
        "net = SimpleNet()\n",
        "train_history, valid_history = train(net)"
      ],
      "execution_count": null,
      "outputs": []
    },
    {
      "cell_type": "code",
      "metadata": {
        "id": "Toqp0QNmP3oA"
      },
      "source": [
        "def plot_train_val(train, valid):\n",
        "    fig, ax1 = plt.subplots()\n",
        "    color = 'tab:red'\n",
        "    ax1.set_ylabel('Training', color=color)\n",
        "    ax1.plot(train, color=color)\n",
        "    ax2 = ax1.twinx()\n",
        "    color = 'tab:blue'\n",
        "    ax2.set_ylabel('Validation', color=color)\n",
        "    ax2.plot(valid, color=color)\n",
        "    fig.tight_layout()\n",
        "    \n",
        "plot_train_val(train_history, valid_history)"
      ],
      "execution_count": null,
      "outputs": []
    },
    {
      "cell_type": "markdown",
      "metadata": {
        "id": "FICX8CSDP3oA"
      },
      "source": [
        "As we see in the above plots, the validation accuracy might fluctuate or increase while minimizing the training loss. If the validation loss increases too much while the training loss decreases, we consider this **overfitting** to the training data. "
      ]
    },
    {
      "cell_type": "markdown",
      "metadata": {
        "id": "rWGtkjR3P3oA"
      },
      "source": [
        "## Early Stopping"
      ]
    },
    {
      "cell_type": "markdown",
      "metadata": {
        "id": "9DkYje6IP3oA"
      },
      "source": [
        "One of the ways to overcome overfitting is early stopping. We'll stop the training early based on increases to the validation loss. If the validation loss is higher than the current lowest validation lost for a certain number of epochs we'll stop the training. The number of epochs we wait is known as the `patience`."
      ]
    },
    {
      "cell_type": "code",
      "metadata": {
        "id": "3EOQ_0ZhP3oA"
      },
      "source": [
        "class EarlyStopping:\n",
        "    \n",
        "    def __init__(self, patience=5, delta=0):\n",
        "        self.patience = patience\n",
        "        self.counter = 0\n",
        "        self.best_score = None\n",
        "        self.delta = delta\n",
        "        self.early_stop = False\n",
        "\n",
        "    def step(self, val_loss):\n",
        "        score = -val_loss\n",
        "        if self.best_score is None:\n",
        "            self.best_score = score\n",
        "        elif score < self.best_score + self.delta:\n",
        "            self.counter += 1\n",
        "            print('EarlyStopping counter: %d / %d' % (self.counter, self.patience))\n",
        "            if self.counter >= self.patience:\n",
        "                self.early_stop = True\n",
        "        else:\n",
        "            self.best_score = score\n",
        "            self.counter = 0"
      ],
      "execution_count": null,
      "outputs": []
    },
    {
      "cell_type": "code",
      "metadata": {
        "id": "9i46RLPXP3oA"
      },
      "source": [
        "def train(net, earlystopping=True):\n",
        "    optimizer = torch.optim.SGD(net.parameters(), lr=0.1, momentum=0.9)\n",
        "    train_history = []\n",
        "    valid_history = []\n",
        "    estop = EarlyStopping(patience=2)\n",
        "    for epoch in range(30):\n",
        "        train_loss = 0.0\n",
        "        for i, data in enumerate(trainloader, 0):\n",
        "            # get the inputs; data is a list of [inputs, labels]\n",
        "            inputs, labels = data\n",
        "            # zero the parameter gradients\n",
        "            optimizer.zero_grad()\n",
        "            # forward + backward + optimize\n",
        "            outputs = net(inputs)\n",
        "            loss = criterion(outputs, labels)\n",
        "            loss.backward()\n",
        "            optimizer.step()\n",
        "            train_loss += loss.item()\n",
        "        valid_loss = validation(net)\n",
        "        train_history.append(train_loss)\n",
        "        valid_history.append(valid_loss)\n",
        "        print('Epoch %02d: train loss %0.5f, validation loss %0.5f' % (epoch, train_loss, valid_loss))\n",
        "        estop.step(valid_loss)\n",
        "        if earlystopping and estop.early_stop:\n",
        "            break\n",
        "    return train_history, valid_history"
      ],
      "execution_count": null,
      "outputs": []
    },
    {
      "cell_type": "code",
      "metadata": {
        "id": "ioyrj1n6P3oA"
      },
      "source": [
        "trainloader = torch.utils.data.DataLoader(trainset, batch_size=512, shuffle=True, num_workers=2)\n",
        "validloader = torch.utils.data.DataLoader(validset, batch_size=512, shuffle=True, num_workers=2)\n",
        "criterion = nn.CrossEntropyLoss()\n",
        "net = SimpleNet()\n",
        "train_history, valid_history = train(net)\n",
        "plot_train_val(train_history, valid_history)"
      ],
      "execution_count": null,
      "outputs": []
    },
    {
      "cell_type": "markdown",
      "metadata": {
        "id": "-3Lt5v-vP3oA"
      },
      "source": [
        "## Dropout"
      ]
    },
    {
      "cell_type": "markdown",
      "metadata": {
        "id": "yWrZwheNP3oA"
      },
      "source": [
        "Another way to prevent overfitting is by not training certain weights at a given update step, leading to greater generalization over the whole network. The classic formulation of this is dropout, where neuron activations are \"dropped out\" (set to zero) with probability *p*. This is as if, for a given update, only a subnetwork is trained: \n",
        "<img src=\"img/dropout_network.png\">\n",
        "Srivastava, Nitish, et al. \"Dropout: a simple way to prevent neural networks from overfitting.\" The journal of machine learning research 15.1 (2014): 1929-1958."
      ]
    },
    {
      "cell_type": "markdown",
      "metadata": {
        "id": "67mfSUnWP3oA"
      },
      "source": [
        "Dropout has shown improvements for overfitting with many different architectures, although the specifics of where to use dropout in a network and what dropout rates to use ($p$) are still not well-defined.\n",
        "\n",
        "<img src=\"img/dropout_results.png\">\n",
        "\n",
        "Torch uses spatial dropout, which is described here: https://arxiv.org/pdf/1411.4280.pdf"
      ]
    },
    {
      "cell_type": "markdown",
      "metadata": {
        "id": "GtM-xLAWP3oA"
      },
      "source": [
        "<div class=\"alert alert-success\">\n",
        "Exercise 7: Create a network that includes at least one dropout layer. How does Dropout influence the training?\n",
        "</div>"
      ]
    },
    {
      "cell_type": "code",
      "metadata": {
        "id": "42DYirrmP3oA"
      },
      "source": [
        "# %load solutions/ex7.py\n",
        "class DropoutNet(nn.Module):\n",
        "    \n",
        "    def __init__(self):\n",
        "        super(DropoutNet, self).__init__()\n",
        "        self.fc1 = nn.Linear(784,600)\n",
        "        self.drop = nn.Dropout(0.25)\n",
        "        self.fc2 = nn.Linear(600, 120)\n",
        "        self.drop = nn.Dropout(0.1)\n",
        "        self.fc3 = nn.Linear(120, 10)\n",
        "        \n",
        "    def forward(self, x):\n",
        "        x = x.view(-1,784)\n",
        "        x = self.fc1(x)\n",
        "        x = self.drop(x)\n",
        "        x = self.fc2(x)\n",
        "        x = self.fc3(x)\n",
        "        return x\n",
        "\n",
        "net = SimpleNet()\n",
        "train_history, valid_history = train(net, earlystopping=False)\n",
        "net = DropoutNet()\n",
        "drop_train_history, drop_valid_history = train(net, earlystopping=False)"
      ],
      "execution_count": null,
      "outputs": []
    },
    {
      "cell_type": "code",
      "metadata": {
        "id": "i19I3lKRP3oB"
      },
      "source": [
        "plt.figure(figsize=(18,6))\n",
        "plt.subplot(1, 2, 1)\n",
        "plt.plot(train_history, label='simple')\n",
        "plt.plot(drop_train_history, label='dropout')\n",
        "plt.subplot(1, 2, 2)\n",
        "plt.plot(valid_history, label='simple')\n",
        "plt.plot(drop_valid_history, label='dropout')\n",
        "plt.legend();"
      ],
      "execution_count": null,
      "outputs": []
    },
    {
      "cell_type": "markdown",
      "metadata": {
        "id": "W444KEJwP3oB"
      },
      "source": [
        "# <a id=\"sec7\">7. Improving Optimization</a>"
      ]
    },
    {
      "cell_type": "markdown",
      "metadata": {
        "id": "SAqFh0vJP3oB"
      },
      "source": [
        "Just to review, training a neural network is a function of maximizing some objective function $Q$; it is a process of optimization. $Q$ can be, for example, a MSE Loss function:\n",
        "$$\n",
        "Q_i(\\theta) = (X(\\theta, i) - h_i)^2\\\\\n",
        "Q(\\theta) = \\frac{1}{n}\\sum_{i=1}^n Q_i(\\theta)\n",
        "$$\n",
        "So far, we've been using SGD for this optimization:"
      ]
    },
    {
      "cell_type": "code",
      "metadata": {
        "id": "vjPIGe-5P3oB"
      },
      "source": [
        "net = SimpleNet()\n",
        "optimizer = torch.optim.SGD(net.parameters(), lr=0.1, momentum=0.9)"
      ],
      "execution_count": null,
      "outputs": []
    },
    {
      "cell_type": "markdown",
      "metadata": {
        "id": "W3nyg_awP3oB"
      },
      "source": [
        "In other words, we're doing our weight ($\\theta$) update according to the following:\n",
        "\n",
        "$$\n",
        "\\Delta \\theta^{(t+1)} \\leftarrow \\alpha\\Delta \\theta^{(t)}-\\eta\\nabla Q_i (\\theta^{(t)})\\\\\n",
        "\\theta^{(t+1)} \\leftarrow \\theta^{(t)} + \\Delta \\theta^{(t+1)}\n",
        "$$\n",
        "\n",
        "These two hyperparameters, learning rate ($\\alpha$) and momentum ($\\eta$), change how the neural network minimizes the loss and can have drastic impact on the learning."
      ]
    },
    {
      "cell_type": "markdown",
      "metadata": {
        "id": "wbwusUtxP3oB"
      },
      "source": [
        "<img src=\"img/sgd.gif\" width=\"80%\">"
      ]
    },
    {
      "cell_type": "markdown",
      "metadata": {
        "id": "5f7ukdtMP3oB"
      },
      "source": [
        "A popular optimizer is the Adaptive Moment Estimation ([Adam](https://arxiv.org/pdf/1412.6980.pdf)) optimizer. This optimizer takes into account the recent weight changes when making a new update:\n",
        "\n",
        "$$\n",
        "m_\\theta^{(t+1)} \\leftarrow \\beta_1 m_\\theta^{(t)} + (1-\\beta_1) \\nabla Q_i(\\theta^{(t)})\\\\\n",
        "v_\\theta^{(t+1)} \\leftarrow \\beta_2 v_\\theta^{(t)} + (1-\\beta_2)(\\nabla Q_i(\\theta^{(t)}))^2\\\\\n",
        "\\hat{m}_\\theta = \\frac{m_\\theta^{(t+1)}}{1-\\beta_1^t}\\\\\n",
        "\\hat{v}_\\theta = \\frac{v_\\theta^{(t+1)}}{1-\\beta_2^t}\\\\\n",
        "\\theta^{(t+1)} \\leftarrow \\theta^{(t)} - \\eta\\frac{\\hat{m}_\\theta}{\\sqrt{\\hat{v}_\\theta}+\\epsilon}\n",
        "$$\n",
        "\n",
        "While this optimizer can often perform better than SGD, it introduces new hyperparameter choices: $\\beta_1$ (update to $\\hat{m}$), $\\beta_2$ (update to $\\hat{v}$), and $epsilon$ (ratio between $\\hat{m}$ and $\\hat{v}$). Let's see the defaults for torch:"
      ]
    },
    {
      "cell_type": "code",
      "metadata": {
        "id": "8g5X54MIP3oB"
      },
      "source": [
        "help(torch.optim.Adam)"
      ],
      "execution_count": null,
      "outputs": []
    },
    {
      "cell_type": "markdown",
      "metadata": {
        "id": "i9INRNaHP3oB"
      },
      "source": [
        "As with SGD, the choice of hyperparameters heavily affects the training."
      ]
    },
    {
      "cell_type": "markdown",
      "metadata": {
        "id": "sDkQlVRRP3oB"
      },
      "source": [
        "<img src=\"img/adam.gif\" width=\"80%\">"
      ]
    },
    {
      "cell_type": "markdown",
      "metadata": {
        "id": "iLnhbTfpP3oB"
      },
      "source": [
        "<div class=\"alert alert-success\">\n",
        "Exercise 8: change the optimizer in our training method to Adam and train one of the networks we've defined.\n",
        "</div>"
      ]
    },
    {
      "cell_type": "code",
      "metadata": {
        "id": "41Vm74uSP3oB"
      },
      "source": [
        "# %load solutions/ex8.py"
      ],
      "execution_count": null,
      "outputs": []
    },
    {
      "cell_type": "markdown",
      "metadata": {
        "id": "CniS9l-yP3oB"
      },
      "source": [
        "In this notebook, our training code has gotten very long. Thankfully, `torch` comes with a high-level library [`ignite`](https://pytorch.org/ignite/) which allows us to easily train and including things like EarlyStopping and logging. That's out of the scope of the material for today, but please look at [this notebook](https://github.com/pytorch/ignite/blob/master/examples/notebooks/FashionMNIST.ipynb) before next class.\n",
        "\n",
        "Some other libraries like `ignite`:\n",
        "+ https://docs.fast.ai/\n",
        "+ https://github.com/skorch-dev/skorch\n",
        "+ https://github.com/williamFalcon/pytorch-lightning"
      ]
    },
    {
      "cell_type": "code",
      "metadata": {
        "id": "c9r2bJ6SP3oB"
      },
      "source": [
        ""
      ],
      "execution_count": null,
      "outputs": []
    }
  ]
}